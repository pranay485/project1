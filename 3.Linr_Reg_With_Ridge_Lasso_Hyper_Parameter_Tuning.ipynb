{
 "cells": [
  {
   "cell_type": "code",
   "execution_count": 1,
   "id": "07321948",
   "metadata": {},
   "outputs": [],
   "source": [
    "import warnings\n",
    "warnings.filterwarnings('ignore',category=FutureWarning)\n",
    "import pandas as pd\n",
    "import numpy as np\n",
    "import os\n",
    "import re\n",
    "datapath = r'E:\\Pranay\\Training\\Linear_Regression\\Linr_Reg_Data_Set'\n",
    "os.chdir(datapath)\n",
    "import seaborn as sns"
   ]
  },
  {
   "cell_type": "code",
   "execution_count": 2,
   "id": "52114adb",
   "metadata": {},
   "outputs": [],
   "source": [
    "sales_data=pd.read_csv(\"sales_data.csv\")"
   ]
  },
  {
   "cell_type": "code",
   "execution_count": 3,
   "id": "bbdc9a8a",
   "metadata": {},
   "outputs": [
    {
     "data": {
      "text/html": [
       "<div>\n",
       "<style scoped>\n",
       "    .dataframe tbody tr th:only-of-type {\n",
       "        vertical-align: middle;\n",
       "    }\n",
       "\n",
       "    .dataframe tbody tr th {\n",
       "        vertical-align: top;\n",
       "    }\n",
       "\n",
       "    .dataframe thead th {\n",
       "        text-align: right;\n",
       "    }\n",
       "</style>\n",
       "<table border=\"1\" class=\"dataframe\">\n",
       "  <thead>\n",
       "    <tr style=\"text-align: right;\">\n",
       "      <th></th>\n",
       "      <th>system_calendar_key_N</th>\n",
       "      <th>product_id</th>\n",
       "      <th>sales_dollars_value</th>\n",
       "      <th>sales_units_value</th>\n",
       "      <th>sales_lbs_value</th>\n",
       "    </tr>\n",
       "  </thead>\n",
       "  <tbody>\n",
       "    <tr>\n",
       "      <th>0</th>\n",
       "      <td>20160109</td>\n",
       "      <td>1</td>\n",
       "      <td>13927.0</td>\n",
       "      <td>934</td>\n",
       "      <td>18680</td>\n",
       "    </tr>\n",
       "    <tr>\n",
       "      <th>1</th>\n",
       "      <td>20160109</td>\n",
       "      <td>3</td>\n",
       "      <td>10289.0</td>\n",
       "      <td>1592</td>\n",
       "      <td>28646</td>\n",
       "    </tr>\n",
       "    <tr>\n",
       "      <th>2</th>\n",
       "      <td>20160109</td>\n",
       "      <td>4</td>\n",
       "      <td>357.0</td>\n",
       "      <td>22</td>\n",
       "      <td>440</td>\n",
       "    </tr>\n",
       "    <tr>\n",
       "      <th>3</th>\n",
       "      <td>20160109</td>\n",
       "      <td>6</td>\n",
       "      <td>23113.0</td>\n",
       "      <td>2027</td>\n",
       "      <td>81088</td>\n",
       "    </tr>\n",
       "    <tr>\n",
       "      <th>4</th>\n",
       "      <td>20160109</td>\n",
       "      <td>7</td>\n",
       "      <td>23177.0</td>\n",
       "      <td>3231</td>\n",
       "      <td>58164</td>\n",
       "    </tr>\n",
       "  </tbody>\n",
       "</table>\n",
       "</div>"
      ],
      "text/plain": [
       "   system_calendar_key_N  product_id  sales_dollars_value  sales_units_value  \\\n",
       "0               20160109           1              13927.0                934   \n",
       "1               20160109           3              10289.0               1592   \n",
       "2               20160109           4                357.0                 22   \n",
       "3               20160109           6              23113.0               2027   \n",
       "4               20160109           7              23177.0               3231   \n",
       "\n",
       "   sales_lbs_value  \n",
       "0            18680  \n",
       "1            28646  \n",
       "2              440  \n",
       "3            81088  \n",
       "4            58164  "
      ]
     },
     "execution_count": 3,
     "metadata": {},
     "output_type": "execute_result"
    }
   ],
   "source": [
    "sales_data.head(5)"
   ]
  },
  {
   "cell_type": "code",
   "execution_count": 4,
   "id": "2376d521",
   "metadata": {},
   "outputs": [
    {
     "data": {
      "text/html": [
       "<div>\n",
       "<style scoped>\n",
       "    .dataframe tbody tr th:only-of-type {\n",
       "        vertical-align: middle;\n",
       "    }\n",
       "\n",
       "    .dataframe tbody tr th {\n",
       "        vertical-align: top;\n",
       "    }\n",
       "\n",
       "    .dataframe thead th {\n",
       "        text-align: right;\n",
       "    }\n",
       "</style>\n",
       "<table border=\"1\" class=\"dataframe\">\n",
       "  <thead>\n",
       "    <tr style=\"text-align: right;\">\n",
       "      <th></th>\n",
       "      <th>system_calendar_key_N</th>\n",
       "      <th>product_id</th>\n",
       "      <th>sales_dollars_value</th>\n",
       "      <th>sales_units_value</th>\n",
       "      <th>sales_lbs_value</th>\n",
       "    </tr>\n",
       "  </thead>\n",
       "  <tbody>\n",
       "    <tr>\n",
       "      <th>4526177</th>\n",
       "      <td>20181027</td>\n",
       "      <td>47536</td>\n",
       "      <td>8.0</td>\n",
       "      <td>2</td>\n",
       "      <td>3</td>\n",
       "    </tr>\n",
       "    <tr>\n",
       "      <th>4526178</th>\n",
       "      <td>20181027</td>\n",
       "      <td>47539</td>\n",
       "      <td>391.0</td>\n",
       "      <td>39</td>\n",
       "      <td>68</td>\n",
       "    </tr>\n",
       "    <tr>\n",
       "      <th>4526179</th>\n",
       "      <td>20181027</td>\n",
       "      <td>47543</td>\n",
       "      <td>105.0</td>\n",
       "      <td>59</td>\n",
       "      <td>48</td>\n",
       "    </tr>\n",
       "    <tr>\n",
       "      <th>4526180</th>\n",
       "      <td>20181027</td>\n",
       "      <td>47544</td>\n",
       "      <td>3720.0</td>\n",
       "      <td>1246</td>\n",
       "      <td>4361</td>\n",
       "    </tr>\n",
       "    <tr>\n",
       "      <th>4526181</th>\n",
       "      <td>20181027</td>\n",
       "      <td>47545</td>\n",
       "      <td>1729.0</td>\n",
       "      <td>2016</td>\n",
       "      <td>378</td>\n",
       "    </tr>\n",
       "  </tbody>\n",
       "</table>\n",
       "</div>"
      ],
      "text/plain": [
       "         system_calendar_key_N  product_id  sales_dollars_value  \\\n",
       "4526177               20181027       47536                  8.0   \n",
       "4526178               20181027       47539                391.0   \n",
       "4526179               20181027       47543                105.0   \n",
       "4526180               20181027       47544               3720.0   \n",
       "4526181               20181027       47545               1729.0   \n",
       "\n",
       "         sales_units_value  sales_lbs_value  \n",
       "4526177                  2                3  \n",
       "4526178                 39               68  \n",
       "4526179                 59               48  \n",
       "4526180               1246             4361  \n",
       "4526181               2016              378  "
      ]
     },
     "execution_count": 4,
     "metadata": {},
     "output_type": "execute_result"
    }
   ],
   "source": [
    "sales_data.tail(5)"
   ]
  },
  {
   "cell_type": "code",
   "execution_count": 5,
   "id": "65d6bb68",
   "metadata": {},
   "outputs": [
    {
     "data": {
      "text/plain": [
       "(4526182, 5)"
      ]
     },
     "execution_count": 5,
     "metadata": {},
     "output_type": "execute_result"
    }
   ],
   "source": [
    "sales_data.shape"
   ]
  },
  {
   "cell_type": "code",
   "execution_count": 6,
   "id": "bdf01884",
   "metadata": {},
   "outputs": [
    {
     "data": {
      "text/plain": [
       "system_calendar_key_N    0\n",
       "product_id               0\n",
       "sales_dollars_value      0\n",
       "sales_units_value        0\n",
       "sales_lbs_value          0\n",
       "dtype: int64"
      ]
     },
     "execution_count": 6,
     "metadata": {},
     "output_type": "execute_result"
    }
   ],
   "source": [
    "sales_data.isnull().sum()"
   ]
  },
  {
   "cell_type": "code",
   "execution_count": 7,
   "id": "58ebc339",
   "metadata": {},
   "outputs": [
    {
     "data": {
      "text/html": [
       "<div>\n",
       "<style scoped>\n",
       "    .dataframe tbody tr th:only-of-type {\n",
       "        vertical-align: middle;\n",
       "    }\n",
       "\n",
       "    .dataframe tbody tr th {\n",
       "        vertical-align: top;\n",
       "    }\n",
       "\n",
       "    .dataframe thead th {\n",
       "        text-align: right;\n",
       "    }\n",
       "</style>\n",
       "<table border=\"1\" class=\"dataframe\">\n",
       "  <thead>\n",
       "    <tr style=\"text-align: right;\">\n",
       "      <th></th>\n",
       "      <th>count</th>\n",
       "      <th>mean</th>\n",
       "      <th>std</th>\n",
       "      <th>min</th>\n",
       "      <th>25%</th>\n",
       "      <th>50%</th>\n",
       "      <th>75%</th>\n",
       "      <th>max</th>\n",
       "    </tr>\n",
       "  </thead>\n",
       "  <tbody>\n",
       "    <tr>\n",
       "      <th>system_calendar_key_N</th>\n",
       "      <td>4526182.0</td>\n",
       "      <td>2.017505e+07</td>\n",
       "      <td>10735.371398</td>\n",
       "      <td>20160109.0</td>\n",
       "      <td>20161231.0</td>\n",
       "      <td>20171209.0</td>\n",
       "      <td>20181103.0</td>\n",
       "      <td>20191005.0</td>\n",
       "    </tr>\n",
       "    <tr>\n",
       "      <th>product_id</th>\n",
       "      <td>4526182.0</td>\n",
       "      <td>2.885857e+04</td>\n",
       "      <td>15312.536560</td>\n",
       "      <td>1.0</td>\n",
       "      <td>15069.0</td>\n",
       "      <td>29981.0</td>\n",
       "      <td>41513.0</td>\n",
       "      <td>57317.0</td>\n",
       "    </tr>\n",
       "    <tr>\n",
       "      <th>sales_dollars_value</th>\n",
       "      <td>4526182.0</td>\n",
       "      <td>2.159454e+04</td>\n",
       "      <td>78180.565626</td>\n",
       "      <td>0.0</td>\n",
       "      <td>523.0</td>\n",
       "      <td>2655.0</td>\n",
       "      <td>11765.0</td>\n",
       "      <td>4395964.0</td>\n",
       "    </tr>\n",
       "    <tr>\n",
       "      <th>sales_units_value</th>\n",
       "      <td>4526182.0</td>\n",
       "      <td>5.160053e+03</td>\n",
       "      <td>26853.407825</td>\n",
       "      <td>1.0</td>\n",
       "      <td>80.0</td>\n",
       "      <td>403.0</td>\n",
       "      <td>1807.0</td>\n",
       "      <td>873998.0</td>\n",
       "    </tr>\n",
       "    <tr>\n",
       "      <th>sales_lbs_value</th>\n",
       "      <td>4526182.0</td>\n",
       "      <td>1.715339e+04</td>\n",
       "      <td>127340.124382</td>\n",
       "      <td>0.0</td>\n",
       "      <td>86.0</td>\n",
       "      <td>611.0</td>\n",
       "      <td>3770.0</td>\n",
       "      <td>11003100.0</td>\n",
       "    </tr>\n",
       "  </tbody>\n",
       "</table>\n",
       "</div>"
      ],
      "text/plain": [
       "                           count          mean            std         min  \\\n",
       "system_calendar_key_N  4526182.0  2.017505e+07   10735.371398  20160109.0   \n",
       "product_id             4526182.0  2.885857e+04   15312.536560         1.0   \n",
       "sales_dollars_value    4526182.0  2.159454e+04   78180.565626         0.0   \n",
       "sales_units_value      4526182.0  5.160053e+03   26853.407825         1.0   \n",
       "sales_lbs_value        4526182.0  1.715339e+04  127340.124382         0.0   \n",
       "\n",
       "                              25%         50%         75%         max  \n",
       "system_calendar_key_N  20161231.0  20171209.0  20181103.0  20191005.0  \n",
       "product_id                15069.0     29981.0     41513.0     57317.0  \n",
       "sales_dollars_value         523.0      2655.0     11765.0   4395964.0  \n",
       "sales_units_value            80.0       403.0      1807.0    873998.0  \n",
       "sales_lbs_value              86.0       611.0      3770.0  11003100.0  "
      ]
     },
     "execution_count": 7,
     "metadata": {},
     "output_type": "execute_result"
    }
   ],
   "source": [
    "sales_data.describe().T"
   ]
  },
  {
   "cell_type": "code",
   "execution_count": 8,
   "id": "aeb6c34e",
   "metadata": {},
   "outputs": [
    {
     "data": {
      "text/html": [
       "<div>\n",
       "<style scoped>\n",
       "    .dataframe tbody tr th:only-of-type {\n",
       "        vertical-align: middle;\n",
       "    }\n",
       "\n",
       "    .dataframe tbody tr th {\n",
       "        vertical-align: top;\n",
       "    }\n",
       "\n",
       "    .dataframe thead th {\n",
       "        text-align: right;\n",
       "    }\n",
       "</style>\n",
       "<table border=\"1\" class=\"dataframe\">\n",
       "  <thead>\n",
       "    <tr style=\"text-align: right;\">\n",
       "      <th></th>\n",
       "      <th>system_calendar_key_N</th>\n",
       "      <th>product_id</th>\n",
       "      <th>sales_dollars_value</th>\n",
       "      <th>sales_units_value</th>\n",
       "      <th>sales_lbs_value</th>\n",
       "    </tr>\n",
       "  </thead>\n",
       "  <tbody>\n",
       "    <tr>\n",
       "      <th>count</th>\n",
       "      <td>4.526182e+06</td>\n",
       "      <td>4.526182e+06</td>\n",
       "      <td>4.526182e+06</td>\n",
       "      <td>4.526182e+06</td>\n",
       "      <td>4.526182e+06</td>\n",
       "    </tr>\n",
       "    <tr>\n",
       "      <th>mean</th>\n",
       "      <td>2.017505e+07</td>\n",
       "      <td>2.885857e+04</td>\n",
       "      <td>2.159454e+04</td>\n",
       "      <td>5.160053e+03</td>\n",
       "      <td>1.715339e+04</td>\n",
       "    </tr>\n",
       "    <tr>\n",
       "      <th>std</th>\n",
       "      <td>1.073537e+04</td>\n",
       "      <td>1.531254e+04</td>\n",
       "      <td>7.818057e+04</td>\n",
       "      <td>2.685341e+04</td>\n",
       "      <td>1.273401e+05</td>\n",
       "    </tr>\n",
       "    <tr>\n",
       "      <th>min</th>\n",
       "      <td>2.016011e+07</td>\n",
       "      <td>1.000000e+00</td>\n",
       "      <td>0.000000e+00</td>\n",
       "      <td>1.000000e+00</td>\n",
       "      <td>0.000000e+00</td>\n",
       "    </tr>\n",
       "    <tr>\n",
       "      <th>25%</th>\n",
       "      <td>2.016123e+07</td>\n",
       "      <td>1.506900e+04</td>\n",
       "      <td>5.230000e+02</td>\n",
       "      <td>8.000000e+01</td>\n",
       "      <td>8.600000e+01</td>\n",
       "    </tr>\n",
       "    <tr>\n",
       "      <th>50%</th>\n",
       "      <td>2.017121e+07</td>\n",
       "      <td>2.998100e+04</td>\n",
       "      <td>2.655000e+03</td>\n",
       "      <td>4.030000e+02</td>\n",
       "      <td>6.110000e+02</td>\n",
       "    </tr>\n",
       "    <tr>\n",
       "      <th>75%</th>\n",
       "      <td>2.018110e+07</td>\n",
       "      <td>4.151300e+04</td>\n",
       "      <td>1.176500e+04</td>\n",
       "      <td>1.807000e+03</td>\n",
       "      <td>3.770000e+03</td>\n",
       "    </tr>\n",
       "    <tr>\n",
       "      <th>max</th>\n",
       "      <td>2.019100e+07</td>\n",
       "      <td>5.731700e+04</td>\n",
       "      <td>4.395964e+06</td>\n",
       "      <td>8.739980e+05</td>\n",
       "      <td>1.100310e+07</td>\n",
       "    </tr>\n",
       "  </tbody>\n",
       "</table>\n",
       "</div>"
      ],
      "text/plain": [
       "       system_calendar_key_N    product_id  sales_dollars_value  \\\n",
       "count           4.526182e+06  4.526182e+06         4.526182e+06   \n",
       "mean            2.017505e+07  2.885857e+04         2.159454e+04   \n",
       "std             1.073537e+04  1.531254e+04         7.818057e+04   \n",
       "min             2.016011e+07  1.000000e+00         0.000000e+00   \n",
       "25%             2.016123e+07  1.506900e+04         5.230000e+02   \n",
       "50%             2.017121e+07  2.998100e+04         2.655000e+03   \n",
       "75%             2.018110e+07  4.151300e+04         1.176500e+04   \n",
       "max             2.019100e+07  5.731700e+04         4.395964e+06   \n",
       "\n",
       "       sales_units_value  sales_lbs_value  \n",
       "count       4.526182e+06     4.526182e+06  \n",
       "mean        5.160053e+03     1.715339e+04  \n",
       "std         2.685341e+04     1.273401e+05  \n",
       "min         1.000000e+00     0.000000e+00  \n",
       "25%         8.000000e+01     8.600000e+01  \n",
       "50%         4.030000e+02     6.110000e+02  \n",
       "75%         1.807000e+03     3.770000e+03  \n",
       "max         8.739980e+05     1.100310e+07  "
      ]
     },
     "execution_count": 8,
     "metadata": {},
     "output_type": "execute_result"
    }
   ],
   "source": [
    "sales_data.describe()"
   ]
  },
  {
   "cell_type": "code",
   "execution_count": 9,
   "id": "c2736b2d",
   "metadata": {},
   "outputs": [
    {
     "name": "stdout",
     "output_type": "stream",
     "text": [
      "<class 'pandas.core.frame.DataFrame'>\n",
      "RangeIndex: 4526182 entries, 0 to 4526181\n",
      "Data columns (total 5 columns):\n",
      " #   Column                 Dtype  \n",
      "---  ------                 -----  \n",
      " 0   system_calendar_key_N  int64  \n",
      " 1   product_id             int64  \n",
      " 2   sales_dollars_value    float64\n",
      " 3   sales_units_value      int64  \n",
      " 4   sales_lbs_value        int64  \n",
      "dtypes: float64(1), int64(4)\n",
      "memory usage: 172.7 MB\n"
     ]
    }
   ],
   "source": [
    "sales_data.info()"
   ]
  },
  {
   "cell_type": "code",
   "execution_count": 10,
   "id": "d108da8c",
   "metadata": {},
   "outputs": [],
   "source": [
    "from datetime import datetime"
   ]
  },
  {
   "cell_type": "code",
   "execution_count": 11,
   "id": "4a64d2fa",
   "metadata": {},
   "outputs": [],
   "source": [
    "sales_data['system_calendar_key_N']=pd.to_datetime(sales_data['system_calendar_key_N'],format='%Y%m%d', errors='ignore')"
   ]
  },
  {
   "cell_type": "code",
   "execution_count": 12,
   "id": "3070b06c",
   "metadata": {},
   "outputs": [
    {
     "name": "stdout",
     "output_type": "stream",
     "text": [
      "system_calendar_key_N    datetime64[ns]\n",
      "product_id                        int64\n",
      "sales_dollars_value             float64\n",
      "sales_units_value                 int64\n",
      "sales_lbs_value                   int64\n",
      "dtype: object\n"
     ]
    }
   ],
   "source": [
    "print(sales_data.dtypes)"
   ]
  },
  {
   "cell_type": "code",
   "execution_count": 13,
   "id": "62695320",
   "metadata": {},
   "outputs": [
    {
     "data": {
      "text/html": [
       "<div>\n",
       "<style scoped>\n",
       "    .dataframe tbody tr th:only-of-type {\n",
       "        vertical-align: middle;\n",
       "    }\n",
       "\n",
       "    .dataframe tbody tr th {\n",
       "        vertical-align: top;\n",
       "    }\n",
       "\n",
       "    .dataframe thead th {\n",
       "        text-align: right;\n",
       "    }\n",
       "</style>\n",
       "<table border=\"1\" class=\"dataframe\">\n",
       "  <thead>\n",
       "    <tr style=\"text-align: right;\">\n",
       "      <th></th>\n",
       "      <th>system_calendar_key_N</th>\n",
       "      <th>product_id</th>\n",
       "      <th>sales_dollars_value</th>\n",
       "      <th>sales_units_value</th>\n",
       "      <th>sales_lbs_value</th>\n",
       "    </tr>\n",
       "  </thead>\n",
       "  <tbody>\n",
       "    <tr>\n",
       "      <th>0</th>\n",
       "      <td>2016-01-09</td>\n",
       "      <td>1</td>\n",
       "      <td>13927.0</td>\n",
       "      <td>934</td>\n",
       "      <td>18680</td>\n",
       "    </tr>\n",
       "    <tr>\n",
       "      <th>1</th>\n",
       "      <td>2016-01-09</td>\n",
       "      <td>3</td>\n",
       "      <td>10289.0</td>\n",
       "      <td>1592</td>\n",
       "      <td>28646</td>\n",
       "    </tr>\n",
       "    <tr>\n",
       "      <th>2</th>\n",
       "      <td>2016-01-09</td>\n",
       "      <td>4</td>\n",
       "      <td>357.0</td>\n",
       "      <td>22</td>\n",
       "      <td>440</td>\n",
       "    </tr>\n",
       "    <tr>\n",
       "      <th>3</th>\n",
       "      <td>2016-01-09</td>\n",
       "      <td>6</td>\n",
       "      <td>23113.0</td>\n",
       "      <td>2027</td>\n",
       "      <td>81088</td>\n",
       "    </tr>\n",
       "    <tr>\n",
       "      <th>4</th>\n",
       "      <td>2016-01-09</td>\n",
       "      <td>7</td>\n",
       "      <td>23177.0</td>\n",
       "      <td>3231</td>\n",
       "      <td>58164</td>\n",
       "    </tr>\n",
       "  </tbody>\n",
       "</table>\n",
       "</div>"
      ],
      "text/plain": [
       "  system_calendar_key_N  product_id  sales_dollars_value  sales_units_value  \\\n",
       "0            2016-01-09           1              13927.0                934   \n",
       "1            2016-01-09           3              10289.0               1592   \n",
       "2            2016-01-09           4                357.0                 22   \n",
       "3            2016-01-09           6              23113.0               2027   \n",
       "4            2016-01-09           7              23177.0               3231   \n",
       "\n",
       "   sales_lbs_value  \n",
       "0            18680  \n",
       "1            28646  \n",
       "2              440  \n",
       "3            81088  \n",
       "4            58164  "
      ]
     },
     "execution_count": 13,
     "metadata": {},
     "output_type": "execute_result"
    }
   ],
   "source": [
    "sales_data.head()"
   ]
  },
  {
   "cell_type": "code",
   "execution_count": 14,
   "id": "cbb84d0c",
   "metadata": {},
   "outputs": [
    {
     "data": {
      "text/plain": [
       "(4526182, 5)"
      ]
     },
     "execution_count": 14,
     "metadata": {},
     "output_type": "execute_result"
    }
   ],
   "source": [
    "sales_data.shape"
   ]
  },
  {
   "cell_type": "code",
   "execution_count": 15,
   "id": "62f531d8",
   "metadata": {},
   "outputs": [],
   "source": [
    "import matplotlib as mpl\n",
    "import matplotlib.pyplot as plt\n",
    "%matplotlib inline"
   ]
  },
  {
   "cell_type": "code",
   "execution_count": 16,
   "id": "b18b90f7",
   "metadata": {},
   "outputs": [],
   "source": [
    "google_search_data=pd.read_csv(\"google_search_data.csv\")"
   ]
  },
  {
   "cell_type": "code",
   "execution_count": 17,
   "id": "4f66608a",
   "metadata": {},
   "outputs": [
    {
     "data": {
      "text/html": [
       "<div>\n",
       "<style scoped>\n",
       "    .dataframe tbody tr th:only-of-type {\n",
       "        vertical-align: middle;\n",
       "    }\n",
       "\n",
       "    .dataframe tbody tr th {\n",
       "        vertical-align: top;\n",
       "    }\n",
       "\n",
       "    .dataframe thead th {\n",
       "        text-align: right;\n",
       "    }\n",
       "</style>\n",
       "<table border=\"1\" class=\"dataframe\">\n",
       "  <thead>\n",
       "    <tr style=\"text-align: right;\">\n",
       "      <th></th>\n",
       "      <th>date</th>\n",
       "      <th>platform</th>\n",
       "      <th>searchVolume</th>\n",
       "      <th>Claim_ID</th>\n",
       "      <th>week_number</th>\n",
       "      <th>year_new</th>\n",
       "    </tr>\n",
       "  </thead>\n",
       "  <tbody>\n",
       "    <tr>\n",
       "      <th>0</th>\n",
       "      <td>05-01-2014</td>\n",
       "      <td>google</td>\n",
       "      <td>349</td>\n",
       "      <td>916</td>\n",
       "      <td>1</td>\n",
       "      <td>2014</td>\n",
       "    </tr>\n",
       "    <tr>\n",
       "      <th>1</th>\n",
       "      <td>06-01-2014</td>\n",
       "      <td>google</td>\n",
       "      <td>349</td>\n",
       "      <td>916</td>\n",
       "      <td>2</td>\n",
       "      <td>2014</td>\n",
       "    </tr>\n",
       "    <tr>\n",
       "      <th>2</th>\n",
       "      <td>07-01-2014</td>\n",
       "      <td>google</td>\n",
       "      <td>697</td>\n",
       "      <td>916</td>\n",
       "      <td>2</td>\n",
       "      <td>2014</td>\n",
       "    </tr>\n",
       "    <tr>\n",
       "      <th>3</th>\n",
       "      <td>10-01-2014</td>\n",
       "      <td>google</td>\n",
       "      <td>349</td>\n",
       "      <td>916</td>\n",
       "      <td>2</td>\n",
       "      <td>2014</td>\n",
       "    </tr>\n",
       "    <tr>\n",
       "      <th>4</th>\n",
       "      <td>20-01-2014</td>\n",
       "      <td>google</td>\n",
       "      <td>697</td>\n",
       "      <td>916</td>\n",
       "      <td>4</td>\n",
       "      <td>2014</td>\n",
       "    </tr>\n",
       "  </tbody>\n",
       "</table>\n",
       "</div>"
      ],
      "text/plain": [
       "         date platform  searchVolume  Claim_ID  week_number  year_new\n",
       "0  05-01-2014   google           349       916            1      2014\n",
       "1  06-01-2014   google           349       916            2      2014\n",
       "2  07-01-2014   google           697       916            2      2014\n",
       "3  10-01-2014   google           349       916            2      2014\n",
       "4  20-01-2014   google           697       916            4      2014"
      ]
     },
     "execution_count": 17,
     "metadata": {},
     "output_type": "execute_result"
    }
   ],
   "source": [
    "google_search_data.head()"
   ]
  },
  {
   "cell_type": "code",
   "execution_count": 18,
   "id": "dfc98264",
   "metadata": {},
   "outputs": [
    {
     "data": {
      "text/html": [
       "<div>\n",
       "<style scoped>\n",
       "    .dataframe tbody tr th:only-of-type {\n",
       "        vertical-align: middle;\n",
       "    }\n",
       "\n",
       "    .dataframe tbody tr th {\n",
       "        vertical-align: top;\n",
       "    }\n",
       "\n",
       "    .dataframe thead th {\n",
       "        text-align: right;\n",
       "    }\n",
       "</style>\n",
       "<table border=\"1\" class=\"dataframe\">\n",
       "  <thead>\n",
       "    <tr style=\"text-align: right;\">\n",
       "      <th></th>\n",
       "      <th>date</th>\n",
       "      <th>platform</th>\n",
       "      <th>searchVolume</th>\n",
       "      <th>Claim_ID</th>\n",
       "      <th>week_number</th>\n",
       "      <th>year_new</th>\n",
       "    </tr>\n",
       "  </thead>\n",
       "  <tbody>\n",
       "    <tr>\n",
       "      <th>181560</th>\n",
       "      <td>05-09-2019</td>\n",
       "      <td>walmart</td>\n",
       "      <td>125</td>\n",
       "      <td>980</td>\n",
       "      <td>36</td>\n",
       "      <td>2019</td>\n",
       "    </tr>\n",
       "    <tr>\n",
       "      <th>181561</th>\n",
       "      <td>22-09-2019</td>\n",
       "      <td>walmart</td>\n",
       "      <td>84</td>\n",
       "      <td>980</td>\n",
       "      <td>38</td>\n",
       "      <td>2019</td>\n",
       "    </tr>\n",
       "    <tr>\n",
       "      <th>181562</th>\n",
       "      <td>26-09-2019</td>\n",
       "      <td>walmart</td>\n",
       "      <td>42</td>\n",
       "      <td>980</td>\n",
       "      <td>39</td>\n",
       "      <td>2019</td>\n",
       "    </tr>\n",
       "    <tr>\n",
       "      <th>181563</th>\n",
       "      <td>15-07-2019</td>\n",
       "      <td>walmart</td>\n",
       "      <td>42</td>\n",
       "      <td>622</td>\n",
       "      <td>29</td>\n",
       "      <td>2019</td>\n",
       "    </tr>\n",
       "    <tr>\n",
       "      <th>181564</th>\n",
       "      <td>02-09-2019</td>\n",
       "      <td>walmart</td>\n",
       "      <td>42</td>\n",
       "      <td>689</td>\n",
       "      <td>36</td>\n",
       "      <td>2019</td>\n",
       "    </tr>\n",
       "  </tbody>\n",
       "</table>\n",
       "</div>"
      ],
      "text/plain": [
       "              date platform  searchVolume  Claim_ID  week_number  year_new\n",
       "181560  05-09-2019  walmart           125       980           36      2019\n",
       "181561  22-09-2019  walmart            84       980           38      2019\n",
       "181562  26-09-2019  walmart            42       980           39      2019\n",
       "181563  15-07-2019  walmart            42       622           29      2019\n",
       "181564  02-09-2019  walmart            42       689           36      2019"
      ]
     },
     "execution_count": 18,
     "metadata": {},
     "output_type": "execute_result"
    }
   ],
   "source": [
    "google_search_data.tail()"
   ]
  },
  {
   "cell_type": "code",
   "execution_count": 19,
   "id": "b5412ab1",
   "metadata": {},
   "outputs": [
    {
     "data": {
      "text/plain": [
       "google     138115\n",
       "amazon      23828\n",
       "chewy       13352\n",
       "walmart      6270\n",
       "Name: platform, dtype: int64"
      ]
     },
     "execution_count": 19,
     "metadata": {},
     "output_type": "execute_result"
    }
   ],
   "source": [
    "google_search_data['platform'].value_counts()"
   ]
  },
  {
   "cell_type": "code",
   "execution_count": 20,
   "id": "283e2769",
   "metadata": {},
   "outputs": [
    {
     "data": {
      "text/plain": [
       "2018    51388\n",
       "2019    38682\n",
       "2017    27399\n",
       "2016    22280\n",
       "2015    21372\n",
       "2014    20444\n",
       "Name: year_new, dtype: int64"
      ]
     },
     "execution_count": 20,
     "metadata": {},
     "output_type": "execute_result"
    }
   ],
   "source": [
    "google_search_data['year_new'].value_counts()"
   ]
  },
  {
   "cell_type": "code",
   "execution_count": 21,
   "id": "9843b7ba",
   "metadata": {},
   "outputs": [
    {
     "data": {
      "text/plain": [
       "(181565, 6)"
      ]
     },
     "execution_count": 21,
     "metadata": {},
     "output_type": "execute_result"
    }
   ],
   "source": [
    "google_search_data.shape"
   ]
  },
  {
   "cell_type": "code",
   "execution_count": 22,
   "id": "dbb47521",
   "metadata": {
    "scrolled": true
   },
   "outputs": [
    {
     "name": "stdout",
     "output_type": "stream",
     "text": [
      "<class 'pandas.core.frame.DataFrame'>\n",
      "RangeIndex: 181565 entries, 0 to 181564\n",
      "Data columns (total 6 columns):\n",
      " #   Column        Non-Null Count   Dtype \n",
      "---  ------        --------------   ----- \n",
      " 0   date          181565 non-null  object\n",
      " 1   platform      181565 non-null  object\n",
      " 2   searchVolume  181565 non-null  int64 \n",
      " 3   Claim_ID      181565 non-null  int64 \n",
      " 4   week_number   181565 non-null  int64 \n",
      " 5   year_new      181565 non-null  int64 \n",
      "dtypes: int64(4), object(2)\n",
      "memory usage: 8.3+ MB\n"
     ]
    }
   ],
   "source": [
    "google_search_data.info()"
   ]
  },
  {
   "cell_type": "code",
   "execution_count": 23,
   "id": "6927e102",
   "metadata": {
    "scrolled": false
   },
   "outputs": [],
   "source": [
    "google_search_data[\"date\"]=pd.to_datetime(google_search_data[\"date\"],format='%d-%m-%Y', errors='ignore')"
   ]
  },
  {
   "cell_type": "code",
   "execution_count": 24,
   "id": "d2003792",
   "metadata": {},
   "outputs": [
    {
     "data": {
      "text/plain": [
       "date            0\n",
       "platform        0\n",
       "searchVolume    0\n",
       "Claim_ID        0\n",
       "week_number     0\n",
       "year_new        0\n",
       "dtype: int64"
      ]
     },
     "execution_count": 24,
     "metadata": {},
     "output_type": "execute_result"
    }
   ],
   "source": [
    "google_search_data.isnull().sum()"
   ]
  },
  {
   "cell_type": "code",
   "execution_count": 25,
   "id": "1c5b28dd",
   "metadata": {},
   "outputs": [
    {
     "data": {
      "text/html": [
       "<div>\n",
       "<style scoped>\n",
       "    .dataframe tbody tr th:only-of-type {\n",
       "        vertical-align: middle;\n",
       "    }\n",
       "\n",
       "    .dataframe tbody tr th {\n",
       "        vertical-align: top;\n",
       "    }\n",
       "\n",
       "    .dataframe thead th {\n",
       "        text-align: right;\n",
       "    }\n",
       "</style>\n",
       "<table border=\"1\" class=\"dataframe\">\n",
       "  <thead>\n",
       "    <tr style=\"text-align: right;\">\n",
       "      <th></th>\n",
       "      <th>date</th>\n",
       "      <th>platform</th>\n",
       "      <th>searchVolume</th>\n",
       "      <th>Claim_ID</th>\n",
       "      <th>week_number</th>\n",
       "      <th>year_new</th>\n",
       "    </tr>\n",
       "  </thead>\n",
       "  <tbody>\n",
       "    <tr>\n",
       "      <th>0</th>\n",
       "      <td>2014-01-05</td>\n",
       "      <td>google</td>\n",
       "      <td>349</td>\n",
       "      <td>916</td>\n",
       "      <td>1</td>\n",
       "      <td>2014</td>\n",
       "    </tr>\n",
       "    <tr>\n",
       "      <th>1</th>\n",
       "      <td>2014-01-06</td>\n",
       "      <td>google</td>\n",
       "      <td>349</td>\n",
       "      <td>916</td>\n",
       "      <td>2</td>\n",
       "      <td>2014</td>\n",
       "    </tr>\n",
       "    <tr>\n",
       "      <th>2</th>\n",
       "      <td>2014-01-07</td>\n",
       "      <td>google</td>\n",
       "      <td>697</td>\n",
       "      <td>916</td>\n",
       "      <td>2</td>\n",
       "      <td>2014</td>\n",
       "    </tr>\n",
       "    <tr>\n",
       "      <th>3</th>\n",
       "      <td>2014-01-10</td>\n",
       "      <td>google</td>\n",
       "      <td>349</td>\n",
       "      <td>916</td>\n",
       "      <td>2</td>\n",
       "      <td>2014</td>\n",
       "    </tr>\n",
       "    <tr>\n",
       "      <th>4</th>\n",
       "      <td>2014-01-20</td>\n",
       "      <td>google</td>\n",
       "      <td>697</td>\n",
       "      <td>916</td>\n",
       "      <td>4</td>\n",
       "      <td>2014</td>\n",
       "    </tr>\n",
       "  </tbody>\n",
       "</table>\n",
       "</div>"
      ],
      "text/plain": [
       "        date platform  searchVolume  Claim_ID  week_number  year_new\n",
       "0 2014-01-05   google           349       916            1      2014\n",
       "1 2014-01-06   google           349       916            2      2014\n",
       "2 2014-01-07   google           697       916            2      2014\n",
       "3 2014-01-10   google           349       916            2      2014\n",
       "4 2014-01-20   google           697       916            4      2014"
      ]
     },
     "execution_count": 25,
     "metadata": {},
     "output_type": "execute_result"
    }
   ],
   "source": [
    "google_search_data.head()"
   ]
  },
  {
   "cell_type": "code",
   "execution_count": 26,
   "id": "ffa6f083",
   "metadata": {},
   "outputs": [
    {
     "name": "stdout",
     "output_type": "stream",
     "text": [
      "<class 'pandas.core.frame.DataFrame'>\n",
      "RangeIndex: 181565 entries, 0 to 181564\n",
      "Data columns (total 6 columns):\n",
      " #   Column        Non-Null Count   Dtype         \n",
      "---  ------        --------------   -----         \n",
      " 0   date          181565 non-null  datetime64[ns]\n",
      " 1   platform      181565 non-null  object        \n",
      " 2   searchVolume  181565 non-null  int64         \n",
      " 3   Claim_ID      181565 non-null  int64         \n",
      " 4   week_number   181565 non-null  int64         \n",
      " 5   year_new      181565 non-null  int64         \n",
      "dtypes: datetime64[ns](1), int64(4), object(1)\n",
      "memory usage: 8.3+ MB\n"
     ]
    }
   ],
   "source": [
    "google_search_data.info()"
   ]
  },
  {
   "cell_type": "code",
   "execution_count": 27,
   "id": "8ccc03d8",
   "metadata": {},
   "outputs": [
    {
     "name": "stdout",
     "output_type": "stream",
     "text": [
      "datetime64[ns]\n"
     ]
    }
   ],
   "source": [
    "print(google_search_data['date'].dtype)"
   ]
  },
  {
   "cell_type": "code",
   "execution_count": 28,
   "id": "2dc5f802",
   "metadata": {},
   "outputs": [],
   "source": [
    "google_search_data.sort_values(by=\"date\",ascending=True, inplace=True)"
   ]
  },
  {
   "cell_type": "code",
   "execution_count": 29,
   "id": "03848e7a",
   "metadata": {},
   "outputs": [
    {
     "data": {
      "text/html": [
       "<div>\n",
       "<style scoped>\n",
       "    .dataframe tbody tr th:only-of-type {\n",
       "        vertical-align: middle;\n",
       "    }\n",
       "\n",
       "    .dataframe tbody tr th {\n",
       "        vertical-align: top;\n",
       "    }\n",
       "\n",
       "    .dataframe thead th {\n",
       "        text-align: right;\n",
       "    }\n",
       "</style>\n",
       "<table border=\"1\" class=\"dataframe\">\n",
       "  <thead>\n",
       "    <tr style=\"text-align: right;\">\n",
       "      <th></th>\n",
       "      <th>date</th>\n",
       "      <th>platform</th>\n",
       "      <th>searchVolume</th>\n",
       "      <th>Claim_ID</th>\n",
       "      <th>week_number</th>\n",
       "      <th>year_new</th>\n",
       "    </tr>\n",
       "  </thead>\n",
       "  <tbody>\n",
       "    <tr>\n",
       "      <th>1147</th>\n",
       "      <td>2014-01-01</td>\n",
       "      <td>google</td>\n",
       "      <td>889</td>\n",
       "      <td>922</td>\n",
       "      <td>1</td>\n",
       "      <td>2014</td>\n",
       "    </tr>\n",
       "    <tr>\n",
       "      <th>2365</th>\n",
       "      <td>2014-01-01</td>\n",
       "      <td>google</td>\n",
       "      <td>240</td>\n",
       "      <td>707</td>\n",
       "      <td>1</td>\n",
       "      <td>2014</td>\n",
       "    </tr>\n",
       "    <tr>\n",
       "      <th>3802</th>\n",
       "      <td>2014-01-01</td>\n",
       "      <td>google</td>\n",
       "      <td>1131</td>\n",
       "      <td>901</td>\n",
       "      <td>1</td>\n",
       "      <td>2014</td>\n",
       "    </tr>\n",
       "    <tr>\n",
       "      <th>13726</th>\n",
       "      <td>2014-01-01</td>\n",
       "      <td>google</td>\n",
       "      <td>1725</td>\n",
       "      <td>177</td>\n",
       "      <td>1</td>\n",
       "      <td>2014</td>\n",
       "    </tr>\n",
       "    <tr>\n",
       "      <th>1827</th>\n",
       "      <td>2014-01-01</td>\n",
       "      <td>google</td>\n",
       "      <td>2636</td>\n",
       "      <td>100</td>\n",
       "      <td>1</td>\n",
       "      <td>2014</td>\n",
       "    </tr>\n",
       "  </tbody>\n",
       "</table>\n",
       "</div>"
      ],
      "text/plain": [
       "            date platform  searchVolume  Claim_ID  week_number  year_new\n",
       "1147  2014-01-01   google           889       922            1      2014\n",
       "2365  2014-01-01   google           240       707            1      2014\n",
       "3802  2014-01-01   google          1131       901            1      2014\n",
       "13726 2014-01-01   google          1725       177            1      2014\n",
       "1827  2014-01-01   google          2636       100            1      2014"
      ]
     },
     "execution_count": 29,
     "metadata": {},
     "output_type": "execute_result"
    }
   ],
   "source": [
    "google_search_data.head()"
   ]
  },
  {
   "cell_type": "code",
   "execution_count": 30,
   "id": "bfb7b745",
   "metadata": {},
   "outputs": [],
   "source": [
    "google_search_data = google_search_data.reset_index(drop=True)"
   ]
  },
  {
   "cell_type": "code",
   "execution_count": 31,
   "id": "9ae33a37",
   "metadata": {},
   "outputs": [
    {
     "data": {
      "text/html": [
       "<div>\n",
       "<style scoped>\n",
       "    .dataframe tbody tr th:only-of-type {\n",
       "        vertical-align: middle;\n",
       "    }\n",
       "\n",
       "    .dataframe tbody tr th {\n",
       "        vertical-align: top;\n",
       "    }\n",
       "\n",
       "    .dataframe thead th {\n",
       "        text-align: right;\n",
       "    }\n",
       "</style>\n",
       "<table border=\"1\" class=\"dataframe\">\n",
       "  <thead>\n",
       "    <tr style=\"text-align: right;\">\n",
       "      <th></th>\n",
       "      <th>date</th>\n",
       "      <th>platform</th>\n",
       "      <th>searchVolume</th>\n",
       "      <th>Claim_ID</th>\n",
       "      <th>week_number</th>\n",
       "      <th>year_new</th>\n",
       "    </tr>\n",
       "  </thead>\n",
       "  <tbody>\n",
       "    <tr>\n",
       "      <th>0</th>\n",
       "      <td>2014-01-01</td>\n",
       "      <td>google</td>\n",
       "      <td>889</td>\n",
       "      <td>922</td>\n",
       "      <td>1</td>\n",
       "      <td>2014</td>\n",
       "    </tr>\n",
       "    <tr>\n",
       "      <th>1</th>\n",
       "      <td>2014-01-01</td>\n",
       "      <td>google</td>\n",
       "      <td>240</td>\n",
       "      <td>707</td>\n",
       "      <td>1</td>\n",
       "      <td>2014</td>\n",
       "    </tr>\n",
       "    <tr>\n",
       "      <th>2</th>\n",
       "      <td>2014-01-01</td>\n",
       "      <td>google</td>\n",
       "      <td>1131</td>\n",
       "      <td>901</td>\n",
       "      <td>1</td>\n",
       "      <td>2014</td>\n",
       "    </tr>\n",
       "    <tr>\n",
       "      <th>3</th>\n",
       "      <td>2014-01-01</td>\n",
       "      <td>google</td>\n",
       "      <td>1725</td>\n",
       "      <td>177</td>\n",
       "      <td>1</td>\n",
       "      <td>2014</td>\n",
       "    </tr>\n",
       "    <tr>\n",
       "      <th>4</th>\n",
       "      <td>2014-01-01</td>\n",
       "      <td>google</td>\n",
       "      <td>2636</td>\n",
       "      <td>100</td>\n",
       "      <td>1</td>\n",
       "      <td>2014</td>\n",
       "    </tr>\n",
       "  </tbody>\n",
       "</table>\n",
       "</div>"
      ],
      "text/plain": [
       "        date platform  searchVolume  Claim_ID  week_number  year_new\n",
       "0 2014-01-01   google           889       922            1      2014\n",
       "1 2014-01-01   google           240       707            1      2014\n",
       "2 2014-01-01   google          1131       901            1      2014\n",
       "3 2014-01-01   google          1725       177            1      2014\n",
       "4 2014-01-01   google          2636       100            1      2014"
      ]
     },
     "execution_count": 31,
     "metadata": {},
     "output_type": "execute_result"
    }
   ],
   "source": [
    "google_search_data.head()"
   ]
  },
  {
   "cell_type": "code",
   "execution_count": 32,
   "id": "d2a50a19",
   "metadata": {},
   "outputs": [],
   "source": [
    "themes_product_data=pd.read_csv(\"Theme_product_list.csv\")"
   ]
  },
  {
   "cell_type": "code",
   "execution_count": 33,
   "id": "192018c6",
   "metadata": {},
   "outputs": [
    {
     "data": {
      "text/plain": [
       "(91485, 2)"
      ]
     },
     "execution_count": 33,
     "metadata": {},
     "output_type": "execute_result"
    }
   ],
   "source": [
    "themes_product_data.shape"
   ]
  },
  {
   "cell_type": "code",
   "execution_count": 34,
   "id": "78bb1656",
   "metadata": {},
   "outputs": [
    {
     "data": {
      "text/html": [
       "<div>\n",
       "<style scoped>\n",
       "    .dataframe tbody tr th:only-of-type {\n",
       "        vertical-align: middle;\n",
       "    }\n",
       "\n",
       "    .dataframe tbody tr th {\n",
       "        vertical-align: top;\n",
       "    }\n",
       "\n",
       "    .dataframe thead th {\n",
       "        text-align: right;\n",
       "    }\n",
       "</style>\n",
       "<table border=\"1\" class=\"dataframe\">\n",
       "  <thead>\n",
       "    <tr style=\"text-align: right;\">\n",
       "      <th></th>\n",
       "      <th>PRODUCT_ID</th>\n",
       "      <th>CLAIM_ID</th>\n",
       "    </tr>\n",
       "  </thead>\n",
       "  <tbody>\n",
       "    <tr>\n",
       "      <th>0</th>\n",
       "      <td>1</td>\n",
       "      <td>0</td>\n",
       "    </tr>\n",
       "    <tr>\n",
       "      <th>1</th>\n",
       "      <td>2</td>\n",
       "      <td>0</td>\n",
       "    </tr>\n",
       "    <tr>\n",
       "      <th>2</th>\n",
       "      <td>3</td>\n",
       "      <td>0</td>\n",
       "    </tr>\n",
       "    <tr>\n",
       "      <th>3</th>\n",
       "      <td>4</td>\n",
       "      <td>0</td>\n",
       "    </tr>\n",
       "    <tr>\n",
       "      <th>4</th>\n",
       "      <td>5</td>\n",
       "      <td>0</td>\n",
       "    </tr>\n",
       "  </tbody>\n",
       "</table>\n",
       "</div>"
      ],
      "text/plain": [
       "   PRODUCT_ID  CLAIM_ID\n",
       "0           1         0\n",
       "1           2         0\n",
       "2           3         0\n",
       "3           4         0\n",
       "4           5         0"
      ]
     },
     "execution_count": 34,
     "metadata": {},
     "output_type": "execute_result"
    }
   ],
   "source": [
    "themes_product_data.head()"
   ]
  },
  {
   "cell_type": "code",
   "execution_count": 35,
   "id": "5ee03c06",
   "metadata": {},
   "outputs": [],
   "source": [
    "social_media_data=pd.read_excel('social_media_data.xlsx')"
   ]
  },
  {
   "cell_type": "code",
   "execution_count": 36,
   "id": "85c7ec64",
   "metadata": {},
   "outputs": [
    {
     "data": {
      "text/html": [
       "<div>\n",
       "<style scoped>\n",
       "    .dataframe tbody tr th:only-of-type {\n",
       "        vertical-align: middle;\n",
       "    }\n",
       "\n",
       "    .dataframe tbody tr th {\n",
       "        vertical-align: top;\n",
       "    }\n",
       "\n",
       "    .dataframe thead th {\n",
       "        text-align: right;\n",
       "    }\n",
       "</style>\n",
       "<table border=\"1\" class=\"dataframe\">\n",
       "  <thead>\n",
       "    <tr style=\"text-align: right;\">\n",
       "      <th></th>\n",
       "      <th>Theme Id</th>\n",
       "      <th>published_date</th>\n",
       "      <th>total_post</th>\n",
       "    </tr>\n",
       "  </thead>\n",
       "  <tbody>\n",
       "    <tr>\n",
       "      <th>0</th>\n",
       "      <td>148.0</td>\n",
       "      <td>2015-01-10 00:00:00</td>\n",
       "      <td>76</td>\n",
       "    </tr>\n",
       "    <tr>\n",
       "      <th>1</th>\n",
       "      <td>148.0</td>\n",
       "      <td>2015-10-10 00:00:00</td>\n",
       "      <td>31</td>\n",
       "    </tr>\n",
       "  </tbody>\n",
       "</table>\n",
       "</div>"
      ],
      "text/plain": [
       "   Theme Id       published_date  total_post\n",
       "0     148.0  2015-01-10 00:00:00          76\n",
       "1     148.0  2015-10-10 00:00:00          31"
      ]
     },
     "execution_count": 36,
     "metadata": {},
     "output_type": "execute_result"
    }
   ],
   "source": [
    "social_media_data.head(2)"
   ]
  },
  {
   "cell_type": "code",
   "execution_count": 37,
   "id": "e83d03b0",
   "metadata": {},
   "outputs": [
    {
     "name": "stdout",
     "output_type": "stream",
     "text": [
      "<class 'pandas.core.frame.DataFrame'>\n",
      "RangeIndex: 533390 entries, 0 to 533389\n",
      "Data columns (total 3 columns):\n",
      " #   Column          Non-Null Count   Dtype  \n",
      "---  ------          --------------   -----  \n",
      " 0   Theme Id        314879 non-null  float64\n",
      " 1   published_date  533390 non-null  object \n",
      " 2   total_post      533390 non-null  int64  \n",
      "dtypes: float64(1), int64(1), object(1)\n",
      "memory usage: 12.2+ MB\n"
     ]
    }
   ],
   "source": [
    "social_media_data.info()"
   ]
  },
  {
   "cell_type": "code",
   "execution_count": 38,
   "id": "dcf2a4e1",
   "metadata": {},
   "outputs": [
    {
     "data": {
      "text/plain": [
       "(533390, 3)"
      ]
     },
     "execution_count": 38,
     "metadata": {},
     "output_type": "execute_result"
    }
   ],
   "source": [
    "social_media_data.shape"
   ]
  },
  {
   "cell_type": "code",
   "execution_count": 39,
   "id": "b1e5a6a8",
   "metadata": {},
   "outputs": [
    {
     "data": {
      "text/plain": [
       "Theme Id          218511\n",
       "published_date         0\n",
       "total_post             0\n",
       "dtype: int64"
      ]
     },
     "execution_count": 39,
     "metadata": {},
     "output_type": "execute_result"
    }
   ],
   "source": [
    "social_media_data.isnull().sum()"
   ]
  },
  {
   "cell_type": "code",
   "execution_count": 40,
   "id": "de238d9b",
   "metadata": {},
   "outputs": [],
   "source": [
    "social_media_data = social_media_data.dropna(subset=['Theme Id'])"
   ]
  },
  {
   "cell_type": "code",
   "execution_count": 41,
   "id": "dde85ad5",
   "metadata": {},
   "outputs": [
    {
     "data": {
      "text/plain": [
       "(314879, 3)"
      ]
     },
     "execution_count": 41,
     "metadata": {},
     "output_type": "execute_result"
    }
   ],
   "source": [
    "social_media_data.shape"
   ]
  },
  {
   "cell_type": "code",
   "execution_count": 42,
   "id": "53eae9ed",
   "metadata": {},
   "outputs": [],
   "source": [
    "social_media_data.reset_index(drop=True, inplace=True)"
   ]
  },
  {
   "cell_type": "code",
   "execution_count": 43,
   "id": "9199af7e",
   "metadata": {},
   "outputs": [
    {
     "name": "stdout",
     "output_type": "stream",
     "text": [
      "<class 'pandas.core.frame.DataFrame'>\n",
      "RangeIndex: 314879 entries, 0 to 314878\n",
      "Data columns (total 3 columns):\n",
      " #   Column          Non-Null Count   Dtype  \n",
      "---  ------          --------------   -----  \n",
      " 0   Theme Id        314879 non-null  float64\n",
      " 1   published_date  314879 non-null  object \n",
      " 2   total_post      314879 non-null  int64  \n",
      "dtypes: float64(1), int64(1), object(1)\n",
      "memory usage: 7.2+ MB\n"
     ]
    }
   ],
   "source": [
    "social_media_data.info()"
   ]
  },
  {
   "cell_type": "code",
   "execution_count": 44,
   "id": "c77b0d2f",
   "metadata": {},
   "outputs": [
    {
     "data": {
      "text/html": [
       "<div>\n",
       "<style scoped>\n",
       "    .dataframe tbody tr th:only-of-type {\n",
       "        vertical-align: middle;\n",
       "    }\n",
       "\n",
       "    .dataframe tbody tr th {\n",
       "        vertical-align: top;\n",
       "    }\n",
       "\n",
       "    .dataframe thead th {\n",
       "        text-align: right;\n",
       "    }\n",
       "</style>\n",
       "<table border=\"1\" class=\"dataframe\">\n",
       "  <thead>\n",
       "    <tr style=\"text-align: right;\">\n",
       "      <th></th>\n",
       "      <th>Theme Id</th>\n",
       "      <th>published_date</th>\n",
       "      <th>total_post</th>\n",
       "    </tr>\n",
       "  </thead>\n",
       "  <tbody>\n",
       "    <tr>\n",
       "      <th>0</th>\n",
       "      <td>148.0</td>\n",
       "      <td>2015-01-10 00:00:00</td>\n",
       "      <td>76</td>\n",
       "    </tr>\n",
       "    <tr>\n",
       "      <th>1</th>\n",
       "      <td>148.0</td>\n",
       "      <td>2015-10-10 00:00:00</td>\n",
       "      <td>31</td>\n",
       "    </tr>\n",
       "    <tr>\n",
       "      <th>2</th>\n",
       "      <td>148.0</td>\n",
       "      <td>2015-11-10 00:00:00</td>\n",
       "      <td>65</td>\n",
       "    </tr>\n",
       "    <tr>\n",
       "      <th>3</th>\n",
       "      <td>148.0</td>\n",
       "      <td>2015-12-10 00:00:00</td>\n",
       "      <td>88</td>\n",
       "    </tr>\n",
       "    <tr>\n",
       "      <th>4</th>\n",
       "      <td>148.0</td>\n",
       "      <td>10/13/2015</td>\n",
       "      <td>85</td>\n",
       "    </tr>\n",
       "  </tbody>\n",
       "</table>\n",
       "</div>"
      ],
      "text/plain": [
       "   Theme Id       published_date  total_post\n",
       "0     148.0  2015-01-10 00:00:00          76\n",
       "1     148.0  2015-10-10 00:00:00          31\n",
       "2     148.0  2015-11-10 00:00:00          65\n",
       "3     148.0  2015-12-10 00:00:00          88\n",
       "4     148.0           10/13/2015          85"
      ]
     },
     "execution_count": 44,
     "metadata": {},
     "output_type": "execute_result"
    }
   ],
   "source": [
    "social_media_data.head()"
   ]
  },
  {
   "cell_type": "code",
   "execution_count": 45,
   "id": "9920e424",
   "metadata": {},
   "outputs": [],
   "source": [
    "social_media_data['Theme Id']=social_media_data['Theme Id'].astype('int64') "
   ]
  },
  {
   "cell_type": "code",
   "execution_count": 46,
   "id": "ca876cf0",
   "metadata": {},
   "outputs": [
    {
     "name": "stdout",
     "output_type": "stream",
     "text": [
      "<class 'pandas.core.frame.DataFrame'>\n",
      "RangeIndex: 314879 entries, 0 to 314878\n",
      "Data columns (total 3 columns):\n",
      " #   Column          Non-Null Count   Dtype \n",
      "---  ------          --------------   ----- \n",
      " 0   Theme Id        314879 non-null  int64 \n",
      " 1   published_date  314879 non-null  object\n",
      " 2   total_post      314879 non-null  int64 \n",
      "dtypes: int64(2), object(1)\n",
      "memory usage: 7.2+ MB\n"
     ]
    }
   ],
   "source": [
    "social_media_data.info()"
   ]
  },
  {
   "cell_type": "code",
   "execution_count": 47,
   "id": "949e129b",
   "metadata": {},
   "outputs": [],
   "source": [
    "#social_media_data['published_date']=pd.to_datetime(social_media_data['published_date'])"
   ]
  },
  {
   "cell_type": "code",
   "execution_count": 48,
   "id": "25fc56e6",
   "metadata": {},
   "outputs": [],
   "source": [
    "product_manufacture_list=pd.read_csv(\"product_manufacturer_list.csv\")"
   ]
  },
  {
   "cell_type": "code",
   "execution_count": 49,
   "id": "5674684c",
   "metadata": {},
   "outputs": [
    {
     "data": {
      "text/html": [
       "<div>\n",
       "<style scoped>\n",
       "    .dataframe tbody tr th:only-of-type {\n",
       "        vertical-align: middle;\n",
       "    }\n",
       "\n",
       "    .dataframe tbody tr th {\n",
       "        vertical-align: top;\n",
       "    }\n",
       "\n",
       "    .dataframe thead th {\n",
       "        text-align: right;\n",
       "    }\n",
       "</style>\n",
       "<table border=\"1\" class=\"dataframe\">\n",
       "  <thead>\n",
       "    <tr style=\"text-align: right;\">\n",
       "      <th></th>\n",
       "      <th>PRODUCT_ID</th>\n",
       "      <th>Vendor</th>\n",
       "      <th>Unnamed: 2</th>\n",
       "      <th>Unnamed: 3</th>\n",
       "      <th>Unnamed: 4</th>\n",
       "      <th>Unnamed: 5</th>\n",
       "      <th>Unnamed: 6</th>\n",
       "    </tr>\n",
       "  </thead>\n",
       "  <tbody>\n",
       "    <tr>\n",
       "      <th>0</th>\n",
       "      <td>1</td>\n",
       "      <td>Others</td>\n",
       "      <td>NaN</td>\n",
       "      <td>NaN</td>\n",
       "      <td>NaN</td>\n",
       "      <td>NaN</td>\n",
       "      <td>NaN</td>\n",
       "    </tr>\n",
       "    <tr>\n",
       "      <th>1</th>\n",
       "      <td>2</td>\n",
       "      <td>Others</td>\n",
       "      <td>NaN</td>\n",
       "      <td>NaN</td>\n",
       "      <td>NaN</td>\n",
       "      <td>NaN</td>\n",
       "      <td>NaN</td>\n",
       "    </tr>\n",
       "    <tr>\n",
       "      <th>2</th>\n",
       "      <td>3</td>\n",
       "      <td>Others</td>\n",
       "      <td>NaN</td>\n",
       "      <td>NaN</td>\n",
       "      <td>NaN</td>\n",
       "      <td>NaN</td>\n",
       "      <td>NaN</td>\n",
       "    </tr>\n",
       "    <tr>\n",
       "      <th>3</th>\n",
       "      <td>4</td>\n",
       "      <td>Others</td>\n",
       "      <td>NaN</td>\n",
       "      <td>NaN</td>\n",
       "      <td>NaN</td>\n",
       "      <td>NaN</td>\n",
       "      <td>NaN</td>\n",
       "    </tr>\n",
       "    <tr>\n",
       "      <th>4</th>\n",
       "      <td>5</td>\n",
       "      <td>Others</td>\n",
       "      <td>NaN</td>\n",
       "      <td>NaN</td>\n",
       "      <td>NaN</td>\n",
       "      <td>NaN</td>\n",
       "      <td>NaN</td>\n",
       "    </tr>\n",
       "  </tbody>\n",
       "</table>\n",
       "</div>"
      ],
      "text/plain": [
       "   PRODUCT_ID  Vendor  Unnamed: 2  Unnamed: 3  Unnamed: 4  Unnamed: 5  \\\n",
       "0           1  Others         NaN         NaN         NaN         NaN   \n",
       "1           2  Others         NaN         NaN         NaN         NaN   \n",
       "2           3  Others         NaN         NaN         NaN         NaN   \n",
       "3           4  Others         NaN         NaN         NaN         NaN   \n",
       "4           5  Others         NaN         NaN         NaN         NaN   \n",
       "\n",
       "   Unnamed: 6  \n",
       "0         NaN  \n",
       "1         NaN  \n",
       "2         NaN  \n",
       "3         NaN  \n",
       "4         NaN  "
      ]
     },
     "execution_count": 49,
     "metadata": {},
     "output_type": "execute_result"
    }
   ],
   "source": [
    "product_manufacture_list.head()"
   ]
  },
  {
   "cell_type": "code",
   "execution_count": 50,
   "id": "f4cca7bf",
   "metadata": {},
   "outputs": [
    {
     "name": "stdout",
     "output_type": "stream",
     "text": [
      "<class 'pandas.core.frame.DataFrame'>\n",
      "RangeIndex: 67175 entries, 0 to 67174\n",
      "Data columns (total 7 columns):\n",
      " #   Column      Non-Null Count  Dtype  \n",
      "---  ------      --------------  -----  \n",
      " 0   PRODUCT_ID  67175 non-null  int64  \n",
      " 1   Vendor      67175 non-null  object \n",
      " 2   Unnamed: 2  0 non-null      float64\n",
      " 3   Unnamed: 3  0 non-null      float64\n",
      " 4   Unnamed: 4  0 non-null      float64\n",
      " 5   Unnamed: 5  0 non-null      float64\n",
      " 6   Unnamed: 6  0 non-null      float64\n",
      "dtypes: float64(5), int64(1), object(1)\n",
      "memory usage: 3.6+ MB\n"
     ]
    }
   ],
   "source": [
    "product_manufacture_list.info()"
   ]
  },
  {
   "cell_type": "code",
   "execution_count": 51,
   "id": "fd06e504",
   "metadata": {},
   "outputs": [
    {
     "name": "stdout",
     "output_type": "stream",
     "text": [
      "PRODUCT_ID\n",
      "Vendor\n",
      "Unnamed: 2\n",
      "Unnamed: 3\n",
      "Unnamed: 4\n",
      "Unnamed: 5\n",
      "Unnamed: 6\n"
     ]
    }
   ],
   "source": [
    "for col in product_manufacture_list.columns:\n",
    "    print(col)"
   ]
  },
  {
   "cell_type": "code",
   "execution_count": 52,
   "id": "0270c81a",
   "metadata": {},
   "outputs": [],
   "source": [
    "product_manufacture_list.drop([\"Unnamed: 2\",\"Unnamed: 3\",\"Unnamed: 4\",\"Unnamed: 5\",\"Unnamed: 6\"], axis=1, inplace=True)"
   ]
  },
  {
   "cell_type": "code",
   "execution_count": 53,
   "id": "655fb9fc",
   "metadata": {},
   "outputs": [],
   "source": [
    "product_manufacture_list = product_manufacture_list[['PRODUCT_ID','Vendor']]"
   ]
  },
  {
   "cell_type": "code",
   "execution_count": 54,
   "id": "35362534",
   "metadata": {},
   "outputs": [
    {
     "data": {
      "text/html": [
       "<div>\n",
       "<style scoped>\n",
       "    .dataframe tbody tr th:only-of-type {\n",
       "        vertical-align: middle;\n",
       "    }\n",
       "\n",
       "    .dataframe tbody tr th {\n",
       "        vertical-align: top;\n",
       "    }\n",
       "\n",
       "    .dataframe thead th {\n",
       "        text-align: right;\n",
       "    }\n",
       "</style>\n",
       "<table border=\"1\" class=\"dataframe\">\n",
       "  <thead>\n",
       "    <tr style=\"text-align: right;\">\n",
       "      <th></th>\n",
       "      <th>PRODUCT_ID</th>\n",
       "      <th>Vendor</th>\n",
       "    </tr>\n",
       "  </thead>\n",
       "  <tbody>\n",
       "    <tr>\n",
       "      <th>0</th>\n",
       "      <td>1</td>\n",
       "      <td>Others</td>\n",
       "    </tr>\n",
       "    <tr>\n",
       "      <th>1</th>\n",
       "      <td>2</td>\n",
       "      <td>Others</td>\n",
       "    </tr>\n",
       "    <tr>\n",
       "      <th>2</th>\n",
       "      <td>3</td>\n",
       "      <td>Others</td>\n",
       "    </tr>\n",
       "    <tr>\n",
       "      <th>3</th>\n",
       "      <td>4</td>\n",
       "      <td>Others</td>\n",
       "    </tr>\n",
       "    <tr>\n",
       "      <th>4</th>\n",
       "      <td>5</td>\n",
       "      <td>Others</td>\n",
       "    </tr>\n",
       "  </tbody>\n",
       "</table>\n",
       "</div>"
      ],
      "text/plain": [
       "   PRODUCT_ID  Vendor\n",
       "0           1  Others\n",
       "1           2  Others\n",
       "2           3  Others\n",
       "3           4  Others\n",
       "4           5  Others"
      ]
     },
     "execution_count": 54,
     "metadata": {},
     "output_type": "execute_result"
    }
   ],
   "source": [
    "product_manufacture_list.head()"
   ]
  },
  {
   "cell_type": "code",
   "execution_count": 55,
   "id": "0ed3b201",
   "metadata": {},
   "outputs": [
    {
     "data": {
      "text/plain": [
       "PRODUCT_ID    0\n",
       "Vendor        0\n",
       "dtype: int64"
      ]
     },
     "execution_count": 55,
     "metadata": {},
     "output_type": "execute_result"
    }
   ],
   "source": [
    "product_manufacture_list.isnull().sum()"
   ]
  },
  {
   "cell_type": "code",
   "execution_count": 56,
   "id": "902142c9",
   "metadata": {},
   "outputs": [
    {
     "name": "stdout",
     "output_type": "stream",
     "text": [
      "<class 'pandas.core.frame.DataFrame'>\n",
      "RangeIndex: 67175 entries, 0 to 67174\n",
      "Data columns (total 2 columns):\n",
      " #   Column      Non-Null Count  Dtype \n",
      "---  ------      --------------  ----- \n",
      " 0   PRODUCT_ID  67175 non-null  int64 \n",
      " 1   Vendor      67175 non-null  object\n",
      "dtypes: int64(1), object(1)\n",
      "memory usage: 1.0+ MB\n"
     ]
    }
   ],
   "source": [
    "product_manufacture_list.info()"
   ]
  },
  {
   "cell_type": "code",
   "execution_count": 57,
   "id": "75ddfff9",
   "metadata": {},
   "outputs": [
    {
     "data": {
      "text/plain": [
       "(67175, 2)"
      ]
     },
     "execution_count": 57,
     "metadata": {},
     "output_type": "execute_result"
    }
   ],
   "source": [
    "product_manufacture_list.shape"
   ]
  },
  {
   "cell_type": "code",
   "execution_count": 58,
   "id": "aa4b8620",
   "metadata": {},
   "outputs": [],
   "source": [
    "themes_list=pd.read_csv(\"Theme_list.csv\")"
   ]
  },
  {
   "cell_type": "code",
   "execution_count": 59,
   "id": "15571f40",
   "metadata": {},
   "outputs": [
    {
     "data": {
      "text/html": [
       "<div>\n",
       "<style scoped>\n",
       "    .dataframe tbody tr th:only-of-type {\n",
       "        vertical-align: middle;\n",
       "    }\n",
       "\n",
       "    .dataframe tbody tr th {\n",
       "        vertical-align: top;\n",
       "    }\n",
       "\n",
       "    .dataframe thead th {\n",
       "        text-align: right;\n",
       "    }\n",
       "</style>\n",
       "<table border=\"1\" class=\"dataframe\">\n",
       "  <thead>\n",
       "    <tr style=\"text-align: right;\">\n",
       "      <th></th>\n",
       "      <th>CLAIM_ID</th>\n",
       "      <th>Claim Name</th>\n",
       "    </tr>\n",
       "  </thead>\n",
       "  <tbody>\n",
       "    <tr>\n",
       "      <th>0</th>\n",
       "      <td>0</td>\n",
       "      <td>No Claim</td>\n",
       "    </tr>\n",
       "    <tr>\n",
       "      <th>1</th>\n",
       "      <td>8</td>\n",
       "      <td>low carb</td>\n",
       "    </tr>\n",
       "    <tr>\n",
       "      <th>2</th>\n",
       "      <td>15</td>\n",
       "      <td>beans</td>\n",
       "    </tr>\n",
       "    <tr>\n",
       "      <th>3</th>\n",
       "      <td>16</td>\n",
       "      <td>cocoa</td>\n",
       "    </tr>\n",
       "    <tr>\n",
       "      <th>4</th>\n",
       "      <td>26</td>\n",
       "      <td>vanilla</td>\n",
       "    </tr>\n",
       "  </tbody>\n",
       "</table>\n",
       "</div>"
      ],
      "text/plain": [
       "   CLAIM_ID Claim Name\n",
       "0         0   No Claim\n",
       "1         8   low carb\n",
       "2        15      beans\n",
       "3        16      cocoa\n",
       "4        26    vanilla"
      ]
     },
     "execution_count": 59,
     "metadata": {},
     "output_type": "execute_result"
    }
   ],
   "source": [
    "themes_list.head()"
   ]
  },
  {
   "cell_type": "code",
   "execution_count": 60,
   "id": "c77673cf",
   "metadata": {},
   "outputs": [
    {
     "name": "stdout",
     "output_type": "stream",
     "text": [
      "<class 'pandas.core.frame.DataFrame'>\n",
      "RangeIndex: 208 entries, 0 to 207\n",
      "Data columns (total 2 columns):\n",
      " #   Column      Non-Null Count  Dtype \n",
      "---  ------      --------------  ----- \n",
      " 0   CLAIM_ID    208 non-null    int64 \n",
      " 1   Claim Name  208 non-null    object\n",
      "dtypes: int64(1), object(1)\n",
      "memory usage: 3.4+ KB\n"
     ]
    }
   ],
   "source": [
    "themes_list.info()"
   ]
  },
  {
   "cell_type": "code",
   "execution_count": 61,
   "id": "b49c40f7",
   "metadata": {},
   "outputs": [
    {
     "data": {
      "text/plain": [
       "CLAIM_ID      0\n",
       "Claim Name    0\n",
       "dtype: int64"
      ]
     },
     "execution_count": 61,
     "metadata": {},
     "output_type": "execute_result"
    }
   ],
   "source": [
    "themes_list.isnull().sum()"
   ]
  },
  {
   "cell_type": "code",
   "execution_count": 62,
   "id": "27101d85",
   "metadata": {},
   "outputs": [
    {
     "data": {
      "text/plain": [
       "(208, 2)"
      ]
     },
     "execution_count": 62,
     "metadata": {},
     "output_type": "execute_result"
    }
   ],
   "source": [
    "themes_list.shape"
   ]
  },
  {
   "cell_type": "code",
   "execution_count": 63,
   "id": "b000557c",
   "metadata": {},
   "outputs": [
    {
     "data": {
      "text/plain": [
       "208"
      ]
     },
     "execution_count": 63,
     "metadata": {},
     "output_type": "execute_result"
    }
   ],
   "source": [
    "themes_list['CLAIM_ID'].nunique()"
   ]
  },
  {
   "cell_type": "code",
   "execution_count": 64,
   "id": "278ae174",
   "metadata": {},
   "outputs": [
    {
     "data": {
      "text/plain": [
       "array([  0,   8,  15,  16,  26,  32,  38,  39,  40,  58,  59,  65,  73,\n",
       "        75,  79,  80,  81, 100, 101, 120, 125, 138, 139, 142, 143, 144,\n",
       "       145, 147, 148, 151, 152, 157, 158, 163, 171, 173, 177, 178, 185,\n",
       "       186, 187, 191, 192, 193, 197, 207, 211, 220, 222, 224, 227, 228,\n",
       "       287, 384, 385, 388, 393, 430, 432, 433, 437, 438, 440, 441, 916,\n",
       "       650, 713, 979, 620, 543, 904, 754, 821, 984, 777, 670, 761, 780,\n",
       "       941, 832, 608, 681, 913, 622, 738, 600, 601, 788, 867, 977, 928,\n",
       "       813, 847, 702, 587, 842, 823, 743, 907, 974, 510, 747, 884, 931,\n",
       "       803, 526, 860, 869, 870, 852, 541, 839, 634, 789, 618, 519, 576,\n",
       "       844, 583, 606, 918, 716, 594, 889, 980, 930, 616, 901, 982, 556,\n",
       "       741, 682, 558, 965, 657, 536, 507, 516, 981, 816, 555, 707, 944,\n",
       "       903, 999, 677, 782, 959, 566, 659, 704, 915, 605, 632, 668, 732,\n",
       "       770, 877, 958, 900, 970, 531, 929, 684, 967, 985, 964, 755, 683,\n",
       "       799, 843, 948, 887, 937, 908, 737, 613, 615, 509, 922, 785, 946,\n",
       "       720, 689, 567, 514, 574, 906, 517, 585, 960, 868, 957, 873, 552,\n",
       "       529, 919, 776, 593, 983, 673, 963, 727, 508, 769, 949, 521, 876],\n",
       "      dtype=int64)"
      ]
     },
     "execution_count": 64,
     "metadata": {},
     "output_type": "execute_result"
    }
   ],
   "source": [
    "themes_list['CLAIM_ID'].unique()"
   ]
  },
  {
   "cell_type": "code",
   "execution_count": 65,
   "id": "052c8dbc",
   "metadata": {},
   "outputs": [
    {
     "data": {
      "text/plain": [
       "208"
      ]
     },
     "execution_count": 65,
     "metadata": {},
     "output_type": "execute_result"
    }
   ],
   "source": [
    "themes_list['Claim Name'].nunique()"
   ]
  },
  {
   "cell_type": "code",
   "execution_count": 66,
   "id": "28ab95fc",
   "metadata": {},
   "outputs": [
    {
     "data": {
      "text/plain": [
       "array(['No Claim', 'low carb', 'beans', 'cocoa', 'vanilla', 'stroganoff',\n",
       "       'cumin', 'high/source of protein', 'no additives/preservatives',\n",
       "       'buckwheat', 'tutti frutti', 'ethical - not specific', 'brown ale',\n",
       "       'french bisque', 'pheasant', 'whitebait', 'gmo free',\n",
       "       'low calorie', 'peach', 'crab', 'nuts', 'venison', 'fruit',\n",
       "       'convenience - easy-to-prepare', 'anchovy', 'pomegranate',\n",
       "       'scallop', 'american gumbo', 'tuna', 'low sodium', 'low sugar',\n",
       "       'french', 'chicken', 'ethical - packaging', 'cherry',\n",
       "       'vitamin/mineral fortified', 'liver', 'red raspberry', 'cookie',\n",
       "       'pollock', 'blueberry', 'bone health', 'prebiotic', 'poultry',\n",
       "       'cheddar cheese', 'energy/alertness', 'halal', 'herbs', 'pizza',\n",
       "       'american southwest style', 'salmon', 'beef hamburger', 'tilapia',\n",
       "       'mackerel', 'peanut', 'lobster', 'sea salt', 'soy foods',\n",
       "       'apple cinnamon', 'gingerbread', 'vegetarian', 'ethnic & exotic',\n",
       "       'cream', 'berry', 'gluten free', 'added calcium', 'added fiber',\n",
       "       'added iron', 'added protein', 'allergy', 'anti-aging/aging-well',\n",
       "       'antioxidant', 'bacon', 'banana', 'beef', 'boar', 'brain health',\n",
       "       'broccoli', 'butter', 'carob', 'carrot', 'cashew nut', 'celery',\n",
       "       'cheese', 'chili', 'choice', 'cinnamon', 'co-branding', 'coconut',\n",
       "       'cod', 'convenience', 'convenience - consumption',\n",
       "       'convenience - packaging', 'convenience - ready prepared',\n",
       "       'convenience - time saving', 'cranberry', 'crawfish',\n",
       "       'dandelion greens', 'dha', 'diabetic', 'digestive/gut health',\n",
       "       'dry', 'duck', 'economy', 'egg', 'ethical',\n",
       "       'ethical - animal/fish & bird', 'ethical - environment',\n",
       "       'ethical - human', 'eye health', 'fish',\n",
       "       'functional, not specified', 'garden pea', 'green bean',\n",
       "       'green tea', 'health (active)', 'health (passive)', 'heart health',\n",
       "       'heart meat', 'hemp seeds', 'herbal', 'herring', 'hfcs free',\n",
       "       'high/source of fiber', 'honey', 'immune health',\n",
       "       'indulgent & premium', 'joint health', 'kale', 'kosher',\n",
       "       'lactose free', 'lamb', 'low cholesterol', 'low fat', 'low gi',\n",
       "       'mango', 'meat', 'microwaveable', 'milk chocolate', 'mint',\n",
       "       'natural', 'no added sugar', 'no trans fats', 'omega-3',\n",
       "       'oral health', 'orange', 'organic', 'others', 'parmesan cheese',\n",
       "       'parsley', 'peanut butter', 'peppermint', 'pleasure', 'pork',\n",
       "       'probiotic', 'pumpkin', 'rabbit', 'red apple', 'refill',\n",
       "       'ricotta cheese', 'roquefort cheese', 'sardine', 'sausage',\n",
       "       'seafood', 'seasonal/in-out products', 'seeds', 'shrimp',\n",
       "       'single shot', 'skin health', 'smoked', 'snickerdoodle', 'sole',\n",
       "       'spinach', 'sports & recovery', 'sticks', 'strawberry',\n",
       "       'sugar free', 'sweet potato', 'toffee', 'traditional', 'trout',\n",
       "       'turkey', 'vegan', 'vegetables', 'weight management',\n",
       "       'white cheddar cheese', 'wholegrain', 'yogurt', 'brownie',\n",
       "       'garlic', 'red tomato', 'cloves', 'rosemary', 'butterscotch',\n",
       "       'pepper', 'quail', 'butternut squash', 'hickory smoked', 'dill',\n",
       "       'papaya', 'blackberry', 'tarragon', 'seaweed', 'cola',\n",
       "       'shortbread', 'passion fruit', 'blood orange', 'caramel'],\n",
       "      dtype=object)"
      ]
     },
     "execution_count": 66,
     "metadata": {},
     "output_type": "execute_result"
    }
   ],
   "source": [
    "themes_list['Claim Name'].unique()"
   ]
  },
  {
   "cell_type": "code",
   "execution_count": 67,
   "id": "2daf31b4",
   "metadata": {},
   "outputs": [
    {
     "data": {
      "text/html": [
       "<div>\n",
       "<style scoped>\n",
       "    .dataframe tbody tr th:only-of-type {\n",
       "        vertical-align: middle;\n",
       "    }\n",
       "\n",
       "    .dataframe tbody tr th {\n",
       "        vertical-align: top;\n",
       "    }\n",
       "\n",
       "    .dataframe thead th {\n",
       "        text-align: right;\n",
       "    }\n",
       "</style>\n",
       "<table border=\"1\" class=\"dataframe\">\n",
       "  <thead>\n",
       "    <tr style=\"text-align: right;\">\n",
       "      <th></th>\n",
       "      <th>system_calendar_key_N</th>\n",
       "      <th>product_id</th>\n",
       "      <th>sales_dollars_value</th>\n",
       "      <th>sales_units_value</th>\n",
       "      <th>sales_lbs_value</th>\n",
       "    </tr>\n",
       "  </thead>\n",
       "  <tbody>\n",
       "    <tr>\n",
       "      <th>0</th>\n",
       "      <td>2016-01-09</td>\n",
       "      <td>1</td>\n",
       "      <td>13927.0</td>\n",
       "      <td>934</td>\n",
       "      <td>18680</td>\n",
       "    </tr>\n",
       "    <tr>\n",
       "      <th>1</th>\n",
       "      <td>2016-01-09</td>\n",
       "      <td>3</td>\n",
       "      <td>10289.0</td>\n",
       "      <td>1592</td>\n",
       "      <td>28646</td>\n",
       "    </tr>\n",
       "  </tbody>\n",
       "</table>\n",
       "</div>"
      ],
      "text/plain": [
       "  system_calendar_key_N  product_id  sales_dollars_value  sales_units_value  \\\n",
       "0            2016-01-09           1              13927.0                934   \n",
       "1            2016-01-09           3              10289.0               1592   \n",
       "\n",
       "   sales_lbs_value  \n",
       "0            18680  \n",
       "1            28646  "
      ]
     },
     "execution_count": 67,
     "metadata": {},
     "output_type": "execute_result"
    }
   ],
   "source": [
    "sales_data.head(2)"
   ]
  },
  {
   "cell_type": "code",
   "execution_count": 68,
   "id": "4fad485b",
   "metadata": {},
   "outputs": [
    {
     "data": {
      "text/html": [
       "<div>\n",
       "<style scoped>\n",
       "    .dataframe tbody tr th:only-of-type {\n",
       "        vertical-align: middle;\n",
       "    }\n",
       "\n",
       "    .dataframe tbody tr th {\n",
       "        vertical-align: top;\n",
       "    }\n",
       "\n",
       "    .dataframe thead th {\n",
       "        text-align: right;\n",
       "    }\n",
       "</style>\n",
       "<table border=\"1\" class=\"dataframe\">\n",
       "  <thead>\n",
       "    <tr style=\"text-align: right;\">\n",
       "      <th></th>\n",
       "      <th>Theme Id</th>\n",
       "      <th>published_date</th>\n",
       "      <th>total_post</th>\n",
       "    </tr>\n",
       "  </thead>\n",
       "  <tbody>\n",
       "    <tr>\n",
       "      <th>0</th>\n",
       "      <td>148</td>\n",
       "      <td>2015-01-10 00:00:00</td>\n",
       "      <td>76</td>\n",
       "    </tr>\n",
       "    <tr>\n",
       "      <th>1</th>\n",
       "      <td>148</td>\n",
       "      <td>2015-10-10 00:00:00</td>\n",
       "      <td>31</td>\n",
       "    </tr>\n",
       "  </tbody>\n",
       "</table>\n",
       "</div>"
      ],
      "text/plain": [
       "   Theme Id       published_date  total_post\n",
       "0       148  2015-01-10 00:00:00          76\n",
       "1       148  2015-10-10 00:00:00          31"
      ]
     },
     "execution_count": 68,
     "metadata": {},
     "output_type": "execute_result"
    }
   ],
   "source": [
    "social_media_data.head(2)"
   ]
  },
  {
   "cell_type": "code",
   "execution_count": 69,
   "id": "3c1e8d0a",
   "metadata": {},
   "outputs": [],
   "source": [
    "social_media_data.rename(columns={'Theme Id':'CLAIM_ID'}, inplace=True)"
   ]
  },
  {
   "cell_type": "code",
   "execution_count": 70,
   "id": "3db5045d",
   "metadata": {},
   "outputs": [
    {
     "data": {
      "text/html": [
       "<div>\n",
       "<style scoped>\n",
       "    .dataframe tbody tr th:only-of-type {\n",
       "        vertical-align: middle;\n",
       "    }\n",
       "\n",
       "    .dataframe tbody tr th {\n",
       "        vertical-align: top;\n",
       "    }\n",
       "\n",
       "    .dataframe thead th {\n",
       "        text-align: right;\n",
       "    }\n",
       "</style>\n",
       "<table border=\"1\" class=\"dataframe\">\n",
       "  <thead>\n",
       "    <tr style=\"text-align: right;\">\n",
       "      <th></th>\n",
       "      <th>CLAIM_ID</th>\n",
       "      <th>published_date</th>\n",
       "      <th>total_post</th>\n",
       "    </tr>\n",
       "  </thead>\n",
       "  <tbody>\n",
       "    <tr>\n",
       "      <th>0</th>\n",
       "      <td>148</td>\n",
       "      <td>2015-01-10 00:00:00</td>\n",
       "      <td>76</td>\n",
       "    </tr>\n",
       "    <tr>\n",
       "      <th>1</th>\n",
       "      <td>148</td>\n",
       "      <td>2015-10-10 00:00:00</td>\n",
       "      <td>31</td>\n",
       "    </tr>\n",
       "  </tbody>\n",
       "</table>\n",
       "</div>"
      ],
      "text/plain": [
       "   CLAIM_ID       published_date  total_post\n",
       "0       148  2015-01-10 00:00:00          76\n",
       "1       148  2015-10-10 00:00:00          31"
      ]
     },
     "execution_count": 70,
     "metadata": {},
     "output_type": "execute_result"
    }
   ],
   "source": [
    "social_media_data.head(2)"
   ]
  },
  {
   "cell_type": "code",
   "execution_count": 71,
   "id": "44806530",
   "metadata": {},
   "outputs": [
    {
     "data": {
      "text/html": [
       "<div>\n",
       "<style scoped>\n",
       "    .dataframe tbody tr th:only-of-type {\n",
       "        vertical-align: middle;\n",
       "    }\n",
       "\n",
       "    .dataframe tbody tr th {\n",
       "        vertical-align: top;\n",
       "    }\n",
       "\n",
       "    .dataframe thead th {\n",
       "        text-align: right;\n",
       "    }\n",
       "</style>\n",
       "<table border=\"1\" class=\"dataframe\">\n",
       "  <thead>\n",
       "    <tr style=\"text-align: right;\">\n",
       "      <th></th>\n",
       "      <th>PRODUCT_ID</th>\n",
       "      <th>Vendor</th>\n",
       "    </tr>\n",
       "  </thead>\n",
       "  <tbody>\n",
       "    <tr>\n",
       "      <th>0</th>\n",
       "      <td>1</td>\n",
       "      <td>Others</td>\n",
       "    </tr>\n",
       "    <tr>\n",
       "      <th>1</th>\n",
       "      <td>2</td>\n",
       "      <td>Others</td>\n",
       "    </tr>\n",
       "  </tbody>\n",
       "</table>\n",
       "</div>"
      ],
      "text/plain": [
       "   PRODUCT_ID  Vendor\n",
       "0           1  Others\n",
       "1           2  Others"
      ]
     },
     "execution_count": 71,
     "metadata": {},
     "output_type": "execute_result"
    }
   ],
   "source": [
    "product_manufacture_list.head(2)"
   ]
  },
  {
   "cell_type": "code",
   "execution_count": 72,
   "id": "f9d6c1e4",
   "metadata": {},
   "outputs": [
    {
     "data": {
      "text/html": [
       "<div>\n",
       "<style scoped>\n",
       "    .dataframe tbody tr th:only-of-type {\n",
       "        vertical-align: middle;\n",
       "    }\n",
       "\n",
       "    .dataframe tbody tr th {\n",
       "        vertical-align: top;\n",
       "    }\n",
       "\n",
       "    .dataframe thead th {\n",
       "        text-align: right;\n",
       "    }\n",
       "</style>\n",
       "<table border=\"1\" class=\"dataframe\">\n",
       "  <thead>\n",
       "    <tr style=\"text-align: right;\">\n",
       "      <th></th>\n",
       "      <th>CLAIM_ID</th>\n",
       "      <th>Claim Name</th>\n",
       "    </tr>\n",
       "  </thead>\n",
       "  <tbody>\n",
       "    <tr>\n",
       "      <th>0</th>\n",
       "      <td>0</td>\n",
       "      <td>No Claim</td>\n",
       "    </tr>\n",
       "    <tr>\n",
       "      <th>1</th>\n",
       "      <td>8</td>\n",
       "      <td>low carb</td>\n",
       "    </tr>\n",
       "  </tbody>\n",
       "</table>\n",
       "</div>"
      ],
      "text/plain": [
       "   CLAIM_ID Claim Name\n",
       "0         0   No Claim\n",
       "1         8   low carb"
      ]
     },
     "execution_count": 72,
     "metadata": {},
     "output_type": "execute_result"
    }
   ],
   "source": [
    "themes_list.head(2)"
   ]
  },
  {
   "cell_type": "code",
   "execution_count": 73,
   "id": "a1bfc000",
   "metadata": {},
   "outputs": [
    {
     "data": {
      "text/html": [
       "<div>\n",
       "<style scoped>\n",
       "    .dataframe tbody tr th:only-of-type {\n",
       "        vertical-align: middle;\n",
       "    }\n",
       "\n",
       "    .dataframe tbody tr th {\n",
       "        vertical-align: top;\n",
       "    }\n",
       "\n",
       "    .dataframe thead th {\n",
       "        text-align: right;\n",
       "    }\n",
       "</style>\n",
       "<table border=\"1\" class=\"dataframe\">\n",
       "  <thead>\n",
       "    <tr style=\"text-align: right;\">\n",
       "      <th></th>\n",
       "      <th>PRODUCT_ID</th>\n",
       "      <th>CLAIM_ID</th>\n",
       "    </tr>\n",
       "  </thead>\n",
       "  <tbody>\n",
       "    <tr>\n",
       "      <th>0</th>\n",
       "      <td>1</td>\n",
       "      <td>0</td>\n",
       "    </tr>\n",
       "    <tr>\n",
       "      <th>1</th>\n",
       "      <td>2</td>\n",
       "      <td>0</td>\n",
       "    </tr>\n",
       "  </tbody>\n",
       "</table>\n",
       "</div>"
      ],
      "text/plain": [
       "   PRODUCT_ID  CLAIM_ID\n",
       "0           1         0\n",
       "1           2         0"
      ]
     },
     "execution_count": 73,
     "metadata": {},
     "output_type": "execute_result"
    }
   ],
   "source": [
    "themes_product_data.head(2)"
   ]
  },
  {
   "cell_type": "code",
   "execution_count": 74,
   "id": "cbe78b12",
   "metadata": {},
   "outputs": [
    {
     "data": {
      "text/html": [
       "<div>\n",
       "<style scoped>\n",
       "    .dataframe tbody tr th:only-of-type {\n",
       "        vertical-align: middle;\n",
       "    }\n",
       "\n",
       "    .dataframe tbody tr th {\n",
       "        vertical-align: top;\n",
       "    }\n",
       "\n",
       "    .dataframe thead th {\n",
       "        text-align: right;\n",
       "    }\n",
       "</style>\n",
       "<table border=\"1\" class=\"dataframe\">\n",
       "  <thead>\n",
       "    <tr style=\"text-align: right;\">\n",
       "      <th></th>\n",
       "      <th>date</th>\n",
       "      <th>platform</th>\n",
       "      <th>searchVolume</th>\n",
       "      <th>Claim_ID</th>\n",
       "      <th>week_number</th>\n",
       "      <th>year_new</th>\n",
       "    </tr>\n",
       "  </thead>\n",
       "  <tbody>\n",
       "    <tr>\n",
       "      <th>0</th>\n",
       "      <td>2014-01-01</td>\n",
       "      <td>google</td>\n",
       "      <td>889</td>\n",
       "      <td>922</td>\n",
       "      <td>1</td>\n",
       "      <td>2014</td>\n",
       "    </tr>\n",
       "    <tr>\n",
       "      <th>1</th>\n",
       "      <td>2014-01-01</td>\n",
       "      <td>google</td>\n",
       "      <td>240</td>\n",
       "      <td>707</td>\n",
       "      <td>1</td>\n",
       "      <td>2014</td>\n",
       "    </tr>\n",
       "  </tbody>\n",
       "</table>\n",
       "</div>"
      ],
      "text/plain": [
       "        date platform  searchVolume  Claim_ID  week_number  year_new\n",
       "0 2014-01-01   google           889       922            1      2014\n",
       "1 2014-01-01   google           240       707            1      2014"
      ]
     },
     "execution_count": 74,
     "metadata": {},
     "output_type": "execute_result"
    }
   ],
   "source": [
    "google_search_data.head(2)"
   ]
  },
  {
   "cell_type": "code",
   "execution_count": 75,
   "id": "70d4a5db",
   "metadata": {},
   "outputs": [],
   "source": [
    "sales_data.rename(columns={\"product_id\":\"PRODUCT_ID\"}, inplace=True)"
   ]
  },
  {
   "cell_type": "code",
   "execution_count": 76,
   "id": "3ddbd474",
   "metadata": {},
   "outputs": [
    {
     "data": {
      "text/html": [
       "<div>\n",
       "<style scoped>\n",
       "    .dataframe tbody tr th:only-of-type {\n",
       "        vertical-align: middle;\n",
       "    }\n",
       "\n",
       "    .dataframe tbody tr th {\n",
       "        vertical-align: top;\n",
       "    }\n",
       "\n",
       "    .dataframe thead th {\n",
       "        text-align: right;\n",
       "    }\n",
       "</style>\n",
       "<table border=\"1\" class=\"dataframe\">\n",
       "  <thead>\n",
       "    <tr style=\"text-align: right;\">\n",
       "      <th></th>\n",
       "      <th>system_calendar_key_N</th>\n",
       "      <th>PRODUCT_ID</th>\n",
       "      <th>sales_dollars_value</th>\n",
       "      <th>sales_units_value</th>\n",
       "      <th>sales_lbs_value</th>\n",
       "    </tr>\n",
       "  </thead>\n",
       "  <tbody>\n",
       "    <tr>\n",
       "      <th>0</th>\n",
       "      <td>2016-01-09</td>\n",
       "      <td>1</td>\n",
       "      <td>13927.0</td>\n",
       "      <td>934</td>\n",
       "      <td>18680</td>\n",
       "    </tr>\n",
       "    <tr>\n",
       "      <th>1</th>\n",
       "      <td>2016-01-09</td>\n",
       "      <td>3</td>\n",
       "      <td>10289.0</td>\n",
       "      <td>1592</td>\n",
       "      <td>28646</td>\n",
       "    </tr>\n",
       "  </tbody>\n",
       "</table>\n",
       "</div>"
      ],
      "text/plain": [
       "  system_calendar_key_N  PRODUCT_ID  sales_dollars_value  sales_units_value  \\\n",
       "0            2016-01-09           1              13927.0                934   \n",
       "1            2016-01-09           3              10289.0               1592   \n",
       "\n",
       "   sales_lbs_value  \n",
       "0            18680  \n",
       "1            28646  "
      ]
     },
     "execution_count": 76,
     "metadata": {},
     "output_type": "execute_result"
    }
   ],
   "source": [
    "sales_data.head(2)"
   ]
  },
  {
   "cell_type": "code",
   "execution_count": 77,
   "id": "9d162699",
   "metadata": {},
   "outputs": [],
   "source": [
    "google_search_data.rename(columns={\"Claim_ID\":\"CLAIM_ID\"}, inplace=True)"
   ]
  },
  {
   "cell_type": "code",
   "execution_count": 78,
   "id": "004b1ec3",
   "metadata": {},
   "outputs": [
    {
     "data": {
      "text/html": [
       "<div>\n",
       "<style scoped>\n",
       "    .dataframe tbody tr th:only-of-type {\n",
       "        vertical-align: middle;\n",
       "    }\n",
       "\n",
       "    .dataframe tbody tr th {\n",
       "        vertical-align: top;\n",
       "    }\n",
       "\n",
       "    .dataframe thead th {\n",
       "        text-align: right;\n",
       "    }\n",
       "</style>\n",
       "<table border=\"1\" class=\"dataframe\">\n",
       "  <thead>\n",
       "    <tr style=\"text-align: right;\">\n",
       "      <th></th>\n",
       "      <th>date</th>\n",
       "      <th>platform</th>\n",
       "      <th>searchVolume</th>\n",
       "      <th>CLAIM_ID</th>\n",
       "      <th>week_number</th>\n",
       "      <th>year_new</th>\n",
       "    </tr>\n",
       "  </thead>\n",
       "  <tbody>\n",
       "    <tr>\n",
       "      <th>0</th>\n",
       "      <td>2014-01-01</td>\n",
       "      <td>google</td>\n",
       "      <td>889</td>\n",
       "      <td>922</td>\n",
       "      <td>1</td>\n",
       "      <td>2014</td>\n",
       "    </tr>\n",
       "    <tr>\n",
       "      <th>1</th>\n",
       "      <td>2014-01-01</td>\n",
       "      <td>google</td>\n",
       "      <td>240</td>\n",
       "      <td>707</td>\n",
       "      <td>1</td>\n",
       "      <td>2014</td>\n",
       "    </tr>\n",
       "  </tbody>\n",
       "</table>\n",
       "</div>"
      ],
      "text/plain": [
       "        date platform  searchVolume  CLAIM_ID  week_number  year_new\n",
       "0 2014-01-01   google           889       922            1      2014\n",
       "1 2014-01-01   google           240       707            1      2014"
      ]
     },
     "execution_count": 78,
     "metadata": {},
     "output_type": "execute_result"
    }
   ],
   "source": [
    "google_search_data.head(2)"
   ]
  },
  {
   "cell_type": "code",
   "execution_count": 79,
   "id": "0bd45abd",
   "metadata": {},
   "outputs": [
    {
     "data": {
      "text/plain": [
       "(4526182, 5)"
      ]
     },
     "execution_count": 79,
     "metadata": {},
     "output_type": "execute_result"
    }
   ],
   "source": [
    "#sales_data, product_manufacture_list, themes_product_data, \n",
    "sales_data.shape"
   ]
  },
  {
   "cell_type": "code",
   "execution_count": 80,
   "id": "e03641ee",
   "metadata": {},
   "outputs": [
    {
     "data": {
      "text/plain": [
       "(67175, 2)"
      ]
     },
     "execution_count": 80,
     "metadata": {},
     "output_type": "execute_result"
    }
   ],
   "source": [
    "product_manufacture_list.shape"
   ]
  },
  {
   "cell_type": "code",
   "execution_count": 81,
   "id": "c3b069f6",
   "metadata": {},
   "outputs": [
    {
     "data": {
      "text/plain": [
       "(91485, 2)"
      ]
     },
     "execution_count": 81,
     "metadata": {},
     "output_type": "execute_result"
    }
   ],
   "source": [
    "themes_product_data.shape"
   ]
  },
  {
   "cell_type": "code",
   "execution_count": 82,
   "id": "b16464c8",
   "metadata": {},
   "outputs": [
    {
     "name": "stdout",
     "output_type": "stream",
     "text": [
      "<class 'pandas.core.frame.DataFrame'>\n",
      "RangeIndex: 4526182 entries, 0 to 4526181\n",
      "Data columns (total 5 columns):\n",
      " #   Column                 Dtype         \n",
      "---  ------                 -----         \n",
      " 0   system_calendar_key_N  datetime64[ns]\n",
      " 1   PRODUCT_ID             int64         \n",
      " 2   sales_dollars_value    float64       \n",
      " 3   sales_units_value      int64         \n",
      " 4   sales_lbs_value        int64         \n",
      "dtypes: datetime64[ns](1), float64(1), int64(3)\n",
      "memory usage: 172.7 MB\n"
     ]
    }
   ],
   "source": [
    "sales_data.info()"
   ]
  },
  {
   "cell_type": "code",
   "execution_count": 83,
   "id": "e9f15a26",
   "metadata": {},
   "outputs": [
    {
     "name": "stdout",
     "output_type": "stream",
     "text": [
      "<class 'pandas.core.frame.DataFrame'>\n",
      "RangeIndex: 67175 entries, 0 to 67174\n",
      "Data columns (total 2 columns):\n",
      " #   Column      Non-Null Count  Dtype \n",
      "---  ------      --------------  ----- \n",
      " 0   PRODUCT_ID  67175 non-null  int64 \n",
      " 1   Vendor      67175 non-null  object\n",
      "dtypes: int64(1), object(1)\n",
      "memory usage: 1.0+ MB\n"
     ]
    }
   ],
   "source": [
    "product_manufacture_list.info()"
   ]
  },
  {
   "cell_type": "code",
   "execution_count": 84,
   "id": "c1b0ac51",
   "metadata": {},
   "outputs": [
    {
     "name": "stdout",
     "output_type": "stream",
     "text": [
      "<class 'pandas.core.frame.DataFrame'>\n",
      "RangeIndex: 91485 entries, 0 to 91484\n",
      "Data columns (total 2 columns):\n",
      " #   Column      Non-Null Count  Dtype\n",
      "---  ------      --------------  -----\n",
      " 0   PRODUCT_ID  91485 non-null  int64\n",
      " 1   CLAIM_ID    91485 non-null  int64\n",
      "dtypes: int64(2)\n",
      "memory usage: 1.4 MB\n"
     ]
    }
   ],
   "source": [
    "themes_product_data.info()"
   ]
  },
  {
   "cell_type": "code",
   "execution_count": 85,
   "id": "59fe3c59",
   "metadata": {},
   "outputs": [
    {
     "data": {
      "text/html": [
       "<div>\n",
       "<style scoped>\n",
       "    .dataframe tbody tr th:only-of-type {\n",
       "        vertical-align: middle;\n",
       "    }\n",
       "\n",
       "    .dataframe tbody tr th {\n",
       "        vertical-align: top;\n",
       "    }\n",
       "\n",
       "    .dataframe thead th {\n",
       "        text-align: right;\n",
       "    }\n",
       "</style>\n",
       "<table border=\"1\" class=\"dataframe\">\n",
       "  <thead>\n",
       "    <tr style=\"text-align: right;\">\n",
       "      <th></th>\n",
       "      <th>system_calendar_key_N</th>\n",
       "      <th>PRODUCT_ID</th>\n",
       "      <th>sales_dollars_value</th>\n",
       "      <th>sales_units_value</th>\n",
       "      <th>sales_lbs_value</th>\n",
       "    </tr>\n",
       "  </thead>\n",
       "  <tbody>\n",
       "    <tr>\n",
       "      <th>0</th>\n",
       "      <td>2016-01-09</td>\n",
       "      <td>1</td>\n",
       "      <td>13927.0</td>\n",
       "      <td>934</td>\n",
       "      <td>18680</td>\n",
       "    </tr>\n",
       "    <tr>\n",
       "      <th>1</th>\n",
       "      <td>2016-01-09</td>\n",
       "      <td>3</td>\n",
       "      <td>10289.0</td>\n",
       "      <td>1592</td>\n",
       "      <td>28646</td>\n",
       "    </tr>\n",
       "  </tbody>\n",
       "</table>\n",
       "</div>"
      ],
      "text/plain": [
       "  system_calendar_key_N  PRODUCT_ID  sales_dollars_value  sales_units_value  \\\n",
       "0            2016-01-09           1              13927.0                934   \n",
       "1            2016-01-09           3              10289.0               1592   \n",
       "\n",
       "   sales_lbs_value  \n",
       "0            18680  \n",
       "1            28646  "
      ]
     },
     "execution_count": 85,
     "metadata": {},
     "output_type": "execute_result"
    }
   ],
   "source": [
    "sales_data.head(2)"
   ]
  },
  {
   "cell_type": "code",
   "execution_count": 86,
   "id": "5fdc79aa",
   "metadata": {},
   "outputs": [
    {
     "data": {
      "text/html": [
       "<div>\n",
       "<style scoped>\n",
       "    .dataframe tbody tr th:only-of-type {\n",
       "        vertical-align: middle;\n",
       "    }\n",
       "\n",
       "    .dataframe tbody tr th {\n",
       "        vertical-align: top;\n",
       "    }\n",
       "\n",
       "    .dataframe thead th {\n",
       "        text-align: right;\n",
       "    }\n",
       "</style>\n",
       "<table border=\"1\" class=\"dataframe\">\n",
       "  <thead>\n",
       "    <tr style=\"text-align: right;\">\n",
       "      <th></th>\n",
       "      <th>PRODUCT_ID</th>\n",
       "      <th>Vendor</th>\n",
       "    </tr>\n",
       "  </thead>\n",
       "  <tbody>\n",
       "    <tr>\n",
       "      <th>0</th>\n",
       "      <td>1</td>\n",
       "      <td>Others</td>\n",
       "    </tr>\n",
       "    <tr>\n",
       "      <th>1</th>\n",
       "      <td>2</td>\n",
       "      <td>Others</td>\n",
       "    </tr>\n",
       "  </tbody>\n",
       "</table>\n",
       "</div>"
      ],
      "text/plain": [
       "   PRODUCT_ID  Vendor\n",
       "0           1  Others\n",
       "1           2  Others"
      ]
     },
     "execution_count": 86,
     "metadata": {},
     "output_type": "execute_result"
    }
   ],
   "source": [
    "product_manufacture_list.head(2)"
   ]
  },
  {
   "cell_type": "code",
   "execution_count": 87,
   "id": "60de092b",
   "metadata": {},
   "outputs": [],
   "source": [
    "sales_product_mfg=pd.merge(sales_data, product_manufacture_list, how='left', on=\"PRODUCT_ID\")"
   ]
  },
  {
   "cell_type": "code",
   "execution_count": 88,
   "id": "978a8cbb",
   "metadata": {},
   "outputs": [
    {
     "data": {
      "text/html": [
       "<div>\n",
       "<style scoped>\n",
       "    .dataframe tbody tr th:only-of-type {\n",
       "        vertical-align: middle;\n",
       "    }\n",
       "\n",
       "    .dataframe tbody tr th {\n",
       "        vertical-align: top;\n",
       "    }\n",
       "\n",
       "    .dataframe thead th {\n",
       "        text-align: right;\n",
       "    }\n",
       "</style>\n",
       "<table border=\"1\" class=\"dataframe\">\n",
       "  <thead>\n",
       "    <tr style=\"text-align: right;\">\n",
       "      <th></th>\n",
       "      <th>system_calendar_key_N</th>\n",
       "      <th>PRODUCT_ID</th>\n",
       "      <th>sales_dollars_value</th>\n",
       "      <th>sales_units_value</th>\n",
       "      <th>sales_lbs_value</th>\n",
       "      <th>Vendor</th>\n",
       "    </tr>\n",
       "  </thead>\n",
       "  <tbody>\n",
       "    <tr>\n",
       "      <th>0</th>\n",
       "      <td>2016-01-09</td>\n",
       "      <td>1</td>\n",
       "      <td>13927.0</td>\n",
       "      <td>934</td>\n",
       "      <td>18680</td>\n",
       "      <td>Others</td>\n",
       "    </tr>\n",
       "    <tr>\n",
       "      <th>1</th>\n",
       "      <td>2016-01-09</td>\n",
       "      <td>3</td>\n",
       "      <td>10289.0</td>\n",
       "      <td>1592</td>\n",
       "      <td>28646</td>\n",
       "      <td>Others</td>\n",
       "    </tr>\n",
       "  </tbody>\n",
       "</table>\n",
       "</div>"
      ],
      "text/plain": [
       "  system_calendar_key_N  PRODUCT_ID  sales_dollars_value  sales_units_value  \\\n",
       "0            2016-01-09           1              13927.0                934   \n",
       "1            2016-01-09           3              10289.0               1592   \n",
       "\n",
       "   sales_lbs_value  Vendor  \n",
       "0            18680  Others  \n",
       "1            28646  Others  "
      ]
     },
     "execution_count": 88,
     "metadata": {},
     "output_type": "execute_result"
    }
   ],
   "source": [
    "sales_product_mfg.head(2)"
   ]
  },
  {
   "cell_type": "code",
   "execution_count": 89,
   "id": "1138f6c2",
   "metadata": {},
   "outputs": [
    {
     "name": "stdout",
     "output_type": "stream",
     "text": [
      "<class 'pandas.core.frame.DataFrame'>\n",
      "Int64Index: 4526182 entries, 0 to 4526181\n",
      "Data columns (total 6 columns):\n",
      " #   Column                 Dtype         \n",
      "---  ------                 -----         \n",
      " 0   system_calendar_key_N  datetime64[ns]\n",
      " 1   PRODUCT_ID             int64         \n",
      " 2   sales_dollars_value    float64       \n",
      " 3   sales_units_value      int64         \n",
      " 4   sales_lbs_value        int64         \n",
      " 5   Vendor                 object        \n",
      "dtypes: datetime64[ns](1), float64(1), int64(3), object(1)\n",
      "memory usage: 241.7+ MB\n"
     ]
    }
   ],
   "source": [
    "sales_product_mfg.info()"
   ]
  },
  {
   "cell_type": "code",
   "execution_count": 90,
   "id": "9b4f3015",
   "metadata": {},
   "outputs": [
    {
     "data": {
      "text/plain": [
       "(4526182, 6)"
      ]
     },
     "execution_count": 90,
     "metadata": {},
     "output_type": "execute_result"
    }
   ],
   "source": [
    "sales_product_mfg.shape"
   ]
  },
  {
   "cell_type": "code",
   "execution_count": 91,
   "id": "007c4699",
   "metadata": {},
   "outputs": [
    {
     "data": {
      "text/plain": [
       "system_calendar_key_N    0\n",
       "PRODUCT_ID               0\n",
       "sales_dollars_value      0\n",
       "sales_units_value        0\n",
       "sales_lbs_value          0\n",
       "Vendor                   0\n",
       "dtype: int64"
      ]
     },
     "execution_count": 91,
     "metadata": {},
     "output_type": "execute_result"
    }
   ],
   "source": [
    "sales_product_mfg.isnull().sum()"
   ]
  },
  {
   "cell_type": "code",
   "execution_count": 92,
   "id": "61b5e7d5",
   "metadata": {},
   "outputs": [
    {
     "data": {
      "text/html": [
       "<div>\n",
       "<style scoped>\n",
       "    .dataframe tbody tr th:only-of-type {\n",
       "        vertical-align: middle;\n",
       "    }\n",
       "\n",
       "    .dataframe tbody tr th {\n",
       "        vertical-align: top;\n",
       "    }\n",
       "\n",
       "    .dataframe thead th {\n",
       "        text-align: right;\n",
       "    }\n",
       "</style>\n",
       "<table border=\"1\" class=\"dataframe\">\n",
       "  <thead>\n",
       "    <tr style=\"text-align: right;\">\n",
       "      <th></th>\n",
       "      <th>system_calendar_key_N</th>\n",
       "      <th>PRODUCT_ID</th>\n",
       "      <th>sales_dollars_value</th>\n",
       "      <th>sales_units_value</th>\n",
       "      <th>sales_lbs_value</th>\n",
       "      <th>Vendor</th>\n",
       "    </tr>\n",
       "  </thead>\n",
       "  <tbody>\n",
       "    <tr>\n",
       "      <th>0</th>\n",
       "      <td>2016-01-09</td>\n",
       "      <td>1</td>\n",
       "      <td>13927.0</td>\n",
       "      <td>934</td>\n",
       "      <td>18680</td>\n",
       "      <td>Others</td>\n",
       "    </tr>\n",
       "    <tr>\n",
       "      <th>1</th>\n",
       "      <td>2016-01-09</td>\n",
       "      <td>3</td>\n",
       "      <td>10289.0</td>\n",
       "      <td>1592</td>\n",
       "      <td>28646</td>\n",
       "      <td>Others</td>\n",
       "    </tr>\n",
       "  </tbody>\n",
       "</table>\n",
       "</div>"
      ],
      "text/plain": [
       "  system_calendar_key_N  PRODUCT_ID  sales_dollars_value  sales_units_value  \\\n",
       "0            2016-01-09           1              13927.0                934   \n",
       "1            2016-01-09           3              10289.0               1592   \n",
       "\n",
       "   sales_lbs_value  Vendor  \n",
       "0            18680  Others  \n",
       "1            28646  Others  "
      ]
     },
     "execution_count": 92,
     "metadata": {},
     "output_type": "execute_result"
    }
   ],
   "source": [
    "sales_product_mfg.head(2)"
   ]
  },
  {
   "cell_type": "code",
   "execution_count": 93,
   "id": "e3ffc5c6",
   "metadata": {},
   "outputs": [
    {
     "data": {
      "text/html": [
       "<div>\n",
       "<style scoped>\n",
       "    .dataframe tbody tr th:only-of-type {\n",
       "        vertical-align: middle;\n",
       "    }\n",
       "\n",
       "    .dataframe tbody tr th {\n",
       "        vertical-align: top;\n",
       "    }\n",
       "\n",
       "    .dataframe thead th {\n",
       "        text-align: right;\n",
       "    }\n",
       "</style>\n",
       "<table border=\"1\" class=\"dataframe\">\n",
       "  <thead>\n",
       "    <tr style=\"text-align: right;\">\n",
       "      <th></th>\n",
       "      <th>PRODUCT_ID</th>\n",
       "      <th>CLAIM_ID</th>\n",
       "    </tr>\n",
       "  </thead>\n",
       "  <tbody>\n",
       "    <tr>\n",
       "      <th>0</th>\n",
       "      <td>1</td>\n",
       "      <td>0</td>\n",
       "    </tr>\n",
       "    <tr>\n",
       "      <th>1</th>\n",
       "      <td>2</td>\n",
       "      <td>0</td>\n",
       "    </tr>\n",
       "    <tr>\n",
       "      <th>2</th>\n",
       "      <td>3</td>\n",
       "      <td>0</td>\n",
       "    </tr>\n",
       "    <tr>\n",
       "      <th>3</th>\n",
       "      <td>4</td>\n",
       "      <td>0</td>\n",
       "    </tr>\n",
       "    <tr>\n",
       "      <th>4</th>\n",
       "      <td>5</td>\n",
       "      <td>0</td>\n",
       "    </tr>\n",
       "  </tbody>\n",
       "</table>\n",
       "</div>"
      ],
      "text/plain": [
       "   PRODUCT_ID  CLAIM_ID\n",
       "0           1         0\n",
       "1           2         0\n",
       "2           3         0\n",
       "3           4         0\n",
       "4           5         0"
      ]
     },
     "execution_count": 93,
     "metadata": {},
     "output_type": "execute_result"
    }
   ],
   "source": [
    "themes_product_data.head(5)"
   ]
  },
  {
   "cell_type": "code",
   "execution_count": 94,
   "id": "a3e7c66d",
   "metadata": {},
   "outputs": [],
   "source": [
    "sales_product_mfg_themes=pd.merge(sales_product_mfg,themes_product_data, how=\"left\", on=\"PRODUCT_ID\")"
   ]
  },
  {
   "cell_type": "code",
   "execution_count": 95,
   "id": "233c01ca",
   "metadata": {},
   "outputs": [
    {
     "name": "stdout",
     "output_type": "stream",
     "text": [
      "<class 'pandas.core.frame.DataFrame'>\n",
      "Int64Index: 7767420 entries, 0 to 7767419\n",
      "Data columns (total 7 columns):\n",
      " #   Column                 Dtype         \n",
      "---  ------                 -----         \n",
      " 0   system_calendar_key_N  datetime64[ns]\n",
      " 1   PRODUCT_ID             int64         \n",
      " 2   sales_dollars_value    float64       \n",
      " 3   sales_units_value      int64         \n",
      " 4   sales_lbs_value        int64         \n",
      " 5   Vendor                 object        \n",
      " 6   CLAIM_ID               int64         \n",
      "dtypes: datetime64[ns](1), float64(1), int64(4), object(1)\n",
      "memory usage: 474.1+ MB\n"
     ]
    }
   ],
   "source": [
    "sales_product_mfg_themes.info()"
   ]
  },
  {
   "cell_type": "code",
   "execution_count": 96,
   "id": "cae16436",
   "metadata": {},
   "outputs": [
    {
     "data": {
      "text/plain": [
       "(7767420, 7)"
      ]
     },
     "execution_count": 96,
     "metadata": {},
     "output_type": "execute_result"
    }
   ],
   "source": [
    "sales_product_mfg_themes.shape"
   ]
  },
  {
   "cell_type": "code",
   "execution_count": 97,
   "id": "09a7511a",
   "metadata": {},
   "outputs": [
    {
     "data": {
      "text/plain": [
       "system_calendar_key_N    0\n",
       "PRODUCT_ID               0\n",
       "sales_dollars_value      0\n",
       "sales_units_value        0\n",
       "sales_lbs_value          0\n",
       "Vendor                   0\n",
       "CLAIM_ID                 0\n",
       "dtype: int64"
      ]
     },
     "execution_count": 97,
     "metadata": {},
     "output_type": "execute_result"
    }
   ],
   "source": [
    "sales_product_mfg_themes.isnull().sum()"
   ]
  },
  {
   "cell_type": "code",
   "execution_count": 98,
   "id": "99221110",
   "metadata": {},
   "outputs": [
    {
     "data": {
      "text/plain": [
       "0      2045703\n",
       "8      1668808\n",
       "40      826406\n",
       "432     520679\n",
       "32      387999\n",
       "186     338116\n",
       "187     218897\n",
       "224     218897\n",
       "81      215635\n",
       "58      175912\n",
       "222     146173\n",
       "185     146173\n",
       "438     132719\n",
       "120     129212\n",
       "227      84542\n",
       "158      73382\n",
       "151      60132\n",
       "430      55961\n",
       "75       42655\n",
       "15       35758\n",
       "220      26954\n",
       "16       26367\n",
       "73       25085\n",
       "39       24818\n",
       "433      22113\n",
       "100      17795\n",
       "125      16617\n",
       "437      12152\n",
       "147      11514\n",
       "163      10967\n",
       "193       8539\n",
       "142       8208\n",
       "145       7016\n",
       "152       6117\n",
       "207       5038\n",
       "228       4485\n",
       "287       4216\n",
       "192       1001\n",
       "101        956\n",
       "171        827\n",
       "385        824\n",
       "384        726\n",
       "191        598\n",
       "178        264\n",
       "38         150\n",
       "211        138\n",
       "393        112\n",
       "65          61\n",
       "148          3\n",
       "Name: CLAIM_ID, dtype: int64"
      ]
     },
     "execution_count": 98,
     "metadata": {},
     "output_type": "execute_result"
    }
   ],
   "source": [
    "sales_product_mfg_themes['CLAIM_ID'].value_counts()"
   ]
  },
  {
   "cell_type": "code",
   "execution_count": 99,
   "id": "ca20fd20",
   "metadata": {},
   "outputs": [
    {
     "name": "stdout",
     "output_type": "stream",
     "text": [
      "<class 'pandas.core.frame.DataFrame'>\n",
      "RangeIndex: 208 entries, 0 to 207\n",
      "Data columns (total 2 columns):\n",
      " #   Column      Non-Null Count  Dtype \n",
      "---  ------      --------------  ----- \n",
      " 0   CLAIM_ID    208 non-null    int64 \n",
      " 1   Claim Name  208 non-null    object\n",
      "dtypes: int64(1), object(1)\n",
      "memory usage: 3.4+ KB\n"
     ]
    }
   ],
   "source": [
    "themes_list.info()"
   ]
  },
  {
   "cell_type": "code",
   "execution_count": 100,
   "id": "0fe45ac9",
   "metadata": {},
   "outputs": [
    {
     "data": {
      "text/plain": [
       "(7767420, 7)"
      ]
     },
     "execution_count": 100,
     "metadata": {},
     "output_type": "execute_result"
    }
   ],
   "source": [
    "sales_product_mfg_themes.shape"
   ]
  },
  {
   "cell_type": "code",
   "execution_count": 101,
   "id": "ad0100b8",
   "metadata": {},
   "outputs": [],
   "source": [
    "sales_product_mfg_themes_name = pd.merge(sales_product_mfg_themes,themes_list, how=\"left\", on=\"CLAIM_ID\")"
   ]
  },
  {
   "cell_type": "code",
   "execution_count": 102,
   "id": "7efe255f",
   "metadata": {},
   "outputs": [
    {
     "data": {
      "text/plain": [
       "(7767420, 8)"
      ]
     },
     "execution_count": 102,
     "metadata": {},
     "output_type": "execute_result"
    }
   ],
   "source": [
    "sales_product_mfg_themes_name.shape"
   ]
  },
  {
   "cell_type": "code",
   "execution_count": 103,
   "id": "3d3926b7",
   "metadata": {},
   "outputs": [
    {
     "data": {
      "text/plain": [
       "system_calendar_key_N    0\n",
       "PRODUCT_ID               0\n",
       "sales_dollars_value      0\n",
       "sales_units_value        0\n",
       "sales_lbs_value          0\n",
       "Vendor                   0\n",
       "CLAIM_ID                 0\n",
       "Claim Name               0\n",
       "dtype: int64"
      ]
     },
     "execution_count": 103,
     "metadata": {},
     "output_type": "execute_result"
    }
   ],
   "source": [
    "sales_product_mfg_themes_name.isnull().sum()"
   ]
  },
  {
   "cell_type": "code",
   "execution_count": 104,
   "id": "42893c8c",
   "metadata": {},
   "outputs": [
    {
     "data": {
      "text/plain": [
       "No Claim                         2045703\n",
       "low carb                         1668808\n",
       "no additives/preservatives        826406\n",
       "apple cinnamon                    520679\n",
       "stroganoff                        387999\n",
       "pollock                           338116\n",
       "blueberry                         218897\n",
       "american southwest style          218897\n",
       "gmo free                          215635\n",
       "buckwheat                         175912\n",
       "pizza                             146173\n",
       "cookie                            146173\n",
       "ethnic & exotic                   132719\n",
       "crab                              129212\n",
       "salmon                             84542\n",
       "chicken                            73382\n",
       "low sodium                         60132\n",
       "soy foods                          55961\n",
       "french bisque                      42655\n",
       "beans                              35758\n",
       "herbs                              26954\n",
       "cocoa                              26367\n",
       "brown ale                          25085\n",
       "high/source of protein             24818\n",
       "gingerbread                        22113\n",
       "low calorie                        17795\n",
       "nuts                               16617\n",
       "vegetarian                         12152\n",
       "american gumbo                     11514\n",
       "ethical - packaging                10967\n",
       "poultry                             8539\n",
       "convenience - easy-to-prepare       8208\n",
       "scallop                             7016\n",
       "low sugar                           6117\n",
       "energy/alertness                    5038\n",
       "beef hamburger                      4485\n",
       "tilapia                             4216\n",
       "prebiotic                           1001\n",
       "peach                                956\n",
       "cherry                               827\n",
       "peanut                               824\n",
       "mackerel                             726\n",
       "bone health                          598\n",
       "red raspberry                        264\n",
       "cumin                                150\n",
       "halal                                138\n",
       "sea salt                             112\n",
       "ethical - not specific                61\n",
       "tuna                                   3\n",
       "Name: Claim Name, dtype: int64"
      ]
     },
     "execution_count": 104,
     "metadata": {},
     "output_type": "execute_result"
    }
   ],
   "source": [
    "sales_product_mfg_themes_name['Claim Name'].value_counts()"
   ]
  },
  {
   "cell_type": "code",
   "execution_count": 105,
   "id": "59bbb7c2",
   "metadata": {},
   "outputs": [
    {
     "data": {
      "text/html": [
       "<div>\n",
       "<style scoped>\n",
       "    .dataframe tbody tr th:only-of-type {\n",
       "        vertical-align: middle;\n",
       "    }\n",
       "\n",
       "    .dataframe tbody tr th {\n",
       "        vertical-align: top;\n",
       "    }\n",
       "\n",
       "    .dataframe thead th {\n",
       "        text-align: right;\n",
       "    }\n",
       "</style>\n",
       "<table border=\"1\" class=\"dataframe\">\n",
       "  <thead>\n",
       "    <tr style=\"text-align: right;\">\n",
       "      <th></th>\n",
       "      <th>system_calendar_key_N</th>\n",
       "      <th>PRODUCT_ID</th>\n",
       "      <th>sales_dollars_value</th>\n",
       "      <th>sales_units_value</th>\n",
       "      <th>sales_lbs_value</th>\n",
       "      <th>Vendor</th>\n",
       "      <th>CLAIM_ID</th>\n",
       "      <th>Claim Name</th>\n",
       "    </tr>\n",
       "  </thead>\n",
       "  <tbody>\n",
       "    <tr>\n",
       "      <th>0</th>\n",
       "      <td>2016-01-09</td>\n",
       "      <td>1</td>\n",
       "      <td>13927.0</td>\n",
       "      <td>934</td>\n",
       "      <td>18680</td>\n",
       "      <td>Others</td>\n",
       "      <td>0</td>\n",
       "      <td>No Claim</td>\n",
       "    </tr>\n",
       "    <tr>\n",
       "      <th>1</th>\n",
       "      <td>2016-01-09</td>\n",
       "      <td>3</td>\n",
       "      <td>10289.0</td>\n",
       "      <td>1592</td>\n",
       "      <td>28646</td>\n",
       "      <td>Others</td>\n",
       "      <td>0</td>\n",
       "      <td>No Claim</td>\n",
       "    </tr>\n",
       "  </tbody>\n",
       "</table>\n",
       "</div>"
      ],
      "text/plain": [
       "  system_calendar_key_N  PRODUCT_ID  sales_dollars_value  sales_units_value  \\\n",
       "0            2016-01-09           1              13927.0                934   \n",
       "1            2016-01-09           3              10289.0               1592   \n",
       "\n",
       "   sales_lbs_value  Vendor  CLAIM_ID Claim Name  \n",
       "0            18680  Others         0   No Claim  \n",
       "1            28646  Others         0   No Claim  "
      ]
     },
     "execution_count": 105,
     "metadata": {},
     "output_type": "execute_result"
    }
   ],
   "source": [
    "sales_product_mfg_themes_name.head(2)"
   ]
  },
  {
   "cell_type": "code",
   "execution_count": 106,
   "id": "764e3374",
   "metadata": {},
   "outputs": [],
   "source": [
    "# taking top 2 themes based on value_counts\n",
    "base_dataset = sales_product_mfg_themes_name[((sales_product_mfg_themes_name['Claim Name'] == 'no additives/preservatives'))]"
   ]
  },
  {
   "cell_type": "code",
   "execution_count": 107,
   "id": "a6756652",
   "metadata": {},
   "outputs": [
    {
     "data": {
      "text/plain": [
       "\"# taking top 3 themes based on value_counts\\nbase_dataset = sales_product_mfg_themes_name[((sales_product_mfg_themes_name['Claim Name'] == 'No Claim') | \\n                                              (sales_product_mfg_themes_name['Claim Name'] == 'low carb') | (sales_product_mfg_themes_name['Claim Name'] == 'no additives/preservatives'))]\""
      ]
     },
     "execution_count": 107,
     "metadata": {},
     "output_type": "execute_result"
    }
   ],
   "source": [
    "'''# taking top 3 themes based on value_counts\n",
    "base_dataset = sales_product_mfg_themes_name[((sales_product_mfg_themes_name['Claim Name'] == 'No Claim') | \n",
    "                                              (sales_product_mfg_themes_name['Claim Name'] == 'low carb') | (sales_product_mfg_themes_name['Claim Name'] == 'no additives/preservatives'))]'''"
   ]
  },
  {
   "cell_type": "code",
   "execution_count": 108,
   "id": "5177ac46",
   "metadata": {},
   "outputs": [
    {
     "data": {
      "text/html": [
       "<div>\n",
       "<style scoped>\n",
       "    .dataframe tbody tr th:only-of-type {\n",
       "        vertical-align: middle;\n",
       "    }\n",
       "\n",
       "    .dataframe tbody tr th {\n",
       "        vertical-align: top;\n",
       "    }\n",
       "\n",
       "    .dataframe thead th {\n",
       "        text-align: right;\n",
       "    }\n",
       "</style>\n",
       "<table border=\"1\" class=\"dataframe\">\n",
       "  <thead>\n",
       "    <tr style=\"text-align: right;\">\n",
       "      <th></th>\n",
       "      <th>system_calendar_key_N</th>\n",
       "      <th>PRODUCT_ID</th>\n",
       "      <th>sales_dollars_value</th>\n",
       "      <th>sales_units_value</th>\n",
       "      <th>sales_lbs_value</th>\n",
       "      <th>Vendor</th>\n",
       "      <th>CLAIM_ID</th>\n",
       "      <th>Claim Name</th>\n",
       "    </tr>\n",
       "  </thead>\n",
       "  <tbody>\n",
       "    <tr>\n",
       "      <th>209</th>\n",
       "      <td>2016-01-09</td>\n",
       "      <td>11356</td>\n",
       "      <td>411793.0</td>\n",
       "      <td>9780</td>\n",
       "      <td>322728</td>\n",
       "      <td>A</td>\n",
       "      <td>40</td>\n",
       "      <td>no additives/preservatives</td>\n",
       "    </tr>\n",
       "    <tr>\n",
       "      <th>217</th>\n",
       "      <td>2016-01-09</td>\n",
       "      <td>11357</td>\n",
       "      <td>91169.0</td>\n",
       "      <td>2884</td>\n",
       "      <td>51911</td>\n",
       "      <td>A</td>\n",
       "      <td>40</td>\n",
       "      <td>no additives/preservatives</td>\n",
       "    </tr>\n",
       "    <tr>\n",
       "      <th>221</th>\n",
       "      <td>2016-01-09</td>\n",
       "      <td>11358</td>\n",
       "      <td>60046.0</td>\n",
       "      <td>5189</td>\n",
       "      <td>31133</td>\n",
       "      <td>A</td>\n",
       "      <td>40</td>\n",
       "      <td>no additives/preservatives</td>\n",
       "    </tr>\n",
       "    <tr>\n",
       "      <th>299</th>\n",
       "      <td>2016-01-09</td>\n",
       "      <td>11457</td>\n",
       "      <td>7244.0</td>\n",
       "      <td>597</td>\n",
       "      <td>3583</td>\n",
       "      <td>A</td>\n",
       "      <td>40</td>\n",
       "      <td>no additives/preservatives</td>\n",
       "    </tr>\n",
       "    <tr>\n",
       "      <th>301</th>\n",
       "      <td>2016-01-09</td>\n",
       "      <td>11459</td>\n",
       "      <td>24247.0</td>\n",
       "      <td>475</td>\n",
       "      <td>15659</td>\n",
       "      <td>A</td>\n",
       "      <td>40</td>\n",
       "      <td>no additives/preservatives</td>\n",
       "    </tr>\n",
       "  </tbody>\n",
       "</table>\n",
       "</div>"
      ],
      "text/plain": [
       "    system_calendar_key_N  PRODUCT_ID  sales_dollars_value  sales_units_value  \\\n",
       "209            2016-01-09       11356             411793.0               9780   \n",
       "217            2016-01-09       11357              91169.0               2884   \n",
       "221            2016-01-09       11358              60046.0               5189   \n",
       "299            2016-01-09       11457               7244.0                597   \n",
       "301            2016-01-09       11459              24247.0                475   \n",
       "\n",
       "     sales_lbs_value Vendor  CLAIM_ID                  Claim Name  \n",
       "209           322728      A        40  no additives/preservatives  \n",
       "217            51911      A        40  no additives/preservatives  \n",
       "221            31133      A        40  no additives/preservatives  \n",
       "299             3583      A        40  no additives/preservatives  \n",
       "301            15659      A        40  no additives/preservatives  "
      ]
     },
     "execution_count": 108,
     "metadata": {},
     "output_type": "execute_result"
    }
   ],
   "source": [
    "base_dataset.head()"
   ]
  },
  {
   "cell_type": "code",
   "execution_count": 109,
   "id": "54093030",
   "metadata": {},
   "outputs": [
    {
     "data": {
      "text/plain": [
       "(826406, 8)"
      ]
     },
     "execution_count": 109,
     "metadata": {},
     "output_type": "execute_result"
    }
   ],
   "source": [
    "base_dataset.shape"
   ]
  },
  {
   "cell_type": "code",
   "execution_count": 110,
   "id": "b33996a9",
   "metadata": {},
   "outputs": [
    {
     "data": {
      "text/html": [
       "<div>\n",
       "<style scoped>\n",
       "    .dataframe tbody tr th:only-of-type {\n",
       "        vertical-align: middle;\n",
       "    }\n",
       "\n",
       "    .dataframe tbody tr th {\n",
       "        vertical-align: top;\n",
       "    }\n",
       "\n",
       "    .dataframe thead th {\n",
       "        text-align: right;\n",
       "    }\n",
       "</style>\n",
       "<table border=\"1\" class=\"dataframe\">\n",
       "  <thead>\n",
       "    <tr style=\"text-align: right;\">\n",
       "      <th></th>\n",
       "      <th>system_calendar_key_N</th>\n",
       "      <th>PRODUCT_ID</th>\n",
       "      <th>sales_dollars_value</th>\n",
       "      <th>sales_units_value</th>\n",
       "      <th>sales_lbs_value</th>\n",
       "      <th>Vendor</th>\n",
       "      <th>CLAIM_ID</th>\n",
       "      <th>Claim Name</th>\n",
       "    </tr>\n",
       "  </thead>\n",
       "  <tbody>\n",
       "    <tr>\n",
       "      <th>7766868</th>\n",
       "      <td>2018-10-27</td>\n",
       "      <td>46523</td>\n",
       "      <td>1.0</td>\n",
       "      <td>1</td>\n",
       "      <td>1</td>\n",
       "      <td>Private Label</td>\n",
       "      <td>40</td>\n",
       "      <td>no additives/preservatives</td>\n",
       "    </tr>\n",
       "    <tr>\n",
       "      <th>7767061</th>\n",
       "      <td>2018-10-27</td>\n",
       "      <td>46867</td>\n",
       "      <td>320.0</td>\n",
       "      <td>40</td>\n",
       "      <td>35</td>\n",
       "      <td>Private Label</td>\n",
       "      <td>40</td>\n",
       "      <td>no additives/preservatives</td>\n",
       "    </tr>\n",
       "    <tr>\n",
       "      <th>7767238</th>\n",
       "      <td>2018-10-27</td>\n",
       "      <td>47188</td>\n",
       "      <td>965.0</td>\n",
       "      <td>1102</td>\n",
       "      <td>379</td>\n",
       "      <td>Private Label</td>\n",
       "      <td>40</td>\n",
       "      <td>no additives/preservatives</td>\n",
       "    </tr>\n",
       "    <tr>\n",
       "      <th>7767305</th>\n",
       "      <td>2018-10-27</td>\n",
       "      <td>47341</td>\n",
       "      <td>1.0</td>\n",
       "      <td>1</td>\n",
       "      <td>0</td>\n",
       "      <td>Private Label</td>\n",
       "      <td>40</td>\n",
       "      <td>no additives/preservatives</td>\n",
       "    </tr>\n",
       "    <tr>\n",
       "      <th>7767387</th>\n",
       "      <td>2018-10-27</td>\n",
       "      <td>47468</td>\n",
       "      <td>302.0</td>\n",
       "      <td>122</td>\n",
       "      <td>91</td>\n",
       "      <td>Private Label</td>\n",
       "      <td>40</td>\n",
       "      <td>no additives/preservatives</td>\n",
       "    </tr>\n",
       "  </tbody>\n",
       "</table>\n",
       "</div>"
      ],
      "text/plain": [
       "        system_calendar_key_N  PRODUCT_ID  sales_dollars_value  \\\n",
       "7766868            2018-10-27       46523                  1.0   \n",
       "7767061            2018-10-27       46867                320.0   \n",
       "7767238            2018-10-27       47188                965.0   \n",
       "7767305            2018-10-27       47341                  1.0   \n",
       "7767387            2018-10-27       47468                302.0   \n",
       "\n",
       "         sales_units_value  sales_lbs_value         Vendor  CLAIM_ID  \\\n",
       "7766868                  1                1  Private Label        40   \n",
       "7767061                 40               35  Private Label        40   \n",
       "7767238               1102              379  Private Label        40   \n",
       "7767305                  1                0  Private Label        40   \n",
       "7767387                122               91  Private Label        40   \n",
       "\n",
       "                         Claim Name  \n",
       "7766868  no additives/preservatives  \n",
       "7767061  no additives/preservatives  \n",
       "7767238  no additives/preservatives  \n",
       "7767305  no additives/preservatives  \n",
       "7767387  no additives/preservatives  "
      ]
     },
     "execution_count": 110,
     "metadata": {},
     "output_type": "execute_result"
    }
   ],
   "source": [
    "base_dataset.tail()"
   ]
  },
  {
   "cell_type": "code",
   "execution_count": 111,
   "id": "3bf49d1b",
   "metadata": {},
   "outputs": [
    {
     "data": {
      "text/plain": [
       "no additives/preservatives    826406\n",
       "Name: Claim Name, dtype: int64"
      ]
     },
     "execution_count": 111,
     "metadata": {},
     "output_type": "execute_result"
    }
   ],
   "source": [
    "base_dataset['Claim Name'].value_counts()"
   ]
  },
  {
   "cell_type": "code",
   "execution_count": 112,
   "id": "f33f578a",
   "metadata": {},
   "outputs": [
    {
     "data": {
      "text/plain": [
       "Index(['system_calendar_key_N', 'PRODUCT_ID', 'sales_dollars_value',\n",
       "       'sales_units_value', 'sales_lbs_value', 'Vendor', 'CLAIM_ID',\n",
       "       'Claim Name'],\n",
       "      dtype='object')"
      ]
     },
     "execution_count": 112,
     "metadata": {},
     "output_type": "execute_result"
    }
   ],
   "source": [
    "base_dataset.columns"
   ]
  },
  {
   "cell_type": "code",
   "execution_count": 113,
   "id": "3deba344",
   "metadata": {},
   "outputs": [],
   "source": [
    "base_dataset = base_dataset[['PRODUCT_ID',\n",
    "       'sales_units_value', 'sales_lbs_value','Vendor','CLAIM_ID','sales_dollars_value']]"
   ]
  },
  {
   "cell_type": "code",
   "execution_count": 114,
   "id": "13f06b99",
   "metadata": {},
   "outputs": [
    {
     "name": "stdout",
     "output_type": "stream",
     "text": [
      "<class 'pandas.core.frame.DataFrame'>\n",
      "Int64Index: 826406 entries, 209 to 7767387\n",
      "Data columns (total 6 columns):\n",
      " #   Column               Non-Null Count   Dtype  \n",
      "---  ------               --------------   -----  \n",
      " 0   PRODUCT_ID           826406 non-null  int64  \n",
      " 1   sales_units_value    826406 non-null  int64  \n",
      " 2   sales_lbs_value      826406 non-null  int64  \n",
      " 3   Vendor               826406 non-null  object \n",
      " 4   CLAIM_ID             826406 non-null  int64  \n",
      " 5   sales_dollars_value  826406 non-null  float64\n",
      "dtypes: float64(1), int64(4), object(1)\n",
      "memory usage: 44.1+ MB\n"
     ]
    }
   ],
   "source": [
    "base_dataset.info()"
   ]
  },
  {
   "cell_type": "code",
   "execution_count": 115,
   "id": "d0398d0e",
   "metadata": {},
   "outputs": [
    {
     "data": {
      "text/html": [
       "<div>\n",
       "<style scoped>\n",
       "    .dataframe tbody tr th:only-of-type {\n",
       "        vertical-align: middle;\n",
       "    }\n",
       "\n",
       "    .dataframe tbody tr th {\n",
       "        vertical-align: top;\n",
       "    }\n",
       "\n",
       "    .dataframe thead th {\n",
       "        text-align: right;\n",
       "    }\n",
       "</style>\n",
       "<table border=\"1\" class=\"dataframe\">\n",
       "  <thead>\n",
       "    <tr style=\"text-align: right;\">\n",
       "      <th></th>\n",
       "      <th>PRODUCT_ID</th>\n",
       "      <th>sales_units_value</th>\n",
       "      <th>sales_lbs_value</th>\n",
       "      <th>Vendor</th>\n",
       "      <th>CLAIM_ID</th>\n",
       "      <th>sales_dollars_value</th>\n",
       "    </tr>\n",
       "  </thead>\n",
       "  <tbody>\n",
       "    <tr>\n",
       "      <th>209</th>\n",
       "      <td>11356</td>\n",
       "      <td>9780</td>\n",
       "      <td>322728</td>\n",
       "      <td>A</td>\n",
       "      <td>40</td>\n",
       "      <td>411793.0</td>\n",
       "    </tr>\n",
       "    <tr>\n",
       "      <th>217</th>\n",
       "      <td>11357</td>\n",
       "      <td>2884</td>\n",
       "      <td>51911</td>\n",
       "      <td>A</td>\n",
       "      <td>40</td>\n",
       "      <td>91169.0</td>\n",
       "    </tr>\n",
       "  </tbody>\n",
       "</table>\n",
       "</div>"
      ],
      "text/plain": [
       "     PRODUCT_ID  sales_units_value  sales_lbs_value Vendor  CLAIM_ID  \\\n",
       "209       11356               9780           322728      A        40   \n",
       "217       11357               2884            51911      A        40   \n",
       "\n",
       "     sales_dollars_value  \n",
       "209             411793.0  \n",
       "217              91169.0  "
      ]
     },
     "execution_count": 115,
     "metadata": {},
     "output_type": "execute_result"
    }
   ],
   "source": [
    "base_dataset.head(2)"
   ]
  },
  {
   "cell_type": "code",
   "execution_count": 116,
   "id": "b7e4c84a",
   "metadata": {},
   "outputs": [
    {
     "data": {
      "text/html": [
       "<div>\n",
       "<style scoped>\n",
       "    .dataframe tbody tr th:only-of-type {\n",
       "        vertical-align: middle;\n",
       "    }\n",
       "\n",
       "    .dataframe tbody tr th {\n",
       "        vertical-align: top;\n",
       "    }\n",
       "\n",
       "    .dataframe thead th {\n",
       "        text-align: right;\n",
       "    }\n",
       "</style>\n",
       "<table border=\"1\" class=\"dataframe\">\n",
       "  <thead>\n",
       "    <tr style=\"text-align: right;\">\n",
       "      <th></th>\n",
       "      <th>count</th>\n",
       "      <th>mean</th>\n",
       "      <th>std</th>\n",
       "      <th>min</th>\n",
       "      <th>25%</th>\n",
       "      <th>50%</th>\n",
       "      <th>75%</th>\n",
       "      <th>max</th>\n",
       "    </tr>\n",
       "  </thead>\n",
       "  <tbody>\n",
       "    <tr>\n",
       "      <th>PRODUCT_ID</th>\n",
       "      <td>826406.0</td>\n",
       "      <td>27359.572993</td>\n",
       "      <td>12770.182250</td>\n",
       "      <td>46.0</td>\n",
       "      <td>18935.0</td>\n",
       "      <td>29219.0</td>\n",
       "      <td>39043.0</td>\n",
       "      <td>57314.0</td>\n",
       "    </tr>\n",
       "    <tr>\n",
       "      <th>sales_units_value</th>\n",
       "      <td>826406.0</td>\n",
       "      <td>1887.684228</td>\n",
       "      <td>5173.749788</td>\n",
       "      <td>1.0</td>\n",
       "      <td>78.0</td>\n",
       "      <td>358.0</td>\n",
       "      <td>1399.0</td>\n",
       "      <td>151773.0</td>\n",
       "    </tr>\n",
       "    <tr>\n",
       "      <th>sales_lbs_value</th>\n",
       "      <td>826406.0</td>\n",
       "      <td>6789.826641</td>\n",
       "      <td>28879.286345</td>\n",
       "      <td>0.0</td>\n",
       "      <td>102.0</td>\n",
       "      <td>700.0</td>\n",
       "      <td>3397.0</td>\n",
       "      <td>1258452.0</td>\n",
       "    </tr>\n",
       "    <tr>\n",
       "      <th>CLAIM_ID</th>\n",
       "      <td>826406.0</td>\n",
       "      <td>40.000000</td>\n",
       "      <td>0.000000</td>\n",
       "      <td>40.0</td>\n",
       "      <td>40.0</td>\n",
       "      <td>40.0</td>\n",
       "      <td>40.0</td>\n",
       "      <td>40.0</td>\n",
       "    </tr>\n",
       "    <tr>\n",
       "      <th>sales_dollars_value</th>\n",
       "      <td>826406.0</td>\n",
       "      <td>17410.583999</td>\n",
       "      <td>47550.486066</td>\n",
       "      <td>0.0</td>\n",
       "      <td>743.0</td>\n",
       "      <td>3756.0</td>\n",
       "      <td>14590.0</td>\n",
       "      <td>1477861.0</td>\n",
       "    </tr>\n",
       "  </tbody>\n",
       "</table>\n",
       "</div>"
      ],
      "text/plain": [
       "                        count          mean           std   min      25%  \\\n",
       "PRODUCT_ID           826406.0  27359.572993  12770.182250  46.0  18935.0   \n",
       "sales_units_value    826406.0   1887.684228   5173.749788   1.0     78.0   \n",
       "sales_lbs_value      826406.0   6789.826641  28879.286345   0.0    102.0   \n",
       "CLAIM_ID             826406.0     40.000000      0.000000  40.0     40.0   \n",
       "sales_dollars_value  826406.0  17410.583999  47550.486066   0.0    743.0   \n",
       "\n",
       "                         50%      75%        max  \n",
       "PRODUCT_ID           29219.0  39043.0    57314.0  \n",
       "sales_units_value      358.0   1399.0   151773.0  \n",
       "sales_lbs_value        700.0   3397.0  1258452.0  \n",
       "CLAIM_ID                40.0     40.0       40.0  \n",
       "sales_dollars_value   3756.0  14590.0  1477861.0  "
      ]
     },
     "execution_count": 116,
     "metadata": {},
     "output_type": "execute_result"
    }
   ],
   "source": [
    "base_dataset.describe().T"
   ]
  },
  {
   "cell_type": "code",
   "execution_count": 117,
   "id": "5cae221b",
   "metadata": {},
   "outputs": [
    {
     "data": {
      "text/plain": [
       "<seaborn.axisgrid.PairGrid at 0x2ab9fb4f190>"
      ]
     },
     "execution_count": 117,
     "metadata": {},
     "output_type": "execute_result"
    },
    {
     "data": {
      "image/png": "[encoded data removed]",
      "text/plain": [
       "<Figure size 1250x1250 with 30 Axes>"
      ]
     },
     "metadata": {},
     "output_type": "display_data"
    }
   ],
   "source": [
    "sns.pairplot(base_dataset)"
   ]
  },
  {
   "cell_type": "code",
   "execution_count": 119,
   "id": "c4d169de",
   "metadata": {},
   "outputs": [
    {
     "data": {
      "text/plain": [
       "<matplotlib.collections.PathCollection at 0x205157e6050>"
      ]
     },
     "execution_count": 119,
     "metadata": {},
     "output_type": "execute_result"
    },
    {
     "data": {
      "image/png": "[encoded data removed]",
      "text/plain": [
       "<Figure size 640x480 with 1 Axes>"
      ]
     },
     "metadata": {},
     "output_type": "display_data"
    }
   ],
   "source": [
    "plt.scatter(base_dataset['sales_units_value'],base_dataset['sales_dollars_value'])"
   ]
  },
  {
   "cell_type": "code",
   "execution_count": 157,
   "id": "c1a9e92c",
   "metadata": {},
   "outputs": [],
   "source": [
    "cat=[i for i in base_dataset.columns if i not in base_dataset.describe().columns]"
   ]
  },
  {
   "cell_type": "code",
   "execution_count": 158,
   "id": "3ef2ad78",
   "metadata": {},
   "outputs": [
    {
     "data": {
      "text/plain": [
       "['Vendor']"
      ]
     },
     "execution_count": 158,
     "metadata": {},
     "output_type": "execute_result"
    }
   ],
   "source": [
    "cat"
   ]
  },
  {
   "cell_type": "code",
   "execution_count": 159,
   "id": "531f80f0",
   "metadata": {},
   "outputs": [
    {
     "data": {
      "text/plain": [
       "array(['A', 'Others', 'B', 'Private Label', 'D', 'F', 'H'], dtype=object)"
      ]
     },
     "execution_count": 159,
     "metadata": {},
     "output_type": "execute_result"
    }
   ],
   "source": [
    "base_dataset['Vendor'].unique()"
   ]
  },
  {
   "cell_type": "code",
   "execution_count": 119,
   "id": "c584fbec",
   "metadata": {},
   "outputs": [
    {
     "ename": "NameError",
     "evalue": "name 'Others' is not defined",
     "output_type": "error",
     "traceback": [
      "\u001b[1;31m---------------------------------------------------------------------------\u001b[0m",
      "\u001b[1;31mNameError\u001b[0m                                 Traceback (most recent call last)",
      "Input \u001b[1;32mIn [119]\u001b[0m, in \u001b[0;36m<cell line: 2>\u001b[1;34m()\u001b[0m\n\u001b[0;32m      1\u001b[0m \u001b[38;5;66;03m###\u001b[39;00m\n\u001b[1;32m----> 2\u001b[0m \u001b[43mOthers\u001b[49m \u001b[38;5;241m-\u001b[39m\u001b[38;5;241m0\u001b[39m\n\u001b[0;32m      3\u001b[0m A\u001b[38;5;241m-\u001b[39m \u001b[38;5;241m1\u001b[39m\n\u001b[0;32m      4\u001b[0m Priv \u001b[38;5;241m-\u001b[39m \u001b[38;5;241m2\u001b[39m\n",
      "\u001b[1;31mNameError\u001b[0m: name 'Others' is not defined"
     ]
    }
   ],
   "source": [
    "###\n",
    "Others -0\n",
    "A- 1\n",
    "Priv - 2\n",
    "B - 3"
   ]
  },
  {
   "cell_type": "code",
   "execution_count": 160,
   "id": "26b55800",
   "metadata": {},
   "outputs": [
    {
     "data": {
      "text/plain": [
       "7"
      ]
     },
     "execution_count": 160,
     "metadata": {},
     "output_type": "execute_result"
    }
   ],
   "source": [
    "base_dataset['Vendor'].nunique()"
   ]
  },
  {
   "cell_type": "code",
   "execution_count": 161,
   "id": "a5136243",
   "metadata": {},
   "outputs": [],
   "source": [
    "# Label Encoders\n",
    "from sklearn.preprocessing import LabelEncoder\n",
    "#0\n",
    "def label_encoders(data,cat):\n",
    "    le=LabelEncoder()\n",
    "    for i in cat:\n",
    "        le.fit(data[i])\n",
    "        x=le.transform(data[i])\n",
    "        data[i]=x\n",
    "    return data"
   ]
  },
  {
   "cell_type": "code",
   "execution_count": 162,
   "id": "8b376c6f",
   "metadata": {},
   "outputs": [],
   "source": [
    "base_data_label_encoded=label_encoders(base_dataset,cat)"
   ]
  },
  {
   "cell_type": "code",
   "execution_count": 163,
   "id": "2b1d3834",
   "metadata": {},
   "outputs": [
    {
     "data": {
      "text/html": [
       "<div>\n",
       "<style scoped>\n",
       "    .dataframe tbody tr th:only-of-type {\n",
       "        vertical-align: middle;\n",
       "    }\n",
       "\n",
       "    .dataframe tbody tr th {\n",
       "        vertical-align: top;\n",
       "    }\n",
       "\n",
       "    .dataframe thead th {\n",
       "        text-align: right;\n",
       "    }\n",
       "</style>\n",
       "<table border=\"1\" class=\"dataframe\">\n",
       "  <thead>\n",
       "    <tr style=\"text-align: right;\">\n",
       "      <th></th>\n",
       "      <th>PRODUCT_ID</th>\n",
       "      <th>sales_units_value</th>\n",
       "      <th>sales_lbs_value</th>\n",
       "      <th>Vendor</th>\n",
       "      <th>CLAIM_ID</th>\n",
       "      <th>sales_dollars_value</th>\n",
       "    </tr>\n",
       "  </thead>\n",
       "  <tbody>\n",
       "    <tr>\n",
       "      <th>209</th>\n",
       "      <td>11356</td>\n",
       "      <td>9780</td>\n",
       "      <td>322728</td>\n",
       "      <td>0</td>\n",
       "      <td>40</td>\n",
       "      <td>411793.00</td>\n",
       "    </tr>\n",
       "    <tr>\n",
       "      <th>217</th>\n",
       "      <td>11357</td>\n",
       "      <td>2884</td>\n",
       "      <td>51911</td>\n",
       "      <td>0</td>\n",
       "      <td>40</td>\n",
       "      <td>91169.00</td>\n",
       "    </tr>\n",
       "  </tbody>\n",
       "</table>\n",
       "</div>"
      ],
      "text/plain": [
       "     PRODUCT_ID  sales_units_value  sales_lbs_value  Vendor  CLAIM_ID  \\\n",
       "209       11356               9780           322728       0        40   \n",
       "217       11357               2884            51911       0        40   \n",
       "\n",
       "     sales_dollars_value  \n",
       "209            411793.00  \n",
       "217             91169.00  "
      ]
     },
     "execution_count": 163,
     "metadata": {},
     "output_type": "execute_result"
    }
   ],
   "source": [
    "base_data_label_encoded.head(2)"
   ]
  },
  {
   "cell_type": "code",
   "execution_count": 164,
   "id": "35359d42",
   "metadata": {},
   "outputs": [
    {
     "data": {
      "text/plain": [
       "(826406, 6)"
      ]
     },
     "execution_count": 164,
     "metadata": {},
     "output_type": "execute_result"
    }
   ],
   "source": [
    "base_data_label_encoded.shape"
   ]
  },
  {
   "cell_type": "code",
   "execution_count": 165,
   "id": "b5311f40",
   "metadata": {},
   "outputs": [
    {
     "data": {
      "text/plain": [
       "array([0, 5, 1, 6, 2, 3, 4])"
      ]
     },
     "execution_count": 165,
     "metadata": {},
     "output_type": "execute_result"
    }
   ],
   "source": [
    "base_data_label_encoded['Vendor'].unique()"
   ]
  },
  {
   "cell_type": "code",
   "execution_count": 166,
   "id": "1ab134c9",
   "metadata": {},
   "outputs": [
    {
     "name": "stdout",
     "output_type": "stream",
     "text": [
      "<class 'pandas.core.frame.DataFrame'>\n",
      "Int64Index: 826406 entries, 209 to 7767387\n",
      "Data columns (total 6 columns):\n",
      " #   Column               Non-Null Count   Dtype  \n",
      "---  ------               --------------   -----  \n",
      " 0   PRODUCT_ID           826406 non-null  int64  \n",
      " 1   sales_units_value    826406 non-null  int64  \n",
      " 2   sales_lbs_value      826406 non-null  int64  \n",
      " 3   Vendor               826406 non-null  int32  \n",
      " 4   CLAIM_ID             826406 non-null  int64  \n",
      " 5   sales_dollars_value  826406 non-null  float64\n",
      "dtypes: float64(1), int32(1), int64(4)\n",
      "memory usage: 41.0 MB\n"
     ]
    }
   ],
   "source": [
    "base_data_label_encoded.info()"
   ]
  },
  {
   "cell_type": "code",
   "execution_count": 167,
   "id": "9692f578",
   "metadata": {},
   "outputs": [],
   "source": [
    "x=base_data_label_encoded.drop('sales_dollars_value',axis=1)\n",
    "y=base_data_label_encoded['sales_dollars_value']"
   ]
  },
  {
   "cell_type": "code",
   "execution_count": 168,
   "id": "f8fa5758",
   "metadata": {},
   "outputs": [
    {
     "data": {
      "text/html": [
       "<div>\n",
       "<style scoped>\n",
       "    .dataframe tbody tr th:only-of-type {\n",
       "        vertical-align: middle;\n",
       "    }\n",
       "\n",
       "    .dataframe tbody tr th {\n",
       "        vertical-align: top;\n",
       "    }\n",
       "\n",
       "    .dataframe thead th {\n",
       "        text-align: right;\n",
       "    }\n",
       "</style>\n",
       "<table border=\"1\" class=\"dataframe\">\n",
       "  <thead>\n",
       "    <tr style=\"text-align: right;\">\n",
       "      <th></th>\n",
       "      <th>PRODUCT_ID</th>\n",
       "      <th>sales_units_value</th>\n",
       "      <th>sales_lbs_value</th>\n",
       "      <th>Vendor</th>\n",
       "      <th>CLAIM_ID</th>\n",
       "    </tr>\n",
       "  </thead>\n",
       "  <tbody>\n",
       "    <tr>\n",
       "      <th>209</th>\n",
       "      <td>11356</td>\n",
       "      <td>9780</td>\n",
       "      <td>322728</td>\n",
       "      <td>0</td>\n",
       "      <td>40</td>\n",
       "    </tr>\n",
       "    <tr>\n",
       "      <th>217</th>\n",
       "      <td>11357</td>\n",
       "      <td>2884</td>\n",
       "      <td>51911</td>\n",
       "      <td>0</td>\n",
       "      <td>40</td>\n",
       "    </tr>\n",
       "  </tbody>\n",
       "</table>\n",
       "</div>"
      ],
      "text/plain": [
       "     PRODUCT_ID  sales_units_value  sales_lbs_value  Vendor  CLAIM_ID\n",
       "209       11356               9780           322728       0        40\n",
       "217       11357               2884            51911       0        40"
      ]
     },
     "execution_count": 168,
     "metadata": {},
     "output_type": "execute_result"
    }
   ],
   "source": [
    "x.head(2)"
   ]
  },
  {
   "cell_type": "code",
   "execution_count": 169,
   "id": "7d5dde60",
   "metadata": {},
   "outputs": [
    {
     "data": {
      "text/plain": [
       "209   411793.00\n",
       "217    91169.00\n",
       "Name: sales_dollars_value, dtype: float64"
      ]
     },
     "execution_count": 169,
     "metadata": {},
     "output_type": "execute_result"
    }
   ],
   "source": [
    "y.head(2)"
   ]
  },
  {
   "cell_type": "code",
   "execution_count": 170,
   "id": "b3d56ce7",
   "metadata": {},
   "outputs": [],
   "source": [
    "from sklearn.model_selection import train_test_split\n",
    "X_train,X_test,y_train,y_test=train_test_split(x,y,test_size=0.25)"
   ]
  },
  {
   "cell_type": "code",
   "execution_count": 171,
   "id": "a73737d7",
   "metadata": {},
   "outputs": [
    {
     "name": "stdout",
     "output_type": "stream",
     "text": [
      "(619804, 5) (206602, 5) (619804,) (206602,)\n"
     ]
    }
   ],
   "source": [
    "print(X_train.shape,X_test.shape,y_train.shape,y_test.shape)"
   ]
  },
  {
   "cell_type": "code",
   "execution_count": 172,
   "id": "cf57d372",
   "metadata": {},
   "outputs": [
    {
     "data": {
      "text/plain": [
       "array([ 4512.55413741, 34127.12313751,  3902.79553799, ...,\n",
       "       31654.17545976,  8072.69842581,  6668.94937788])"
      ]
     },
     "execution_count": 172,
     "metadata": {},
     "output_type": "execute_result"
    }
   ],
   "source": [
    "from sklearn.linear_model import LinearRegression\n",
    "ln=LinearRegression()\n",
    "ln.fit(X_train,y_train)\n",
    "ln.predict(X_test)"
   ]
  },
  {
   "cell_type": "code",
   "execution_count": 173,
   "id": "c93759d6",
   "metadata": {},
   "outputs": [
    {
     "data": {
      "text/plain": [
       "1643705300.4017868"
      ]
     },
     "execution_count": 173,
     "metadata": {},
     "output_type": "execute_result"
    }
   ],
   "source": [
    "abs(y_test.values-ln.predict(X_test)).sum()"
   ]
  },
  {
   "cell_type": "code",
   "execution_count": 174,
   "id": "22e90778",
   "metadata": {},
   "outputs": [
    {
     "data": {
      "text/plain": [
       "1643712591.722952"
      ]
     },
     "execution_count": 174,
     "metadata": {},
     "output_type": "execute_result"
    }
   ],
   "source": [
    "from sklearn.linear_model import Lasso\n",
    "ls=Lasso()\n",
    "ls.fit(X_train,y_train)\n",
    "ls.predict(X_test)\n",
    "\n",
    "abs(y_test.values-ls.predict(X_test)).sum()"
   ]
  },
  {
   "cell_type": "code",
   "execution_count": 175,
   "id": "045ba557",
   "metadata": {},
   "outputs": [
    {
     "data": {
      "text/plain": [
       "1643705307.589934"
      ]
     },
     "execution_count": 175,
     "metadata": {},
     "output_type": "execute_result"
    }
   ],
   "source": [
    "from sklearn.linear_model import Ridge\n",
    "rd=Ridge()\n",
    "rd.fit(X_train,y_train)\n",
    "rd.predict(X_test)\n",
    "\n",
    "abs(y_test.values-rd.predict(X_test)).sum()"
   ]
  },
  {
   "cell_type": "markdown",
   "id": "c4f50fa4",
   "metadata": {},
   "source": [
    "### Model Validation"
   ]
  },
  {
   "cell_type": "code",
   "execution_count": 176,
   "id": "337479a0",
   "metadata": {},
   "outputs": [],
   "source": [
    "from sklearn.metrics import mean_absolute_error,mean_squared_error,r2_score"
   ]
  },
  {
   "cell_type": "code",
   "execution_count": 177,
   "id": "95e3e012",
   "metadata": {},
   "outputs": [
    {
     "name": "stderr",
     "output_type": "stream",
     "text": [
      "C:\\Users\\APPLE\\AppData\\Local\\Temp\\ipykernel_9872\\1946313057.py:9: RuntimeWarning: divide by zero encountered in divide\n",
      "  mape=(((abs(y_test.values-rd.predict(X_test))/y_test.values)*100).sum())*(1/y_test.shape[0])\n",
      "C:\\Users\\APPLE\\AppData\\Local\\Temp\\ipykernel_9872\\1946313057.py:9: RuntimeWarning: divide by zero encountered in divide\n",
      "  mape=(((abs(y_test.values-rd.predict(X_test))/y_test.values)*100).sum())*(1/y_test.shape[0])\n",
      "C:\\Users\\APPLE\\AppData\\Local\\Temp\\ipykernel_9872\\1946313057.py:9: RuntimeWarning: divide by zero encountered in divide\n",
      "  mape=(((abs(y_test.values-rd.predict(X_test))/y_test.values)*100).sum())*(1/y_test.shape[0])\n"
     ]
    }
   ],
   "source": [
    "validation_table=[]\n",
    "for i in [LinearRegression,Lasso,Ridge]:\n",
    "    rd=i()\n",
    "    rd.fit(X_train,y_train)\n",
    "    rd.predict(X_test)\n",
    "    mae=mean_absolute_error(y_test.values,rd.predict(X_test))\n",
    "    mse=mean_squared_error(y_test.values,rd.predict(X_test))\n",
    "    rmse=np.sqrt(mean_squared_error(y_test.values,rd.predict(X_test)))\n",
    "    mape=(((abs(y_test.values-rd.predict(X_test))/y_test.values)*100).sum())*(1/y_test.shape[0])\n",
    "    rsquare=r2_score(y_test.values,rd.predict(X_test))\n",
    "    validation_table.append([i,mae,mse,rmse,mape,rsquare])"
   ]
  },
  {
   "cell_type": "code",
   "execution_count": 178,
   "id": "4fe8a0c8",
   "metadata": {},
   "outputs": [],
   "source": [
    "validation_table=pd.DataFrame(validation_table)"
   ]
  },
  {
   "cell_type": "code",
   "execution_count": 179,
   "id": "8cd1758d",
   "metadata": {},
   "outputs": [],
   "source": [
    "validation_table.columns=[\"model name\",\"mae\",\"mse\",\"rmse\",\"mape\",\"rsquare\"]"
   ]
  },
  {
   "cell_type": "code",
   "execution_count": 180,
   "id": "d676bc92",
   "metadata": {},
   "outputs": [
    {
     "data": {
      "text/html": [
       "<div>\n",
       "<style scoped>\n",
       "    .dataframe tbody tr th:only-of-type {\n",
       "        vertical-align: middle;\n",
       "    }\n",
       "\n",
       "    .dataframe tbody tr th {\n",
       "        vertical-align: top;\n",
       "    }\n",
       "\n",
       "    .dataframe thead th {\n",
       "        text-align: right;\n",
       "    }\n",
       "</style>\n",
       "<table border=\"1\" class=\"dataframe\">\n",
       "  <thead>\n",
       "    <tr style=\"text-align: right;\">\n",
       "      <th></th>\n",
       "      <th>model name</th>\n",
       "      <th>mae</th>\n",
       "      <th>mse</th>\n",
       "      <th>rmse</th>\n",
       "      <th>mape</th>\n",
       "      <th>rsquare</th>\n",
       "    </tr>\n",
       "  </thead>\n",
       "  <tbody>\n",
       "    <tr>\n",
       "      <th>0</th>\n",
       "      <td>&lt;class 'sklearn.linear_model._base.LinearRegre...</td>\n",
       "      <td>7955.90</td>\n",
       "      <td>314048669.36</td>\n",
       "      <td>17721.42</td>\n",
       "      <td>inf</td>\n",
       "      <td>0.86</td>\n",
       "    </tr>\n",
       "    <tr>\n",
       "      <th>1</th>\n",
       "      <td>&lt;class 'sklearn.linear_model._coordinate_desce...</td>\n",
       "      <td>7955.94</td>\n",
       "      <td>314048786.54</td>\n",
       "      <td>17721.42</td>\n",
       "      <td>inf</td>\n",
       "      <td>0.86</td>\n",
       "    </tr>\n",
       "    <tr>\n",
       "      <th>2</th>\n",
       "      <td>&lt;class 'sklearn.linear_model._ridge.Ridge'&gt;</td>\n",
       "      <td>7955.90</td>\n",
       "      <td>314048669.47</td>\n",
       "      <td>17721.42</td>\n",
       "      <td>inf</td>\n",
       "      <td>0.86</td>\n",
       "    </tr>\n",
       "  </tbody>\n",
       "</table>\n",
       "</div>"
      ],
      "text/plain": [
       "                                          model name     mae          mse  \\\n",
       "0  <class 'sklearn.linear_model._base.LinearRegre... 7955.90 314048669.36   \n",
       "1  <class 'sklearn.linear_model._coordinate_desce... 7955.94 314048786.54   \n",
       "2        <class 'sklearn.linear_model._ridge.Ridge'> 7955.90 314048669.47   \n",
       "\n",
       "      rmse  mape  rsquare  \n",
       "0 17721.42   inf     0.86  \n",
       "1 17721.42   inf     0.86  \n",
       "2 17721.42   inf     0.86  "
      ]
     },
     "execution_count": 180,
     "metadata": {},
     "output_type": "execute_result"
    }
   ],
   "source": [
    "validation_table"
   ]
  },
  {
   "cell_type": "code",
   "execution_count": 181,
   "id": "753ac862",
   "metadata": {},
   "outputs": [],
   "source": [
    "from sklearn.tree import DecisionTreeRegressor\n",
    "from sklearn.ensemble import RandomForestRegressor\n",
    "from sklearn.ensemble import BaggingRegressor"
   ]
  },
  {
   "cell_type": "code",
   "execution_count": 182,
   "id": "5296aef0",
   "metadata": {},
   "outputs": [],
   "source": [
    "def model_validation(x):\n",
    "    if x==\"train\":\n",
    "        validation_table_train=[]\n",
    "        models=[LinearRegression,Lasso,Ridge,DecisionTreeRegressor,RandomForestRegressor,BaggingRegressor]\n",
    "        for i in models:\n",
    "            rd=i()\n",
    "            rd.fit(X_train,y_train)\n",
    "            rd.predict(X_train)\n",
    "            mae=mean_absolute_error(y_train.values,rd.predict(X_train))\n",
    "            mse=mean_squared_error(y_train.values,rd.predict(X_train))\n",
    "            rmse=np.sqrt(mean_squared_error(y_train.values,rd.predict(X_train)))\n",
    "            mape=(((abs(y_train.values-rd.predict(X_train))/y_train.values)*100).sum())*(1/y_train.shape[0])\n",
    "            rsquare=r2_score(y_train.values,rd.predict(X_train))\n",
    "            validation_table_train.append([i,mae,mse,rmse,mape,rsquare])\n",
    "        validation_table_train=pd.DataFrame(validation_table_train)\n",
    "        validation_table_train.columns=[\"model name\",\"mae\",\"mse\",\"rmse\",\"mape\",\"rsquare\"]\n",
    "        validation_table_train\n",
    "        return validation_table_train\n",
    "    else:\n",
    "        validation_table=[]\n",
    "        models=[LinearRegression,Lasso,Ridge,DecisionTreeRegressor,RandomForestRegressor,BaggingRegressor]\n",
    "        for i in models:\n",
    "            rd=i()\n",
    "            rd.fit(X_train,y_train)\n",
    "            rd.predict(X_test)\n",
    "            mae=mean_absolute_error(y_test.values,rd.predict(X_test))\n",
    "            mse=mean_squared_error(y_test.values,rd.predict(X_test))\n",
    "            rmse=np.sqrt(mean_squared_error(y_test.values,rd.predict(X_test)))\n",
    "            mape=(((abs(y_test.values-rd.predict(X_test))/y_test.values)*100).sum())*(1/y_test.shape[0])\n",
    "            rsquare=r2_score(y_test.values,rd.predict(X_test))\n",
    "            validation_table.append([i,mae,mse,rmse,mape,rsquare])\n",
    "        validation_table=pd.DataFrame(validation_table)\n",
    "        validation_table.columns=[\"model name\",\"mae\",\"mse\",\"rmse\",\"mape\",\"rsquare\"]\n",
    "        return validation_table"
   ]
  },
  {
   "cell_type": "code",
   "execution_count": 183,
   "id": "79e85ca7",
   "metadata": {},
   "outputs": [],
   "source": [
    "pd.options.display.float_format='{:0.2f}'.format"
   ]
  },
  {
   "cell_type": "code",
   "execution_count": 184,
   "id": "ede54428",
   "metadata": {},
   "outputs": [
    {
     "name": "stderr",
     "output_type": "stream",
     "text": [
      "C:\\Users\\APPLE\\AppData\\Local\\Temp\\ipykernel_9872\\3325111636.py:12: RuntimeWarning: divide by zero encountered in divide\n",
      "  mape=(((abs(y_train.values-rd.predict(X_train))/y_train.values)*100).sum())*(1/y_train.shape[0])\n",
      "C:\\Users\\APPLE\\AppData\\Local\\Temp\\ipykernel_9872\\3325111636.py:12: RuntimeWarning: divide by zero encountered in divide\n",
      "  mape=(((abs(y_train.values-rd.predict(X_train))/y_train.values)*100).sum())*(1/y_train.shape[0])\n",
      "C:\\Users\\APPLE\\AppData\\Local\\Temp\\ipykernel_9872\\3325111636.py:12: RuntimeWarning: divide by zero encountered in divide\n",
      "  mape=(((abs(y_train.values-rd.predict(X_train))/y_train.values)*100).sum())*(1/y_train.shape[0])\n",
      "C:\\Users\\APPLE\\AppData\\Local\\Temp\\ipykernel_9872\\3325111636.py:12: RuntimeWarning: divide by zero encountered in divide\n",
      "  mape=(((abs(y_train.values-rd.predict(X_train))/y_train.values)*100).sum())*(1/y_train.shape[0])\n",
      "C:\\Users\\APPLE\\AppData\\Local\\Temp\\ipykernel_9872\\3325111636.py:12: RuntimeWarning: invalid value encountered in divide\n",
      "  mape=(((abs(y_train.values-rd.predict(X_train))/y_train.values)*100).sum())*(1/y_train.shape[0])\n",
      "C:\\Users\\APPLE\\AppData\\Local\\Temp\\ipykernel_9872\\3325111636.py:12: RuntimeWarning: divide by zero encountered in divide\n",
      "  mape=(((abs(y_train.values-rd.predict(X_train))/y_train.values)*100).sum())*(1/y_train.shape[0])\n",
      "C:\\Users\\APPLE\\AppData\\Local\\Temp\\ipykernel_9872\\3325111636.py:12: RuntimeWarning: invalid value encountered in divide\n",
      "  mape=(((abs(y_train.values-rd.predict(X_train))/y_train.values)*100).sum())*(1/y_train.shape[0])\n",
      "C:\\Users\\APPLE\\AppData\\Local\\Temp\\ipykernel_9872\\3325111636.py:12: RuntimeWarning: divide by zero encountered in divide\n",
      "  mape=(((abs(y_train.values-rd.predict(X_train))/y_train.values)*100).sum())*(1/y_train.shape[0])\n",
      "C:\\Users\\APPLE\\AppData\\Local\\Temp\\ipykernel_9872\\3325111636.py:12: RuntimeWarning: invalid value encountered in divide\n",
      "  mape=(((abs(y_train.values-rd.predict(X_train))/y_train.values)*100).sum())*(1/y_train.shape[0])\n"
     ]
    },
    {
     "data": {
      "text/html": [
       "<div>\n",
       "<style scoped>\n",
       "    .dataframe tbody tr th:only-of-type {\n",
       "        vertical-align: middle;\n",
       "    }\n",
       "\n",
       "    .dataframe tbody tr th {\n",
       "        vertical-align: top;\n",
       "    }\n",
       "\n",
       "    .dataframe thead th {\n",
       "        text-align: right;\n",
       "    }\n",
       "</style>\n",
       "<table border=\"1\" class=\"dataframe\">\n",
       "  <thead>\n",
       "    <tr style=\"text-align: right;\">\n",
       "      <th></th>\n",
       "      <th>model name</th>\n",
       "      <th>mae</th>\n",
       "      <th>mse</th>\n",
       "      <th>rmse</th>\n",
       "      <th>mape</th>\n",
       "      <th>rsquare</th>\n",
       "    </tr>\n",
       "  </thead>\n",
       "  <tbody>\n",
       "    <tr>\n",
       "      <th>0</th>\n",
       "      <td>&lt;class 'sklearn.linear_model._base.LinearRegre...</td>\n",
       "      <td>7976.69</td>\n",
       "      <td>318400367.40</td>\n",
       "      <td>17843.78</td>\n",
       "      <td>inf</td>\n",
       "      <td>0.86</td>\n",
       "    </tr>\n",
       "    <tr>\n",
       "      <th>1</th>\n",
       "      <td>&lt;class 'sklearn.linear_model._coordinate_desce...</td>\n",
       "      <td>7976.72</td>\n",
       "      <td>318400367.75</td>\n",
       "      <td>17843.78</td>\n",
       "      <td>inf</td>\n",
       "      <td>0.86</td>\n",
       "    </tr>\n",
       "    <tr>\n",
       "      <th>2</th>\n",
       "      <td>&lt;class 'sklearn.linear_model._ridge.Ridge'&gt;</td>\n",
       "      <td>7976.69</td>\n",
       "      <td>318400367.40</td>\n",
       "      <td>17843.78</td>\n",
       "      <td>inf</td>\n",
       "      <td>0.86</td>\n",
       "    </tr>\n",
       "    <tr>\n",
       "      <th>3</th>\n",
       "      <td>&lt;class 'sklearn.tree._classes.DecisionTreeRegr...</td>\n",
       "      <td>16.14</td>\n",
       "      <td>12810.81</td>\n",
       "      <td>113.18</td>\n",
       "      <td>NaN</td>\n",
       "      <td>1.00</td>\n",
       "    </tr>\n",
       "    <tr>\n",
       "      <th>4</th>\n",
       "      <td>&lt;class 'sklearn.ensemble._forest.RandomForestR...</td>\n",
       "      <td>286.53</td>\n",
       "      <td>1002132.18</td>\n",
       "      <td>1001.07</td>\n",
       "      <td>NaN</td>\n",
       "      <td>1.00</td>\n",
       "    </tr>\n",
       "    <tr>\n",
       "      <th>5</th>\n",
       "      <td>&lt;class 'sklearn.ensemble._bagging.BaggingRegre...</td>\n",
       "      <td>311.69</td>\n",
       "      <td>1351151.43</td>\n",
       "      <td>1162.39</td>\n",
       "      <td>NaN</td>\n",
       "      <td>1.00</td>\n",
       "    </tr>\n",
       "  </tbody>\n",
       "</table>\n",
       "</div>"
      ],
      "text/plain": [
       "                                          model name     mae          mse  \\\n",
       "0  <class 'sklearn.linear_model._base.LinearRegre... 7976.69 318400367.40   \n",
       "1  <class 'sklearn.linear_model._coordinate_desce... 7976.72 318400367.75   \n",
       "2        <class 'sklearn.linear_model._ridge.Ridge'> 7976.69 318400367.40   \n",
       "3  <class 'sklearn.tree._classes.DecisionTreeRegr...   16.14     12810.81   \n",
       "4  <class 'sklearn.ensemble._forest.RandomForestR...  286.53   1002132.18   \n",
       "5  <class 'sklearn.ensemble._bagging.BaggingRegre...  311.69   1351151.43   \n",
       "\n",
       "      rmse  mape  rsquare  \n",
       "0 17843.78   inf     0.86  \n",
       "1 17843.78   inf     0.86  \n",
       "2 17843.78   inf     0.86  \n",
       "3   113.18   NaN     1.00  \n",
       "4  1001.07   NaN     1.00  \n",
       "5  1162.39   NaN     1.00  "
      ]
     },
     "execution_count": 184,
     "metadata": {},
     "output_type": "execute_result"
    }
   ],
   "source": [
    "model_validation(\"train\")"
   ]
  },
  {
   "cell_type": "code",
   "execution_count": 185,
   "id": "674c1ce2",
   "metadata": {},
   "outputs": [
    {
     "name": "stderr",
     "output_type": "stream",
     "text": [
      "C:\\Users\\APPLE\\AppData\\Local\\Temp\\ipykernel_9872\\3325111636.py:29: RuntimeWarning: divide by zero encountered in divide\n",
      "  mape=(((abs(y_test.values-rd.predict(X_test))/y_test.values)*100).sum())*(1/y_test.shape[0])\n",
      "C:\\Users\\APPLE\\AppData\\Local\\Temp\\ipykernel_9872\\3325111636.py:29: RuntimeWarning: divide by zero encountered in divide\n",
      "  mape=(((abs(y_test.values-rd.predict(X_test))/y_test.values)*100).sum())*(1/y_test.shape[0])\n",
      "C:\\Users\\APPLE\\AppData\\Local\\Temp\\ipykernel_9872\\3325111636.py:29: RuntimeWarning: divide by zero encountered in divide\n",
      "  mape=(((abs(y_test.values-rd.predict(X_test))/y_test.values)*100).sum())*(1/y_test.shape[0])\n",
      "C:\\Users\\APPLE\\AppData\\Local\\Temp\\ipykernel_9872\\3325111636.py:29: RuntimeWarning: divide by zero encountered in divide\n",
      "  mape=(((abs(y_test.values-rd.predict(X_test))/y_test.values)*100).sum())*(1/y_test.shape[0])\n",
      "C:\\Users\\APPLE\\AppData\\Local\\Temp\\ipykernel_9872\\3325111636.py:29: RuntimeWarning: invalid value encountered in divide\n",
      "  mape=(((abs(y_test.values-rd.predict(X_test))/y_test.values)*100).sum())*(1/y_test.shape[0])\n",
      "C:\\Users\\APPLE\\AppData\\Local\\Temp\\ipykernel_9872\\3325111636.py:29: RuntimeWarning: divide by zero encountered in divide\n",
      "  mape=(((abs(y_test.values-rd.predict(X_test))/y_test.values)*100).sum())*(1/y_test.shape[0])\n",
      "C:\\Users\\APPLE\\AppData\\Local\\Temp\\ipykernel_9872\\3325111636.py:29: RuntimeWarning: invalid value encountered in divide\n",
      "  mape=(((abs(y_test.values-rd.predict(X_test))/y_test.values)*100).sum())*(1/y_test.shape[0])\n",
      "C:\\Users\\APPLE\\AppData\\Local\\Temp\\ipykernel_9872\\3325111636.py:29: RuntimeWarning: divide by zero encountered in divide\n",
      "  mape=(((abs(y_test.values-rd.predict(X_test))/y_test.values)*100).sum())*(1/y_test.shape[0])\n",
      "C:\\Users\\APPLE\\AppData\\Local\\Temp\\ipykernel_9872\\3325111636.py:29: RuntimeWarning: invalid value encountered in divide\n",
      "  mape=(((abs(y_test.values-rd.predict(X_test))/y_test.values)*100).sum())*(1/y_test.shape[0])\n"
     ]
    },
    {
     "data": {
      "text/html": [
       "<div>\n",
       "<style scoped>\n",
       "    .dataframe tbody tr th:only-of-type {\n",
       "        vertical-align: middle;\n",
       "    }\n",
       "\n",
       "    .dataframe tbody tr th {\n",
       "        vertical-align: top;\n",
       "    }\n",
       "\n",
       "    .dataframe thead th {\n",
       "        text-align: right;\n",
       "    }\n",
       "</style>\n",
       "<table border=\"1\" class=\"dataframe\">\n",
       "  <thead>\n",
       "    <tr style=\"text-align: right;\">\n",
       "      <th></th>\n",
       "      <th>model name</th>\n",
       "      <th>mae</th>\n",
       "      <th>mse</th>\n",
       "      <th>rmse</th>\n",
       "      <th>mape</th>\n",
       "      <th>rsquare</th>\n",
       "    </tr>\n",
       "  </thead>\n",
       "  <tbody>\n",
       "    <tr>\n",
       "      <th>0</th>\n",
       "      <td>&lt;class 'sklearn.linear_model._base.LinearRegre...</td>\n",
       "      <td>7955.90</td>\n",
       "      <td>314048669.36</td>\n",
       "      <td>17721.42</td>\n",
       "      <td>inf</td>\n",
       "      <td>0.86</td>\n",
       "    </tr>\n",
       "    <tr>\n",
       "      <th>1</th>\n",
       "      <td>&lt;class 'sklearn.linear_model._coordinate_desce...</td>\n",
       "      <td>7955.94</td>\n",
       "      <td>314048786.54</td>\n",
       "      <td>17721.42</td>\n",
       "      <td>inf</td>\n",
       "      <td>0.86</td>\n",
       "    </tr>\n",
       "    <tr>\n",
       "      <th>2</th>\n",
       "      <td>&lt;class 'sklearn.linear_model._ridge.Ridge'&gt;</td>\n",
       "      <td>7955.90</td>\n",
       "      <td>314048669.47</td>\n",
       "      <td>17721.42</td>\n",
       "      <td>inf</td>\n",
       "      <td>0.86</td>\n",
       "    </tr>\n",
       "    <tr>\n",
       "      <th>3</th>\n",
       "      <td>&lt;class 'sklearn.tree._classes.DecisionTreeRegr...</td>\n",
       "      <td>894.37</td>\n",
       "      <td>9562877.48</td>\n",
       "      <td>3092.39</td>\n",
       "      <td>NaN</td>\n",
       "      <td>1.00</td>\n",
       "    </tr>\n",
       "    <tr>\n",
       "      <th>4</th>\n",
       "      <td>&lt;class 'sklearn.ensemble._forest.RandomForestR...</td>\n",
       "      <td>762.15</td>\n",
       "      <td>6113077.50</td>\n",
       "      <td>2472.46</td>\n",
       "      <td>NaN</td>\n",
       "      <td>1.00</td>\n",
       "    </tr>\n",
       "    <tr>\n",
       "      <th>5</th>\n",
       "      <td>&lt;class 'sklearn.ensemble._bagging.BaggingRegre...</td>\n",
       "      <td>797.48</td>\n",
       "      <td>6612189.79</td>\n",
       "      <td>2571.42</td>\n",
       "      <td>NaN</td>\n",
       "      <td>1.00</td>\n",
       "    </tr>\n",
       "  </tbody>\n",
       "</table>\n",
       "</div>"
      ],
      "text/plain": [
       "                                          model name     mae          mse  \\\n",
       "0  <class 'sklearn.linear_model._base.LinearRegre... 7955.90 314048669.36   \n",
       "1  <class 'sklearn.linear_model._coordinate_desce... 7955.94 314048786.54   \n",
       "2        <class 'sklearn.linear_model._ridge.Ridge'> 7955.90 314048669.47   \n",
       "3  <class 'sklearn.tree._classes.DecisionTreeRegr...  894.37   9562877.48   \n",
       "4  <class 'sklearn.ensemble._forest.RandomForestR...  762.15   6113077.50   \n",
       "5  <class 'sklearn.ensemble._bagging.BaggingRegre...  797.48   6612189.79   \n",
       "\n",
       "      rmse  mape  rsquare  \n",
       "0 17721.42   inf     0.86  \n",
       "1 17721.42   inf     0.86  \n",
       "2 17721.42   inf     0.86  \n",
       "3  3092.39   NaN     1.00  \n",
       "4  2472.46   NaN     1.00  \n",
       "5  2571.42   NaN     1.00  "
      ]
     },
     "execution_count": 185,
     "metadata": {},
     "output_type": "execute_result"
    }
   ],
   "source": [
    "model_validation(\"test\")"
   ]
  },
  {
   "cell_type": "code",
   "execution_count": null,
   "id": "77f78f64",
   "metadata": {},
   "outputs": [],
   "source": [
    "# Apply a normal linear regression\n",
    "linearreg = LinearRegression()\n",
    "linearreg.fit(X_train, y_train)\n",
    "\n",
    "# predicting on test\n",
    "linearreg_prediction = linearreg.predict(X_test)\n",
    "\n",
    "# calculating R_square\n",
    "R_squared = r2_score(linearreg_prediction,y_test)\n",
    "print(\"R squared Error on test set : \", R_squared)\n",
    "\n",
    "\n",
    "# Putting together the coefficient and their corresponding variable names\n",
    "coefficient_df = pd.DataFrame()\n",
    "coefficient_df[\"Column_Name\"] = X_train.columns\n",
    "coefficient_df['Coefficient_Value'] = pd.Series(linearreg.coef_)\n",
    "print(coefficient_df.head())\n",
    "\n",
    "plt.rcParams[\"figure.figsize\"] = (15,6)\n",
    " \n",
    "plt.bar(coefficient_df[\"Column_Name\"],coefficient_df[\"Coefficient_Value\"])"
   ]
  },
  {
   "cell_type": "code",
   "execution_count": 131,
   "id": "a88791ca",
   "metadata": {},
   "outputs": [
    {
     "name": "stdout",
     "output_type": "stream",
     "text": [
      "R squared Error on test set :  0.6724083248370072\n",
      "         Column_Name  Coefficient_Value\n",
      "0         PRODUCT_ID              -0.03\n",
      "1  sales_units_value               0.55\n",
      "2    sales_lbs_value               0.47\n",
      "3             Vendor           -2400.42\n",
      "4           CLAIM_ID              53.56\n"
     ]
    },
    {
     "data": {
      "text/plain": [
       "<BarContainer object of 5 artists>"
      ]
     },
     "execution_count": 131,
     "metadata": {},
     "output_type": "execute_result"
    },
    {
     "data": {
      "image/png": "[encoded data removed]",
      "text/plain": [
       "<Figure size 1080x432 with 1 Axes>"
      ]
     },
     "metadata": {
      "needs_background": "light"
     },
     "output_type": "display_data"
    }
   ],
   "source": [
    "# import ridge regression library\n",
    "from sklearn.linear_model import Ridge\n",
    "\n",
    "# Train the model\n",
    "ridgeRegressor = Ridge(alpha = 0.5) #here setting alpha is nothing but lambda in the formula\n",
    "ridgeRegressor.fit(X_train, y_train)\n",
    "y_predicted_ridge = ridgeRegressor.predict(X_test)\n",
    "\n",
    "# calculating R_square\n",
    "R_squared = r2_score(y_predicted_ridge,y_test)\n",
    "print(\"R squared Error on test set : \", R_squared)\n",
    "\n",
    "\n",
    "# Putting together the coefficient and their corresponding variable names\n",
    "coefficient_df = pd.DataFrame()\n",
    "coefficient_df[\"Column_Name\"] = X_train.columns\n",
    "coefficient_df['Coefficient_Value'] = pd.Series(ridgeRegressor.coef_)\n",
    "print(coefficient_df.head(15))\n",
    "\n",
    "plt.rcParams[\"figure.figsize\"] = (15,6)\n",
    " \n",
    "plt.bar(coefficient_df[\"Column_Name\"],coefficient_df[\"Coefficient_Value\"])"
   ]
  },
  {
   "cell_type": "code",
   "execution_count": null,
   "id": "fd4d44a5",
   "metadata": {},
   "outputs": [],
   "source": [
    "# import Lasso regression from sklearn library\n",
    "from sklearn.linear_model import Lasso\n",
    "\n",
    "# Train the model\n",
    "lassoRegressor = Lasso(alpha = 1) #here setting alpha is nothing but lambda in the formula\n",
    "lassoRegressor.fit(X_train, y_train)\n",
    "y_predicted_lasso = lassoRegressor.predict(X_test)\n",
    "\n",
    "# calculating Mean Squared Error (mse)\n",
    "R_squared = r2_score(y_predicted_lasso,y_test)\n",
    "print(\"R squared Error on test set : \", R_squared)\n",
    "\n",
    "\n",
    "# Putting together the coefficient and their corresponding variable names\n",
    "coefficient_df = pd.DataFrame()\n",
    "coefficient_df[\"Column_Name\"] = X_train.columns\n",
    "coefficient_df['Coefficient_Value'] = pd.Series(lassoRegressor.coef_)\n",
    "print(coefficient_df.head(15))\n",
    "\n",
    "plt.rcParams[\"figure.figsize\"] = (15,6)\n",
    " \n",
    "plt.bar(coefficient_df[\"Column_Name\"],coefficient_df[\"Coefficient_Value\"])"
   ]
  },
  {
   "cell_type": "code",
   "execution_count": null,
   "id": "1bc188f5",
   "metadata": {},
   "outputs": [],
   "source": [
    "# Linear Regression with cross validation"
   ]
  },
  {
   "cell_type": "code",
   "execution_count": null,
   "id": "45f69c91",
   "metadata": {},
   "outputs": [],
   "source": [
    "from sklearn.model_selection import cross_val_score\n",
    "from sklearn.linear_model import LinearRegression\n",
    "\n",
    "lin_regressor=LinearRegression()\n",
    "mse=cross_val_score(lin_regressor,x,y,scoring='neg_mean_squared_error',cv=5)\n",
    "mean_mse=np.mean(mse)\n",
    "print(mean_mse)"
   ]
  },
  {
   "cell_type": "code",
   "execution_count": null,
   "id": "492061af",
   "metadata": {},
   "outputs": [],
   "source": [
    "## Hyper Prameter Tuning"
   ]
  },
  {
   "cell_type": "code",
   "execution_count": 136,
   "id": "3e9c9aa4",
   "metadata": {},
   "outputs": [
    {
     "data": {
      "text/plain": [
       "GridSearchCV(cv=5, estimator=Ridge(),\n",
       "             param_grid={'alpha': [1e-15, 1e-10, 1e-08, 0.001, 0.01, 1, 5, 10,\n",
       "                                   20, 30, 35, 40, 45, 50, 55, 100]},\n",
       "             scoring='neg_mean_squared_error')"
      ]
     },
     "execution_count": 136,
     "metadata": {},
     "output_type": "execute_result"
    }
   ],
   "source": [
    "from sklearn.model_selection import GridSearchCV\n",
    "\n",
    "ridge=Ridge()\n",
    "parameters={'alpha':[1e-15,1e-10,1e-8,1e-3,1e-2,1,5,10,20,30,35,40,45,50,55,100]}\n",
    "ridge_regressor=GridSearchCV(ridge,parameters,scoring='neg_mean_squared_error',cv=5)\n",
    "ridge_regressor.fit(x,y)"
   ]
  },
  {
   "cell_type": "code",
   "execution_count": 137,
   "id": "dae924bb",
   "metadata": {},
   "outputs": [
    {
     "name": "stdout",
     "output_type": "stream",
     "text": [
      "{'alpha': 100}\n",
      "-1337283413.8355427\n"
     ]
    }
   ],
   "source": [
    "print(ridge_regressor.best_params_)\n",
    "print(ridge_regressor.best_score_)"
   ]
  },
  {
   "cell_type": "code",
   "execution_count": 138,
   "id": "694172cb",
   "metadata": {},
   "outputs": [
    {
     "name": "stderr",
     "output_type": "stream",
     "text": [
      "C:\\Users\\gn221m\\Anaconda3\\lib\\site-packages\\sklearn\\linear_model\\_coordinate_descent.py:648: ConvergenceWarning: Objective did not converge. You might want to increase the number of iterations, check the scale of the features or consider increasing regularisation. Duality gap: 2.377e+15, tolerance: 1.930e+12\n",
      "  coef_, l1_reg, l2_reg, X, y, max_iter, tol, rng, random, positive\n",
      "C:\\Users\\gn221m\\Anaconda3\\lib\\site-packages\\sklearn\\linear_model\\_coordinate_descent.py:648: ConvergenceWarning: Objective did not converge. You might want to increase the number of iterations, check the scale of the features or consider increasing regularisation. Duality gap: 2.413e+15, tolerance: 1.978e+12\n",
      "  coef_, l1_reg, l2_reg, X, y, max_iter, tol, rng, random, positive\n",
      "C:\\Users\\gn221m\\Anaconda3\\lib\\site-packages\\sklearn\\linear_model\\_coordinate_descent.py:648: ConvergenceWarning: Objective did not converge. You might want to increase the number of iterations, check the scale of the features or consider increasing regularisation. Duality gap: 2.442e+15, tolerance: 2.015e+12\n",
      "  coef_, l1_reg, l2_reg, X, y, max_iter, tol, rng, random, positive\n",
      "C:\\Users\\gn221m\\Anaconda3\\lib\\site-packages\\sklearn\\linear_model\\_coordinate_descent.py:648: ConvergenceWarning: Objective did not converge. You might want to increase the number of iterations, check the scale of the features or consider increasing regularisation. Duality gap: 2.461e+15, tolerance: 2.039e+12\n",
      "  coef_, l1_reg, l2_reg, X, y, max_iter, tol, rng, random, positive\n",
      "C:\\Users\\gn221m\\Anaconda3\\lib\\site-packages\\sklearn\\linear_model\\_coordinate_descent.py:648: ConvergenceWarning: Objective did not converge. You might want to increase the number of iterations, check the scale of the features or consider increasing regularisation. Duality gap: 2.439e+15, tolerance: 2.021e+12\n",
      "  coef_, l1_reg, l2_reg, X, y, max_iter, tol, rng, random, positive\n",
      "C:\\Users\\gn221m\\Anaconda3\\lib\\site-packages\\sklearn\\linear_model\\_coordinate_descent.py:648: ConvergenceWarning: Objective did not converge. You might want to increase the number of iterations, check the scale of the features or consider increasing regularisation. Duality gap: 2.377e+15, tolerance: 1.930e+12\n",
      "  coef_, l1_reg, l2_reg, X, y, max_iter, tol, rng, random, positive\n",
      "C:\\Users\\gn221m\\Anaconda3\\lib\\site-packages\\sklearn\\linear_model\\_coordinate_descent.py:648: ConvergenceWarning: Objective did not converge. You might want to increase the number of iterations, check the scale of the features or consider increasing regularisation. Duality gap: 2.412e+15, tolerance: 1.978e+12\n",
      "  coef_, l1_reg, l2_reg, X, y, max_iter, tol, rng, random, positive\n",
      "C:\\Users\\gn221m\\Anaconda3\\lib\\site-packages\\sklearn\\linear_model\\_coordinate_descent.py:648: ConvergenceWarning: Objective did not converge. You might want to increase the number of iterations, check the scale of the features or consider increasing regularisation. Duality gap: 2.442e+15, tolerance: 2.015e+12\n",
      "  coef_, l1_reg, l2_reg, X, y, max_iter, tol, rng, random, positive\n",
      "C:\\Users\\gn221m\\Anaconda3\\lib\\site-packages\\sklearn\\linear_model\\_coordinate_descent.py:648: ConvergenceWarning: Objective did not converge. You might want to increase the number of iterations, check the scale of the features or consider increasing regularisation. Duality gap: 2.461e+15, tolerance: 2.039e+12\n",
      "  coef_, l1_reg, l2_reg, X, y, max_iter, tol, rng, random, positive\n",
      "C:\\Users\\gn221m\\Anaconda3\\lib\\site-packages\\sklearn\\linear_model\\_coordinate_descent.py:648: ConvergenceWarning: Objective did not converge. You might want to increase the number of iterations, check the scale of the features or consider increasing regularisation. Duality gap: 2.439e+15, tolerance: 2.021e+12\n",
      "  coef_, l1_reg, l2_reg, X, y, max_iter, tol, rng, random, positive\n",
      "C:\\Users\\gn221m\\Anaconda3\\lib\\site-packages\\sklearn\\linear_model\\_coordinate_descent.py:648: ConvergenceWarning: Objective did not converge. You might want to increase the number of iterations, check the scale of the features or consider increasing regularisation. Duality gap: 2.374e+15, tolerance: 1.930e+12\n",
      "  coef_, l1_reg, l2_reg, X, y, max_iter, tol, rng, random, positive\n"
     ]
    },
    {
     "ename": "KeyboardInterrupt",
     "evalue": "",
     "output_type": "error",
     "traceback": [
      "\u001b[1;31m---------------------------------------------------------------------------\u001b[0m",
      "\u001b[1;31mKeyboardInterrupt\u001b[0m                         Traceback (most recent call last)",
      "\u001b[1;32m<ipython-input-138-133250def79a>\u001b[0m in \u001b[0;36m<module>\u001b[1;34m\u001b[0m\n\u001b[0;32m      3\u001b[0m \u001b[0mlasso_regressor\u001b[0m\u001b[1;33m=\u001b[0m\u001b[0mGridSearchCV\u001b[0m\u001b[1;33m(\u001b[0m\u001b[0mlasso\u001b[0m\u001b[1;33m,\u001b[0m\u001b[0mparameters\u001b[0m\u001b[1;33m,\u001b[0m\u001b[0mscoring\u001b[0m\u001b[1;33m=\u001b[0m\u001b[1;34m'neg_mean_squared_error'\u001b[0m\u001b[1;33m,\u001b[0m\u001b[0mcv\u001b[0m\u001b[1;33m=\u001b[0m\u001b[1;36m5\u001b[0m\u001b[1;33m)\u001b[0m\u001b[1;33m\u001b[0m\u001b[1;33m\u001b[0m\u001b[0m\n\u001b[0;32m      4\u001b[0m \u001b[1;33m\u001b[0m\u001b[0m\n\u001b[1;32m----> 5\u001b[1;33m \u001b[0mlasso_regressor\u001b[0m\u001b[1;33m.\u001b[0m\u001b[0mfit\u001b[0m\u001b[1;33m(\u001b[0m\u001b[0mx\u001b[0m\u001b[1;33m,\u001b[0m\u001b[0my\u001b[0m\u001b[1;33m)\u001b[0m\u001b[1;33m\u001b[0m\u001b[1;33m\u001b[0m\u001b[0m\n\u001b[0m\u001b[0;32m      6\u001b[0m \u001b[0mprint\u001b[0m\u001b[1;33m(\u001b[0m\u001b[0mlasso_regressor\u001b[0m\u001b[1;33m.\u001b[0m\u001b[0mbest_params_\u001b[0m\u001b[1;33m)\u001b[0m\u001b[1;33m\u001b[0m\u001b[1;33m\u001b[0m\u001b[0m\n\u001b[0;32m      7\u001b[0m \u001b[0mprint\u001b[0m\u001b[1;33m(\u001b[0m\u001b[0mlasso_regressor\u001b[0m\u001b[1;33m.\u001b[0m\u001b[0mbest_score_\u001b[0m\u001b[1;33m)\u001b[0m\u001b[1;33m\u001b[0m\u001b[1;33m\u001b[0m\u001b[0m\n",
      "\u001b[1;32m~\\Anaconda3\\lib\\site-packages\\sklearn\\model_selection\\_search.py\u001b[0m in \u001b[0;36mfit\u001b[1;34m(self, X, y, groups, **fit_params)\u001b[0m\n\u001b[0;32m    889\u001b[0m                 \u001b[1;32mreturn\u001b[0m \u001b[0mresults\u001b[0m\u001b[1;33m\u001b[0m\u001b[1;33m\u001b[0m\u001b[0m\n\u001b[0;32m    890\u001b[0m \u001b[1;33m\u001b[0m\u001b[0m\n\u001b[1;32m--> 891\u001b[1;33m             \u001b[0mself\u001b[0m\u001b[1;33m.\u001b[0m\u001b[0m_run_search\u001b[0m\u001b[1;33m(\u001b[0m\u001b[0mevaluate_candidates\u001b[0m\u001b[1;33m)\u001b[0m\u001b[1;33m\u001b[0m\u001b[1;33m\u001b[0m\u001b[0m\n\u001b[0m\u001b[0;32m    892\u001b[0m \u001b[1;33m\u001b[0m\u001b[0m\n\u001b[0;32m    893\u001b[0m             \u001b[1;31m# multimetric is determined here because in the case of a callable\u001b[0m\u001b[1;33m\u001b[0m\u001b[1;33m\u001b[0m\u001b[1;33m\u001b[0m\u001b[0m\n",
      "\u001b[1;32m~\\Anaconda3\\lib\\site-packages\\sklearn\\model_selection\\_search.py\u001b[0m in \u001b[0;36m_run_search\u001b[1;34m(self, evaluate_candidates)\u001b[0m\n\u001b[0;32m   1390\u001b[0m     \u001b[1;32mdef\u001b[0m \u001b[0m_run_search\u001b[0m\u001b[1;33m(\u001b[0m\u001b[0mself\u001b[0m\u001b[1;33m,\u001b[0m \u001b[0mevaluate_candidates\u001b[0m\u001b[1;33m)\u001b[0m\u001b[1;33m:\u001b[0m\u001b[1;33m\u001b[0m\u001b[1;33m\u001b[0m\u001b[0m\n\u001b[0;32m   1391\u001b[0m         \u001b[1;34m\"\"\"Search all candidates in param_grid\"\"\"\u001b[0m\u001b[1;33m\u001b[0m\u001b[1;33m\u001b[0m\u001b[0m\n\u001b[1;32m-> 1392\u001b[1;33m         \u001b[0mevaluate_candidates\u001b[0m\u001b[1;33m(\u001b[0m\u001b[0mParameterGrid\u001b[0m\u001b[1;33m(\u001b[0m\u001b[0mself\u001b[0m\u001b[1;33m.\u001b[0m\u001b[0mparam_grid\u001b[0m\u001b[1;33m)\u001b[0m\u001b[1;33m)\u001b[0m\u001b[1;33m\u001b[0m\u001b[1;33m\u001b[0m\u001b[0m\n\u001b[0m\u001b[0;32m   1393\u001b[0m \u001b[1;33m\u001b[0m\u001b[0m\n\u001b[0;32m   1394\u001b[0m \u001b[1;33m\u001b[0m\u001b[0m\n",
      "\u001b[1;32m~\\Anaconda3\\lib\\site-packages\\sklearn\\model_selection\\_search.py\u001b[0m in \u001b[0;36mevaluate_candidates\u001b[1;34m(candidate_params, cv, more_results)\u001b[0m\n\u001b[0;32m    849\u001b[0m                     )\n\u001b[0;32m    850\u001b[0m                     for (cand_idx, parameters), (split_idx, (train, test)) in product(\n\u001b[1;32m--> 851\u001b[1;33m                         \u001b[0menumerate\u001b[0m\u001b[1;33m(\u001b[0m\u001b[0mcandidate_params\u001b[0m\u001b[1;33m)\u001b[0m\u001b[1;33m,\u001b[0m \u001b[0menumerate\u001b[0m\u001b[1;33m(\u001b[0m\u001b[0mcv\u001b[0m\u001b[1;33m.\u001b[0m\u001b[0msplit\u001b[0m\u001b[1;33m(\u001b[0m\u001b[0mX\u001b[0m\u001b[1;33m,\u001b[0m \u001b[0my\u001b[0m\u001b[1;33m,\u001b[0m \u001b[0mgroups\u001b[0m\u001b[1;33m)\u001b[0m\u001b[1;33m)\u001b[0m\u001b[1;33m\u001b[0m\u001b[1;33m\u001b[0m\u001b[0m\n\u001b[0m\u001b[0;32m    852\u001b[0m                     )\n\u001b[0;32m    853\u001b[0m                 )\n",
      "\u001b[1;32m~\\Anaconda3\\lib\\site-packages\\joblib\\parallel.py\u001b[0m in \u001b[0;36m__call__\u001b[1;34m(self, iterable)\u001b[0m\n\u001b[0;32m   1005\u001b[0m                 \u001b[0mself\u001b[0m\u001b[1;33m.\u001b[0m\u001b[0m_iterating\u001b[0m \u001b[1;33m=\u001b[0m \u001b[0mself\u001b[0m\u001b[1;33m.\u001b[0m\u001b[0m_original_iterator\u001b[0m \u001b[1;32mis\u001b[0m \u001b[1;32mnot\u001b[0m \u001b[1;32mNone\u001b[0m\u001b[1;33m\u001b[0m\u001b[1;33m\u001b[0m\u001b[0m\n\u001b[0;32m   1006\u001b[0m \u001b[1;33m\u001b[0m\u001b[0m\n\u001b[1;32m-> 1007\u001b[1;33m             \u001b[1;32mwhile\u001b[0m \u001b[0mself\u001b[0m\u001b[1;33m.\u001b[0m\u001b[0mdispatch_one_batch\u001b[0m\u001b[1;33m(\u001b[0m\u001b[0miterator\u001b[0m\u001b[1;33m)\u001b[0m\u001b[1;33m:\u001b[0m\u001b[1;33m\u001b[0m\u001b[1;33m\u001b[0m\u001b[0m\n\u001b[0m\u001b[0;32m   1008\u001b[0m                 \u001b[1;32mpass\u001b[0m\u001b[1;33m\u001b[0m\u001b[1;33m\u001b[0m\u001b[0m\n\u001b[0;32m   1009\u001b[0m \u001b[1;33m\u001b[0m\u001b[0m\n",
      "\u001b[1;32m~\\Anaconda3\\lib\\site-packages\\joblib\\parallel.py\u001b[0m in \u001b[0;36mdispatch_one_batch\u001b[1;34m(self, iterator)\u001b[0m\n\u001b[0;32m    833\u001b[0m                 \u001b[1;32mreturn\u001b[0m \u001b[1;32mFalse\u001b[0m\u001b[1;33m\u001b[0m\u001b[1;33m\u001b[0m\u001b[0m\n\u001b[0;32m    834\u001b[0m             \u001b[1;32melse\u001b[0m\u001b[1;33m:\u001b[0m\u001b[1;33m\u001b[0m\u001b[1;33m\u001b[0m\u001b[0m\n\u001b[1;32m--> 835\u001b[1;33m                 \u001b[0mself\u001b[0m\u001b[1;33m.\u001b[0m\u001b[0m_dispatch\u001b[0m\u001b[1;33m(\u001b[0m\u001b[0mtasks\u001b[0m\u001b[1;33m)\u001b[0m\u001b[1;33m\u001b[0m\u001b[1;33m\u001b[0m\u001b[0m\n\u001b[0m\u001b[0;32m    836\u001b[0m                 \u001b[1;32mreturn\u001b[0m \u001b[1;32mTrue\u001b[0m\u001b[1;33m\u001b[0m\u001b[1;33m\u001b[0m\u001b[0m\n\u001b[0;32m    837\u001b[0m \u001b[1;33m\u001b[0m\u001b[0m\n",
      "\u001b[1;32m~\\Anaconda3\\lib\\site-packages\\joblib\\parallel.py\u001b[0m in \u001b[0;36m_dispatch\u001b[1;34m(self, batch)\u001b[0m\n\u001b[0;32m    752\u001b[0m         \u001b[1;32mwith\u001b[0m \u001b[0mself\u001b[0m\u001b[1;33m.\u001b[0m\u001b[0m_lock\u001b[0m\u001b[1;33m:\u001b[0m\u001b[1;33m\u001b[0m\u001b[1;33m\u001b[0m\u001b[0m\n\u001b[0;32m    753\u001b[0m             \u001b[0mjob_idx\u001b[0m \u001b[1;33m=\u001b[0m \u001b[0mlen\u001b[0m\u001b[1;33m(\u001b[0m\u001b[0mself\u001b[0m\u001b[1;33m.\u001b[0m\u001b[0m_jobs\u001b[0m\u001b[1;33m)\u001b[0m\u001b[1;33m\u001b[0m\u001b[1;33m\u001b[0m\u001b[0m\n\u001b[1;32m--> 754\u001b[1;33m             \u001b[0mjob\u001b[0m \u001b[1;33m=\u001b[0m \u001b[0mself\u001b[0m\u001b[1;33m.\u001b[0m\u001b[0m_backend\u001b[0m\u001b[1;33m.\u001b[0m\u001b[0mapply_async\u001b[0m\u001b[1;33m(\u001b[0m\u001b[0mbatch\u001b[0m\u001b[1;33m,\u001b[0m \u001b[0mcallback\u001b[0m\u001b[1;33m=\u001b[0m\u001b[0mcb\u001b[0m\u001b[1;33m)\u001b[0m\u001b[1;33m\u001b[0m\u001b[1;33m\u001b[0m\u001b[0m\n\u001b[0m\u001b[0;32m    755\u001b[0m             \u001b[1;31m# A job can complete so quickly than its callback is\u001b[0m\u001b[1;33m\u001b[0m\u001b[1;33m\u001b[0m\u001b[1;33m\u001b[0m\u001b[0m\n\u001b[0;32m    756\u001b[0m             \u001b[1;31m# called before we get here, causing self._jobs to\u001b[0m\u001b[1;33m\u001b[0m\u001b[1;33m\u001b[0m\u001b[1;33m\u001b[0m\u001b[0m\n",
      "\u001b[1;32m~\\Anaconda3\\lib\\site-packages\\joblib\\_parallel_backends.py\u001b[0m in \u001b[0;36mapply_async\u001b[1;34m(self, func, callback)\u001b[0m\n\u001b[0;32m    207\u001b[0m     \u001b[1;32mdef\u001b[0m \u001b[0mapply_async\u001b[0m\u001b[1;33m(\u001b[0m\u001b[0mself\u001b[0m\u001b[1;33m,\u001b[0m \u001b[0mfunc\u001b[0m\u001b[1;33m,\u001b[0m \u001b[0mcallback\u001b[0m\u001b[1;33m=\u001b[0m\u001b[1;32mNone\u001b[0m\u001b[1;33m)\u001b[0m\u001b[1;33m:\u001b[0m\u001b[1;33m\u001b[0m\u001b[1;33m\u001b[0m\u001b[0m\n\u001b[0;32m    208\u001b[0m         \u001b[1;34m\"\"\"Schedule a func to be run\"\"\"\u001b[0m\u001b[1;33m\u001b[0m\u001b[1;33m\u001b[0m\u001b[0m\n\u001b[1;32m--> 209\u001b[1;33m         \u001b[0mresult\u001b[0m \u001b[1;33m=\u001b[0m \u001b[0mImmediateResult\u001b[0m\u001b[1;33m(\u001b[0m\u001b[0mfunc\u001b[0m\u001b[1;33m)\u001b[0m\u001b[1;33m\u001b[0m\u001b[1;33m\u001b[0m\u001b[0m\n\u001b[0m\u001b[0;32m    210\u001b[0m         \u001b[1;32mif\u001b[0m \u001b[0mcallback\u001b[0m\u001b[1;33m:\u001b[0m\u001b[1;33m\u001b[0m\u001b[1;33m\u001b[0m\u001b[0m\n\u001b[0;32m    211\u001b[0m             \u001b[0mcallback\u001b[0m\u001b[1;33m(\u001b[0m\u001b[0mresult\u001b[0m\u001b[1;33m)\u001b[0m\u001b[1;33m\u001b[0m\u001b[1;33m\u001b[0m\u001b[0m\n",
      "\u001b[1;32m~\\Anaconda3\\lib\\site-packages\\joblib\\_parallel_backends.py\u001b[0m in \u001b[0;36m__init__\u001b[1;34m(self, batch)\u001b[0m\n\u001b[0;32m    588\u001b[0m         \u001b[1;31m# Don't delay the application, to avoid keeping the input\u001b[0m\u001b[1;33m\u001b[0m\u001b[1;33m\u001b[0m\u001b[1;33m\u001b[0m\u001b[0m\n\u001b[0;32m    589\u001b[0m         \u001b[1;31m# arguments in memory\u001b[0m\u001b[1;33m\u001b[0m\u001b[1;33m\u001b[0m\u001b[1;33m\u001b[0m\u001b[0m\n\u001b[1;32m--> 590\u001b[1;33m         \u001b[0mself\u001b[0m\u001b[1;33m.\u001b[0m\u001b[0mresults\u001b[0m \u001b[1;33m=\u001b[0m \u001b[0mbatch\u001b[0m\u001b[1;33m(\u001b[0m\u001b[1;33m)\u001b[0m\u001b[1;33m\u001b[0m\u001b[1;33m\u001b[0m\u001b[0m\n\u001b[0m\u001b[0;32m    591\u001b[0m \u001b[1;33m\u001b[0m\u001b[0m\n\u001b[0;32m    592\u001b[0m     \u001b[1;32mdef\u001b[0m \u001b[0mget\u001b[0m\u001b[1;33m(\u001b[0m\u001b[0mself\u001b[0m\u001b[1;33m)\u001b[0m\u001b[1;33m:\u001b[0m\u001b[1;33m\u001b[0m\u001b[1;33m\u001b[0m\u001b[0m\n",
      "\u001b[1;32m~\\Anaconda3\\lib\\site-packages\\joblib\\parallel.py\u001b[0m in \u001b[0;36m__call__\u001b[1;34m(self)\u001b[0m\n\u001b[0;32m    254\u001b[0m         \u001b[1;32mwith\u001b[0m \u001b[0mparallel_backend\u001b[0m\u001b[1;33m(\u001b[0m\u001b[0mself\u001b[0m\u001b[1;33m.\u001b[0m\u001b[0m_backend\u001b[0m\u001b[1;33m,\u001b[0m \u001b[0mn_jobs\u001b[0m\u001b[1;33m=\u001b[0m\u001b[0mself\u001b[0m\u001b[1;33m.\u001b[0m\u001b[0m_n_jobs\u001b[0m\u001b[1;33m)\u001b[0m\u001b[1;33m:\u001b[0m\u001b[1;33m\u001b[0m\u001b[1;33m\u001b[0m\u001b[0m\n\u001b[0;32m    255\u001b[0m             return [func(*args, **kwargs)\n\u001b[1;32m--> 256\u001b[1;33m                     for func, args, kwargs in self.items]\n\u001b[0m\u001b[0;32m    257\u001b[0m \u001b[1;33m\u001b[0m\u001b[0m\n\u001b[0;32m    258\u001b[0m     \u001b[1;32mdef\u001b[0m \u001b[0m__len__\u001b[0m\u001b[1;33m(\u001b[0m\u001b[0mself\u001b[0m\u001b[1;33m)\u001b[0m\u001b[1;33m:\u001b[0m\u001b[1;33m\u001b[0m\u001b[1;33m\u001b[0m\u001b[0m\n",
      "\u001b[1;32m~\\Anaconda3\\lib\\site-packages\\joblib\\parallel.py\u001b[0m in \u001b[0;36m<listcomp>\u001b[1;34m(.0)\u001b[0m\n\u001b[0;32m    254\u001b[0m         \u001b[1;32mwith\u001b[0m \u001b[0mparallel_backend\u001b[0m\u001b[1;33m(\u001b[0m\u001b[0mself\u001b[0m\u001b[1;33m.\u001b[0m\u001b[0m_backend\u001b[0m\u001b[1;33m,\u001b[0m \u001b[0mn_jobs\u001b[0m\u001b[1;33m=\u001b[0m\u001b[0mself\u001b[0m\u001b[1;33m.\u001b[0m\u001b[0m_n_jobs\u001b[0m\u001b[1;33m)\u001b[0m\u001b[1;33m:\u001b[0m\u001b[1;33m\u001b[0m\u001b[1;33m\u001b[0m\u001b[0m\n\u001b[0;32m    255\u001b[0m             return [func(*args, **kwargs)\n\u001b[1;32m--> 256\u001b[1;33m                     for func, args, kwargs in self.items]\n\u001b[0m\u001b[0;32m    257\u001b[0m \u001b[1;33m\u001b[0m\u001b[0m\n\u001b[0;32m    258\u001b[0m     \u001b[1;32mdef\u001b[0m \u001b[0m__len__\u001b[0m\u001b[1;33m(\u001b[0m\u001b[0mself\u001b[0m\u001b[1;33m)\u001b[0m\u001b[1;33m:\u001b[0m\u001b[1;33m\u001b[0m\u001b[1;33m\u001b[0m\u001b[0m\n",
      "\u001b[1;32m~\\Anaconda3\\lib\\site-packages\\sklearn\\utils\\fixes.py\u001b[0m in \u001b[0;36m__call__\u001b[1;34m(self, *args, **kwargs)\u001b[0m\n\u001b[0;32m    214\u001b[0m     \u001b[1;32mdef\u001b[0m \u001b[0m__call__\u001b[0m\u001b[1;33m(\u001b[0m\u001b[0mself\u001b[0m\u001b[1;33m,\u001b[0m \u001b[1;33m*\u001b[0m\u001b[0margs\u001b[0m\u001b[1;33m,\u001b[0m \u001b[1;33m**\u001b[0m\u001b[0mkwargs\u001b[0m\u001b[1;33m)\u001b[0m\u001b[1;33m:\u001b[0m\u001b[1;33m\u001b[0m\u001b[1;33m\u001b[0m\u001b[0m\n\u001b[0;32m    215\u001b[0m         \u001b[1;32mwith\u001b[0m \u001b[0mconfig_context\u001b[0m\u001b[1;33m(\u001b[0m\u001b[1;33m**\u001b[0m\u001b[0mself\u001b[0m\u001b[1;33m.\u001b[0m\u001b[0mconfig\u001b[0m\u001b[1;33m)\u001b[0m\u001b[1;33m:\u001b[0m\u001b[1;33m\u001b[0m\u001b[1;33m\u001b[0m\u001b[0m\n\u001b[1;32m--> 216\u001b[1;33m             \u001b[1;32mreturn\u001b[0m \u001b[0mself\u001b[0m\u001b[1;33m.\u001b[0m\u001b[0mfunction\u001b[0m\u001b[1;33m(\u001b[0m\u001b[1;33m*\u001b[0m\u001b[0margs\u001b[0m\u001b[1;33m,\u001b[0m \u001b[1;33m**\u001b[0m\u001b[0mkwargs\u001b[0m\u001b[1;33m)\u001b[0m\u001b[1;33m\u001b[0m\u001b[1;33m\u001b[0m\u001b[0m\n\u001b[0m\u001b[0;32m    217\u001b[0m \u001b[1;33m\u001b[0m\u001b[0m\n\u001b[0;32m    218\u001b[0m \u001b[1;33m\u001b[0m\u001b[0m\n",
      "\u001b[1;32m~\\Anaconda3\\lib\\site-packages\\sklearn\\model_selection\\_validation.py\u001b[0m in \u001b[0;36m_fit_and_score\u001b[1;34m(estimator, X, y, scorer, train, test, verbose, parameters, fit_params, return_train_score, return_parameters, return_n_test_samples, return_times, return_estimator, split_progress, candidate_progress, error_score)\u001b[0m\n\u001b[0;32m    678\u001b[0m             \u001b[0mestimator\u001b[0m\u001b[1;33m.\u001b[0m\u001b[0mfit\u001b[0m\u001b[1;33m(\u001b[0m\u001b[0mX_train\u001b[0m\u001b[1;33m,\u001b[0m \u001b[1;33m**\u001b[0m\u001b[0mfit_params\u001b[0m\u001b[1;33m)\u001b[0m\u001b[1;33m\u001b[0m\u001b[1;33m\u001b[0m\u001b[0m\n\u001b[0;32m    679\u001b[0m         \u001b[1;32melse\u001b[0m\u001b[1;33m:\u001b[0m\u001b[1;33m\u001b[0m\u001b[1;33m\u001b[0m\u001b[0m\n\u001b[1;32m--> 680\u001b[1;33m             \u001b[0mestimator\u001b[0m\u001b[1;33m.\u001b[0m\u001b[0mfit\u001b[0m\u001b[1;33m(\u001b[0m\u001b[0mX_train\u001b[0m\u001b[1;33m,\u001b[0m \u001b[0my_train\u001b[0m\u001b[1;33m,\u001b[0m \u001b[1;33m**\u001b[0m\u001b[0mfit_params\u001b[0m\u001b[1;33m)\u001b[0m\u001b[1;33m\u001b[0m\u001b[1;33m\u001b[0m\u001b[0m\n\u001b[0m\u001b[0;32m    681\u001b[0m \u001b[1;33m\u001b[0m\u001b[0m\n\u001b[0;32m    682\u001b[0m     \u001b[1;32mexcept\u001b[0m \u001b[0mException\u001b[0m\u001b[1;33m:\u001b[0m\u001b[1;33m\u001b[0m\u001b[1;33m\u001b[0m\u001b[0m\n",
      "\u001b[1;32m~\\Anaconda3\\lib\\site-packages\\sklearn\\linear_model\\_coordinate_descent.py\u001b[0m in \u001b[0;36mfit\u001b[1;34m(self, X, y, sample_weight, check_input)\u001b[0m\n\u001b[0;32m   1057\u001b[0m                 \u001b[0mrandom_state\u001b[0m\u001b[1;33m=\u001b[0m\u001b[0mself\u001b[0m\u001b[1;33m.\u001b[0m\u001b[0mrandom_state\u001b[0m\u001b[1;33m,\u001b[0m\u001b[1;33m\u001b[0m\u001b[1;33m\u001b[0m\u001b[0m\n\u001b[0;32m   1058\u001b[0m                 \u001b[0mselection\u001b[0m\u001b[1;33m=\u001b[0m\u001b[0mself\u001b[0m\u001b[1;33m.\u001b[0m\u001b[0mselection\u001b[0m\u001b[1;33m,\u001b[0m\u001b[1;33m\u001b[0m\u001b[1;33m\u001b[0m\u001b[0m\n\u001b[1;32m-> 1059\u001b[1;33m                 \u001b[0mcheck_input\u001b[0m\u001b[1;33m=\u001b[0m\u001b[1;32mFalse\u001b[0m\u001b[1;33m,\u001b[0m\u001b[1;33m\u001b[0m\u001b[1;33m\u001b[0m\u001b[0m\n\u001b[0m\u001b[0;32m   1060\u001b[0m             )\n\u001b[0;32m   1061\u001b[0m             \u001b[0mcoef_\u001b[0m\u001b[1;33m[\u001b[0m\u001b[0mk\u001b[0m\u001b[1;33m]\u001b[0m \u001b[1;33m=\u001b[0m \u001b[0mthis_coef\u001b[0m\u001b[1;33m[\u001b[0m\u001b[1;33m:\u001b[0m\u001b[1;33m,\u001b[0m \u001b[1;36m0\u001b[0m\u001b[1;33m]\u001b[0m\u001b[1;33m\u001b[0m\u001b[1;33m\u001b[0m\u001b[0m\n",
      "\u001b[1;32m~\\Anaconda3\\lib\\site-packages\\sklearn\\linear_model\\_coordinate_descent.py\u001b[0m in \u001b[0;36menet_path\u001b[1;34m(X, y, l1_ratio, eps, n_alphas, alphas, precompute, Xy, copy_X, coef_init, verbose, return_n_iter, positive, check_input, **params)\u001b[0m\n\u001b[0;32m    646\u001b[0m         \u001b[1;32melif\u001b[0m \u001b[0mprecompute\u001b[0m \u001b[1;32mis\u001b[0m \u001b[1;32mFalse\u001b[0m\u001b[1;33m:\u001b[0m\u001b[1;33m\u001b[0m\u001b[1;33m\u001b[0m\u001b[0m\n\u001b[0;32m    647\u001b[0m             model = cd_fast.enet_coordinate_descent(\n\u001b[1;32m--> 648\u001b[1;33m                 \u001b[0mcoef_\u001b[0m\u001b[1;33m,\u001b[0m \u001b[0ml1_reg\u001b[0m\u001b[1;33m,\u001b[0m \u001b[0ml2_reg\u001b[0m\u001b[1;33m,\u001b[0m \u001b[0mX\u001b[0m\u001b[1;33m,\u001b[0m \u001b[0my\u001b[0m\u001b[1;33m,\u001b[0m \u001b[0mmax_iter\u001b[0m\u001b[1;33m,\u001b[0m \u001b[0mtol\u001b[0m\u001b[1;33m,\u001b[0m \u001b[0mrng\u001b[0m\u001b[1;33m,\u001b[0m \u001b[0mrandom\u001b[0m\u001b[1;33m,\u001b[0m \u001b[0mpositive\u001b[0m\u001b[1;33m\u001b[0m\u001b[1;33m\u001b[0m\u001b[0m\n\u001b[0m\u001b[0;32m    649\u001b[0m             )\n\u001b[0;32m    650\u001b[0m         \u001b[1;32melse\u001b[0m\u001b[1;33m:\u001b[0m\u001b[1;33m\u001b[0m\u001b[1;33m\u001b[0m\u001b[0m\n",
      "\u001b[1;32msklearn\\linear_model\\_cd_fast.pyx\u001b[0m in \u001b[0;36msklearn.linear_model._cd_fast.enet_coordinate_descent\u001b[1;34m()\u001b[0m\n",
      "\u001b[1;32m~\\Anaconda3\\lib\\site-packages\\numpy\\core\\getlimits.py\u001b[0m in \u001b[0;36m__new__\u001b[1;34m(cls, dtype)\u001b[0m\n\u001b[0;32m    363\u001b[0m     \u001b[0m_finfo_cache\u001b[0m \u001b[1;33m=\u001b[0m \u001b[1;33m{\u001b[0m\u001b[1;33m}\u001b[0m\u001b[1;33m\u001b[0m\u001b[1;33m\u001b[0m\u001b[0m\n\u001b[0;32m    364\u001b[0m \u001b[1;33m\u001b[0m\u001b[0m\n\u001b[1;32m--> 365\u001b[1;33m     \u001b[1;32mdef\u001b[0m \u001b[0m__new__\u001b[0m\u001b[1;33m(\u001b[0m\u001b[0mcls\u001b[0m\u001b[1;33m,\u001b[0m \u001b[0mdtype\u001b[0m\u001b[1;33m)\u001b[0m\u001b[1;33m:\u001b[0m\u001b[1;33m\u001b[0m\u001b[1;33m\u001b[0m\u001b[0m\n\u001b[0m\u001b[0;32m    366\u001b[0m         \u001b[1;32mtry\u001b[0m\u001b[1;33m:\u001b[0m\u001b[1;33m\u001b[0m\u001b[1;33m\u001b[0m\u001b[0m\n\u001b[0;32m    367\u001b[0m             \u001b[0mdtype\u001b[0m \u001b[1;33m=\u001b[0m \u001b[0mnumeric\u001b[0m\u001b[1;33m.\u001b[0m\u001b[0mdtype\u001b[0m\u001b[1;33m(\u001b[0m\u001b[0mdtype\u001b[0m\u001b[1;33m)\u001b[0m\u001b[1;33m\u001b[0m\u001b[1;33m\u001b[0m\u001b[0m\n",
      "\u001b[1;31mKeyboardInterrupt\u001b[0m: "
     ]
    }
   ],
   "source": [
    "lasso=Lasso()\n",
    "parameters={'alpha':[1e-15,1e-10,1e-8,1e-3,1e-2,1,5,10,20,30,35,40,45,50,55,100]}\n",
    "lasso_regressor=GridSearchCV(lasso,parameters,scoring='neg_mean_squared_error',cv=5)\n",
    "\n",
    "lasso_regressor.fit(x,y)\n",
    "print(lasso_regressor.best_params_)\n",
    "print(lasso_regressor.best_score_)"
   ]
  },
  {
   "cell_type": "code",
   "execution_count": null,
   "id": "90c57ed9",
   "metadata": {},
   "outputs": [],
   "source": []
  },
  {
   "cell_type": "markdown",
   "id": "992d1c6b",
   "metadata": {},
   "source": [
    "#### Standard Scaler"
   ]
  },
  {
   "cell_type": "code",
   "execution_count": null,
   "id": "c69adf7d",
   "metadata": {},
   "outputs": [],
   "source": [
    "from sklearn.preprocessing import StandardScaler\n",
    "def StandardScaler(data):\n",
    "    le=StandardScaler()\n",
    "    le.fit(data)\n",
    "    x=le.transform(data)\n",
    "    dat1=pd.DataFrame(x)\n",
    "    dat1.columns=data.columns\n",
    "    data=data1\n",
    "    return data"
   ]
  },
  {
   "cell_type": "code",
   "execution_count": null,
   "id": "bf70b04f",
   "metadata": {},
   "outputs": [],
   "source": []
  },
  {
   "cell_type": "markdown",
   "id": "20be5e08",
   "metadata": {},
   "source": [
    "#### Pls find below git hub link for another project on linear regression"
   ]
  },
  {
   "cell_type": "markdown",
   "id": "e0a0090f",
   "metadata": {},
   "source": [
    "######    https://github.com/NagendraProjects/Forecast_Regression"
   ]
  },
  {
   "cell_type": "markdown",
   "id": "e5ba1fe7",
   "metadata": {},
   "source": [
    "##### By using above project in github, we will deploy the model"
   ]
  },
  {
   "cell_type": "code",
   "execution_count": null,
   "id": "c052e9a7",
   "metadata": {},
   "outputs": [],
   "source": []
  }
 ],
 "metadata": {
  "kernelspec": {
   "display_name": "Python 3 (ipykernel)",
   "language": "python",
   "name": "python3"
  },
  "language_info": {
   "codemirror_mode": {
    "name": "ipython",
    "version": 3
   },
   "file_extension": ".py",
   "mimetype": "text/x-python",
   "name": "python",
   "nbconvert_exporter": "python",
   "pygments_lexer": "ipython3",
   "version": "3.10.6"
  }
 },
 "nbformat": 4,
 "nbformat_minor": 5
}
